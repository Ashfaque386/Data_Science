{
 "cells": [
  {
   "cell_type": "code",
   "execution_count": 1,
   "metadata": {},
   "outputs": [],
   "source": [
    "import numpy as np\n",
    "import pandas as pd\n",
    "import matplotlib.pyplot as plt\n",
    "import datetime as dt\n",
    "import seaborn as sns\n",
    "import re\n",
    "\n",
    "# set the graphs to show in the jupyter notebook\n",
    "%matplotlib inline\n",
    "\n",
    "# set seabor graphs to a better style\n",
    "sns.set(style=\"ticks\")"
   ]
  },
  {
   "cell_type": "markdown",
   "metadata": {},
   "source": [
    "## Importing Data"
   ]
  },
  {
   "cell_type": "code",
   "execution_count": 2,
   "metadata": {},
   "outputs": [],
   "source": [
    "customer_acq = pd.read_csv(\"D:/AnalytixLab/00 - Assignment & Case Studies/02 - Data Science Using Python(DSP)/Python foundation Assignments & Case studies/3. Python Foundation Case Studies/Case Study 2 - Credit Card Case Study/Customer Acqusition.csv\")\n",
    "\n",
    "repayment = pd.read_csv(\"D:/AnalytixLab/00 - Assignment & Case Studies/02 - Data Science Using Python(DSP)/Python foundation Assignments & Case studies/3. Python Foundation Case Studies/Case Study 2 - Credit Card Case Study/Repayment.csv\")\n",
    "\n",
    "spend = pd.read_csv(\"D:/AnalytixLab/00 - Assignment & Case Studies/02 - Data Science Using Python(DSP)/Python foundation Assignments & Case studies/3. Python Foundation Case Studies/Case Study 2 - Credit Card Case Study/spend.csv\")"
   ]
  },
  {
   "cell_type": "markdown",
   "metadata": {},
   "source": [
    "### Droping unwanted columns"
   ]
  },
  {
   "cell_type": "code",
   "execution_count": 3,
   "metadata": {},
   "outputs": [],
   "source": [
    "del customer_acq['No']"
   ]
  },
  {
   "cell_type": "code",
   "execution_count": 4,
   "metadata": {},
   "outputs": [],
   "source": [
    "del spend['Sl No:']"
   ]
  },
  {
   "cell_type": "code",
   "execution_count": 5,
   "metadata": {},
   "outputs": [],
   "source": [
    "repayment.drop(columns=['SL No:','Unnamed: 4'],axis=1,inplace=True)"
   ]
  },
  {
   "cell_type": "markdown",
   "metadata": {},
   "source": [
    "### Merging Data"
   ]
  },
  {
   "cell_type": "code",
   "execution_count": 6,
   "metadata": {},
   "outputs": [],
   "source": [
    "cust_spend = pd.merge(left = customer_acq, right = spend,how='inner', left_on='Customer',right_on='Customer')"
   ]
  },
  {
   "cell_type": "code",
   "execution_count": 7,
   "metadata": {},
   "outputs": [],
   "source": [
    "credit_card_data = pd.merge(left = cust_spend, right = repayment, how='inner', left_on='Customer',right_on='Customer')"
   ]
  },
  {
   "cell_type": "code",
   "execution_count": 8,
   "metadata": {},
   "outputs": [
    {
     "data": {
      "text/html": [
       "<div>\n",
       "<style scoped>\n",
       "    .dataframe tbody tr th:only-of-type {\n",
       "        vertical-align: middle;\n",
       "    }\n",
       "\n",
       "    .dataframe tbody tr th {\n",
       "        vertical-align: top;\n",
       "    }\n",
       "\n",
       "    .dataframe thead th {\n",
       "        text-align: right;\n",
       "    }\n",
       "</style>\n",
       "<table border=\"1\" class=\"dataframe\">\n",
       "  <thead>\n",
       "    <tr style=\"text-align: right;\">\n",
       "      <th></th>\n",
       "      <th>Customer</th>\n",
       "      <th>Age</th>\n",
       "      <th>City</th>\n",
       "      <th>Product</th>\n",
       "      <th>Limit</th>\n",
       "      <th>Company</th>\n",
       "      <th>Segment</th>\n",
       "      <th>Month_x</th>\n",
       "      <th>Type</th>\n",
       "      <th>Amount_x</th>\n",
       "      <th>Month_y</th>\n",
       "      <th>Amount_y</th>\n",
       "    </tr>\n",
       "  </thead>\n",
       "  <tbody>\n",
       "    <tr>\n",
       "      <th>0</th>\n",
       "      <td>A1</td>\n",
       "      <td>76</td>\n",
       "      <td>BANGALORE</td>\n",
       "      <td>Gold</td>\n",
       "      <td>500000.0</td>\n",
       "      <td>C1</td>\n",
       "      <td>Self Employed</td>\n",
       "      <td>12-Jan-04</td>\n",
       "      <td>JEWELLERY</td>\n",
       "      <td>485470.8</td>\n",
       "      <td>12-Jan-04</td>\n",
       "      <td>495414.75</td>\n",
       "    </tr>\n",
       "    <tr>\n",
       "      <th>1</th>\n",
       "      <td>A1</td>\n",
       "      <td>76</td>\n",
       "      <td>BANGALORE</td>\n",
       "      <td>Gold</td>\n",
       "      <td>500000.0</td>\n",
       "      <td>C1</td>\n",
       "      <td>Self Employed</td>\n",
       "      <td>12-Jan-04</td>\n",
       "      <td>JEWELLERY</td>\n",
       "      <td>485470.8</td>\n",
       "      <td>3-Jan-04</td>\n",
       "      <td>245899.02</td>\n",
       "    </tr>\n",
       "    <tr>\n",
       "      <th>2</th>\n",
       "      <td>A1</td>\n",
       "      <td>76</td>\n",
       "      <td>BANGALORE</td>\n",
       "      <td>Gold</td>\n",
       "      <td>500000.0</td>\n",
       "      <td>C1</td>\n",
       "      <td>Self Employed</td>\n",
       "      <td>12-Jan-04</td>\n",
       "      <td>JEWELLERY</td>\n",
       "      <td>485470.8</td>\n",
       "      <td>15-Jan-04</td>\n",
       "      <td>259490.06</td>\n",
       "    </tr>\n",
       "    <tr>\n",
       "      <th>3</th>\n",
       "      <td>A1</td>\n",
       "      <td>76</td>\n",
       "      <td>BANGALORE</td>\n",
       "      <td>Gold</td>\n",
       "      <td>500000.0</td>\n",
       "      <td>C1</td>\n",
       "      <td>Self Employed</td>\n",
       "      <td>12-Jan-04</td>\n",
       "      <td>JEWELLERY</td>\n",
       "      <td>485470.8</td>\n",
       "      <td>25-Jan-04</td>\n",
       "      <td>437555.12</td>\n",
       "    </tr>\n",
       "    <tr>\n",
       "      <th>4</th>\n",
       "      <td>A1</td>\n",
       "      <td>76</td>\n",
       "      <td>BANGALORE</td>\n",
       "      <td>Gold</td>\n",
       "      <td>500000.0</td>\n",
       "      <td>C1</td>\n",
       "      <td>Self Employed</td>\n",
       "      <td>12-Jan-04</td>\n",
       "      <td>JEWELLERY</td>\n",
       "      <td>485470.8</td>\n",
       "      <td>17-Jan-05</td>\n",
       "      <td>165972.88</td>\n",
       "    </tr>\n",
       "  </tbody>\n",
       "</table>\n",
       "</div>"
      ],
      "text/plain": [
       "  Customer  Age       City Product     Limit Company        Segment  \\\n",
       "0       A1   76  BANGALORE    Gold  500000.0      C1  Self Employed   \n",
       "1       A1   76  BANGALORE    Gold  500000.0      C1  Self Employed   \n",
       "2       A1   76  BANGALORE    Gold  500000.0      C1  Self Employed   \n",
       "3       A1   76  BANGALORE    Gold  500000.0      C1  Self Employed   \n",
       "4       A1   76  BANGALORE    Gold  500000.0      C1  Self Employed   \n",
       "\n",
       "     Month_x       Type  Amount_x    Month_y   Amount_y  \n",
       "0  12-Jan-04  JEWELLERY  485470.8  12-Jan-04  495414.75  \n",
       "1  12-Jan-04  JEWELLERY  485470.8   3-Jan-04  245899.02  \n",
       "2  12-Jan-04  JEWELLERY  485470.8  15-Jan-04  259490.06  \n",
       "3  12-Jan-04  JEWELLERY  485470.8  25-Jan-04  437555.12  \n",
       "4  12-Jan-04  JEWELLERY  485470.8  17-Jan-05  165972.88  "
      ]
     },
     "execution_count": 8,
     "metadata": {},
     "output_type": "execute_result"
    }
   ],
   "source": [
    "credit_card_data.head()"
   ]
  },
  {
   "cell_type": "markdown",
   "metadata": {},
   "source": [
    "### Renaming columns"
   ]
  },
  {
   "cell_type": "code",
   "execution_count": 9,
   "metadata": {},
   "outputs": [],
   "source": [
    "credit_card_data.rename(columns={'Month_x':'Spend_Month', 'Amount_x':'Spend_Amount','Month_y':'Repay_Month','Amount_y':'Repay_Amount'},inplace=True)"
   ]
  },
  {
   "cell_type": "code",
   "execution_count": 10,
   "metadata": {},
   "outputs": [
    {
     "data": {
      "text/html": [
       "<div>\n",
       "<style scoped>\n",
       "    .dataframe tbody tr th:only-of-type {\n",
       "        vertical-align: middle;\n",
       "    }\n",
       "\n",
       "    .dataframe tbody tr th {\n",
       "        vertical-align: top;\n",
       "    }\n",
       "\n",
       "    .dataframe thead th {\n",
       "        text-align: right;\n",
       "    }\n",
       "</style>\n",
       "<table border=\"1\" class=\"dataframe\">\n",
       "  <thead>\n",
       "    <tr style=\"text-align: right;\">\n",
       "      <th></th>\n",
       "      <th>Customer</th>\n",
       "      <th>Age</th>\n",
       "      <th>City</th>\n",
       "      <th>Product</th>\n",
       "      <th>Limit</th>\n",
       "      <th>Company</th>\n",
       "      <th>Segment</th>\n",
       "      <th>Spend_Month</th>\n",
       "      <th>Type</th>\n",
       "      <th>Spend_Amount</th>\n",
       "      <th>Repay_Month</th>\n",
       "      <th>Repay_Amount</th>\n",
       "    </tr>\n",
       "  </thead>\n",
       "  <tbody>\n",
       "    <tr>\n",
       "      <th>0</th>\n",
       "      <td>A1</td>\n",
       "      <td>76</td>\n",
       "      <td>BANGALORE</td>\n",
       "      <td>Gold</td>\n",
       "      <td>500000.0</td>\n",
       "      <td>C1</td>\n",
       "      <td>Self Employed</td>\n",
       "      <td>12-Jan-04</td>\n",
       "      <td>JEWELLERY</td>\n",
       "      <td>485470.8</td>\n",
       "      <td>12-Jan-04</td>\n",
       "      <td>495414.75</td>\n",
       "    </tr>\n",
       "    <tr>\n",
       "      <th>1</th>\n",
       "      <td>A1</td>\n",
       "      <td>76</td>\n",
       "      <td>BANGALORE</td>\n",
       "      <td>Gold</td>\n",
       "      <td>500000.0</td>\n",
       "      <td>C1</td>\n",
       "      <td>Self Employed</td>\n",
       "      <td>12-Jan-04</td>\n",
       "      <td>JEWELLERY</td>\n",
       "      <td>485470.8</td>\n",
       "      <td>3-Jan-04</td>\n",
       "      <td>245899.02</td>\n",
       "    </tr>\n",
       "    <tr>\n",
       "      <th>2</th>\n",
       "      <td>A1</td>\n",
       "      <td>76</td>\n",
       "      <td>BANGALORE</td>\n",
       "      <td>Gold</td>\n",
       "      <td>500000.0</td>\n",
       "      <td>C1</td>\n",
       "      <td>Self Employed</td>\n",
       "      <td>12-Jan-04</td>\n",
       "      <td>JEWELLERY</td>\n",
       "      <td>485470.8</td>\n",
       "      <td>15-Jan-04</td>\n",
       "      <td>259490.06</td>\n",
       "    </tr>\n",
       "    <tr>\n",
       "      <th>3</th>\n",
       "      <td>A1</td>\n",
       "      <td>76</td>\n",
       "      <td>BANGALORE</td>\n",
       "      <td>Gold</td>\n",
       "      <td>500000.0</td>\n",
       "      <td>C1</td>\n",
       "      <td>Self Employed</td>\n",
       "      <td>12-Jan-04</td>\n",
       "      <td>JEWELLERY</td>\n",
       "      <td>485470.8</td>\n",
       "      <td>25-Jan-04</td>\n",
       "      <td>437555.12</td>\n",
       "    </tr>\n",
       "    <tr>\n",
       "      <th>4</th>\n",
       "      <td>A1</td>\n",
       "      <td>76</td>\n",
       "      <td>BANGALORE</td>\n",
       "      <td>Gold</td>\n",
       "      <td>500000.0</td>\n",
       "      <td>C1</td>\n",
       "      <td>Self Employed</td>\n",
       "      <td>12-Jan-04</td>\n",
       "      <td>JEWELLERY</td>\n",
       "      <td>485470.8</td>\n",
       "      <td>17-Jan-05</td>\n",
       "      <td>165972.88</td>\n",
       "    </tr>\n",
       "  </tbody>\n",
       "</table>\n",
       "</div>"
      ],
      "text/plain": [
       "  Customer  Age       City Product     Limit Company        Segment  \\\n",
       "0       A1   76  BANGALORE    Gold  500000.0      C1  Self Employed   \n",
       "1       A1   76  BANGALORE    Gold  500000.0      C1  Self Employed   \n",
       "2       A1   76  BANGALORE    Gold  500000.0      C1  Self Employed   \n",
       "3       A1   76  BANGALORE    Gold  500000.0      C1  Self Employed   \n",
       "4       A1   76  BANGALORE    Gold  500000.0      C1  Self Employed   \n",
       "\n",
       "  Spend_Month       Type  Spend_Amount Repay_Month  Repay_Amount  \n",
       "0   12-Jan-04  JEWELLERY      485470.8   12-Jan-04     495414.75  \n",
       "1   12-Jan-04  JEWELLERY      485470.8    3-Jan-04     245899.02  \n",
       "2   12-Jan-04  JEWELLERY      485470.8   15-Jan-04     259490.06  \n",
       "3   12-Jan-04  JEWELLERY      485470.8   25-Jan-04     437555.12  \n",
       "4   12-Jan-04  JEWELLERY      485470.8   17-Jan-05     165972.88  "
      ]
     },
     "execution_count": 10,
     "metadata": {},
     "output_type": "execute_result"
    }
   ],
   "source": [
    "credit_card_data.head()"
   ]
  },
  {
   "cell_type": "code",
   "execution_count": 11,
   "metadata": {},
   "outputs": [
    {
     "data": {
      "text/plain": [
       "Customer         object\n",
       "Age               int64\n",
       "City             object\n",
       "Product          object\n",
       "Limit           float64\n",
       "Company          object\n",
       "Segment          object\n",
       "Spend_Month      object\n",
       "Type             object\n",
       "Spend_Amount    float64\n",
       "Repay_Month      object\n",
       "Repay_Amount    float64\n",
       "dtype: object"
      ]
     },
     "execution_count": 11,
     "metadata": {},
     "output_type": "execute_result"
    }
   ],
   "source": [
    "credit_card_data.dtypes"
   ]
  },
  {
   "cell_type": "code",
   "execution_count": 12,
   "metadata": {},
   "outputs": [],
   "source": [
    "credit_card_data['Spend_Month'] = pd.to_datetime(credit_card_data.Spend_Month)"
   ]
  },
  {
   "cell_type": "code",
   "execution_count": 13,
   "metadata": {},
   "outputs": [],
   "source": [
    "credit_card_data['Repay_Month'] = pd.to_datetime(credit_card_data.Repay_Month)"
   ]
  },
  {
   "cell_type": "code",
   "execution_count": 14,
   "metadata": {},
   "outputs": [
    {
     "data": {
      "text/plain": [
       "Customer                object\n",
       "Age                      int64\n",
       "City                    object\n",
       "Product                 object\n",
       "Limit                  float64\n",
       "Company                 object\n",
       "Segment                 object\n",
       "Spend_Month     datetime64[ns]\n",
       "Type                    object\n",
       "Spend_Amount           float64\n",
       "Repay_Month     datetime64[ns]\n",
       "Repay_Amount           float64\n",
       "dtype: object"
      ]
     },
     "execution_count": 14,
     "metadata": {},
     "output_type": "execute_result"
    }
   ],
   "source": [
    "credit_card_data.dtypes"
   ]
  },
  {
   "cell_type": "markdown",
   "metadata": {},
   "source": [
    "### 1. In the above dataset"
   ]
  },
  {
   "cell_type": "markdown",
   "metadata": {},
   "source": [
    "**a. In case age is less than 18, replace it with mean of age values**"
   ]
  },
  {
   "cell_type": "code",
   "execution_count": 15,
   "metadata": {},
   "outputs": [],
   "source": [
    "mean_age = round(credit_card_data.Age.mean())"
   ]
  },
  {
   "cell_type": "code",
   "execution_count": 16,
   "metadata": {},
   "outputs": [],
   "source": [
    "credit_card_data.loc[credit_card_data['Age'] < 18, 'Age'] = mean_age"
   ]
  },
  {
   "cell_type": "code",
   "execution_count": 17,
   "metadata": {},
   "outputs": [
    {
     "data": {
      "text/html": [
       "<div>\n",
       "<style scoped>\n",
       "    .dataframe tbody tr th:only-of-type {\n",
       "        vertical-align: middle;\n",
       "    }\n",
       "\n",
       "    .dataframe tbody tr th {\n",
       "        vertical-align: top;\n",
       "    }\n",
       "\n",
       "    .dataframe thead th {\n",
       "        text-align: right;\n",
       "    }\n",
       "</style>\n",
       "<table border=\"1\" class=\"dataframe\">\n",
       "  <thead>\n",
       "    <tr style=\"text-align: right;\">\n",
       "      <th></th>\n",
       "      <th>Customer</th>\n",
       "      <th>Age</th>\n",
       "      <th>City</th>\n",
       "      <th>Product</th>\n",
       "      <th>Limit</th>\n",
       "      <th>Company</th>\n",
       "      <th>Segment</th>\n",
       "      <th>Spend_Month</th>\n",
       "      <th>Type</th>\n",
       "      <th>Spend_Amount</th>\n",
       "      <th>Repay_Month</th>\n",
       "      <th>Repay_Amount</th>\n",
       "    </tr>\n",
       "  </thead>\n",
       "  <tbody>\n",
       "    <tr>\n",
       "      <th>0</th>\n",
       "      <td>A1</td>\n",
       "      <td>76</td>\n",
       "      <td>BANGALORE</td>\n",
       "      <td>Gold</td>\n",
       "      <td>500000.0</td>\n",
       "      <td>C1</td>\n",
       "      <td>Self Employed</td>\n",
       "      <td>2004-01-12</td>\n",
       "      <td>JEWELLERY</td>\n",
       "      <td>485470.8</td>\n",
       "      <td>2004-01-12</td>\n",
       "      <td>495414.75</td>\n",
       "    </tr>\n",
       "    <tr>\n",
       "      <th>1</th>\n",
       "      <td>A1</td>\n",
       "      <td>76</td>\n",
       "      <td>BANGALORE</td>\n",
       "      <td>Gold</td>\n",
       "      <td>500000.0</td>\n",
       "      <td>C1</td>\n",
       "      <td>Self Employed</td>\n",
       "      <td>2004-01-12</td>\n",
       "      <td>JEWELLERY</td>\n",
       "      <td>485470.8</td>\n",
       "      <td>2004-01-03</td>\n",
       "      <td>245899.02</td>\n",
       "    </tr>\n",
       "    <tr>\n",
       "      <th>2</th>\n",
       "      <td>A1</td>\n",
       "      <td>76</td>\n",
       "      <td>BANGALORE</td>\n",
       "      <td>Gold</td>\n",
       "      <td>500000.0</td>\n",
       "      <td>C1</td>\n",
       "      <td>Self Employed</td>\n",
       "      <td>2004-01-12</td>\n",
       "      <td>JEWELLERY</td>\n",
       "      <td>485470.8</td>\n",
       "      <td>2004-01-15</td>\n",
       "      <td>259490.06</td>\n",
       "    </tr>\n",
       "    <tr>\n",
       "      <th>3</th>\n",
       "      <td>A1</td>\n",
       "      <td>76</td>\n",
       "      <td>BANGALORE</td>\n",
       "      <td>Gold</td>\n",
       "      <td>500000.0</td>\n",
       "      <td>C1</td>\n",
       "      <td>Self Employed</td>\n",
       "      <td>2004-01-12</td>\n",
       "      <td>JEWELLERY</td>\n",
       "      <td>485470.8</td>\n",
       "      <td>2004-01-25</td>\n",
       "      <td>437555.12</td>\n",
       "    </tr>\n",
       "    <tr>\n",
       "      <th>4</th>\n",
       "      <td>A1</td>\n",
       "      <td>76</td>\n",
       "      <td>BANGALORE</td>\n",
       "      <td>Gold</td>\n",
       "      <td>500000.0</td>\n",
       "      <td>C1</td>\n",
       "      <td>Self Employed</td>\n",
       "      <td>2004-01-12</td>\n",
       "      <td>JEWELLERY</td>\n",
       "      <td>485470.8</td>\n",
       "      <td>2005-01-17</td>\n",
       "      <td>165972.88</td>\n",
       "    </tr>\n",
       "  </tbody>\n",
       "</table>\n",
       "</div>"
      ],
      "text/plain": [
       "  Customer  Age       City Product     Limit Company        Segment  \\\n",
       "0       A1   76  BANGALORE    Gold  500000.0      C1  Self Employed   \n",
       "1       A1   76  BANGALORE    Gold  500000.0      C1  Self Employed   \n",
       "2       A1   76  BANGALORE    Gold  500000.0      C1  Self Employed   \n",
       "3       A1   76  BANGALORE    Gold  500000.0      C1  Self Employed   \n",
       "4       A1   76  BANGALORE    Gold  500000.0      C1  Self Employed   \n",
       "\n",
       "  Spend_Month       Type  Spend_Amount Repay_Month  Repay_Amount  \n",
       "0  2004-01-12  JEWELLERY      485470.8  2004-01-12     495414.75  \n",
       "1  2004-01-12  JEWELLERY      485470.8  2004-01-03     245899.02  \n",
       "2  2004-01-12  JEWELLERY      485470.8  2004-01-15     259490.06  \n",
       "3  2004-01-12  JEWELLERY      485470.8  2004-01-25     437555.12  \n",
       "4  2004-01-12  JEWELLERY      485470.8  2005-01-17     165972.88  "
      ]
     },
     "execution_count": 17,
     "metadata": {},
     "output_type": "execute_result"
    }
   ],
   "source": [
    "credit_card_data.head()"
   ]
  },
  {
   "cell_type": "markdown",
   "metadata": {},
   "source": [
    "**b. In case spend amount is more than the limit, replace it with 50% of that customer’s limit.\n",
    "(customer’s limit provided in acquisition table is the per transaction limit on his card)**"
   ]
  },
  {
   "cell_type": "code",
   "execution_count": null,
   "metadata": {},
   "outputs": [],
   "source": []
  },
  {
   "cell_type": "code",
   "execution_count": 18,
   "metadata": {},
   "outputs": [
    {
     "data": {
      "text/plain": [
       "array([485470.8, 485470.8, 485470.8, ...,   5000.5,   5001. ,  50000. ])"
      ]
     },
     "execution_count": 18,
     "metadata": {},
     "output_type": "execute_result"
    }
   ],
   "source": [
    "np.where((credit_card_data.Spend_Amount > credit_card_data.Limit), (credit_card_data.Limit/2), (credit_card_data.Spend_Amount))"
   ]
  },
  {
   "cell_type": "code",
   "execution_count": 19,
   "metadata": {},
   "outputs": [],
   "source": [
    "credit_card_data['Spend_Amount'] = np.where((credit_card_data.Spend_Amount > credit_card_data.Limit), (credit_card_data.Limit/2), (credit_card_data.Spend_Amount))"
   ]
  },
  {
   "cell_type": "code",
   "execution_count": 20,
   "metadata": {},
   "outputs": [
    {
     "data": {
      "text/plain": [
       "0"
      ]
     },
     "execution_count": 20,
     "metadata": {},
     "output_type": "execute_result"
    }
   ],
   "source": [
    "(credit_card_data.Spend_Amount > credit_card_data.Limit).sum()"
   ]
  },
  {
   "cell_type": "markdown",
   "metadata": {},
   "source": [
    "**c. Incase the repayment amount is more than the limit, replace the repayment with the limit.**"
   ]
  },
  {
   "cell_type": "code",
   "execution_count": 21,
   "metadata": {},
   "outputs": [
    {
     "data": {
      "text/plain": [
       "0        False\n",
       "1        False\n",
       "2        False\n",
       "3        False\n",
       "4        False\n",
       "         ...  \n",
       "37279     True\n",
       "37280     True\n",
       "37281     True\n",
       "37282     True\n",
       "37283    False\n",
       "Length: 37284, dtype: bool"
      ]
     },
     "execution_count": 21,
     "metadata": {},
     "output_type": "execute_result"
    }
   ],
   "source": [
    "credit_card_data.Repay_Amount > credit_card_data.Limit"
   ]
  },
  {
   "cell_type": "code",
   "execution_count": 22,
   "metadata": {},
   "outputs": [
    {
     "data": {
      "text/plain": [
       "array([495414.75, 245899.02, 259490.06, ...,  10001.  ,  10002.  ,\n",
       "        69551.19])"
      ]
     },
     "execution_count": 22,
     "metadata": {},
     "output_type": "execute_result"
    }
   ],
   "source": [
    "np.where((credit_card_data.Repay_Amount > credit_card_data.Limit),(credit_card_data.Limit),(credit_card_data.Repay_Amount))"
   ]
  },
  {
   "cell_type": "code",
   "execution_count": 23,
   "metadata": {},
   "outputs": [],
   "source": [
    "credit_card_data['Repay_Amount'] = np.where((credit_card_data.Repay_Amount > credit_card_data.Limit),(credit_card_data.Limit),(credit_card_data.Repay_Amount))"
   ]
  },
  {
   "cell_type": "markdown",
   "metadata": {},
   "source": [
    "### 2. From the above dataset create the following summaries:"
   ]
  },
  {
   "cell_type": "markdown",
   "metadata": {},
   "source": [
    "**a. How many distinct customers exist?**"
   ]
  },
  {
   "cell_type": "code",
   "execution_count": 24,
   "metadata": {},
   "outputs": [
    {
     "data": {
      "text/plain": [
       "Customer    100\n",
       "dtype: int64"
      ]
     },
     "execution_count": 24,
     "metadata": {},
     "output_type": "execute_result"
    }
   ],
   "source": [
    "credit_card_data.loc[-credit_card_data.Customer.duplicated(),['Customer']].count()"
   ]
  },
  {
   "cell_type": "markdown",
   "metadata": {},
   "source": [
    "**b. How many distinct categories exist?**"
   ]
  },
  {
   "cell_type": "code",
   "execution_count": 25,
   "metadata": {},
   "outputs": [
    {
     "name": "stdout",
     "output_type": "stream",
     "text": [
      "The count of distinct product categories is equals to  3\n"
     ]
    }
   ],
   "source": [
    "#(credit_card_data.Product.value_counts())\n",
    "num_cat = len(credit_card_data.Product.value_counts())\n",
    "print('The count of distinct product categories is equals to ',num_cat)"
   ]
  },
  {
   "cell_type": "raw",
   "metadata": {},
   "source": [
    "credit_card_data.loc[-credit_card_data.Product.duplicated(),['Product']]"
   ]
  },
  {
   "cell_type": "raw",
   "metadata": {},
   "source": [
    "The count of distinct product categories is equals to 3."
   ]
  },
  {
   "cell_type": "markdown",
   "metadata": {},
   "source": [
    "**c. What is the average monthly spend by customers?**"
   ]
  },
  {
   "cell_type": "code",
   "execution_count": 27,
   "metadata": {},
   "outputs": [],
   "source": [
    "credit_card_data['Sp_Month'] = credit_card_data['Spend_Month'].apply(lambda x:x.month)"
   ]
  },
  {
   "cell_type": "code",
   "execution_count": 28,
   "metadata": {},
   "outputs": [],
   "source": [
    "Avg_monthly_spend = credit_card_data.groupby(['Customer','Sp_Month'])[['Spend_Amount']].mean().add_prefix('Avg_').reset_index()"
   ]
  },
  {
   "cell_type": "code",
   "execution_count": 29,
   "metadata": {},
   "outputs": [
    {
     "data": {
      "text/html": [
       "<div>\n",
       "<style scoped>\n",
       "    .dataframe tbody tr th:only-of-type {\n",
       "        vertical-align: middle;\n",
       "    }\n",
       "\n",
       "    .dataframe tbody tr th {\n",
       "        vertical-align: top;\n",
       "    }\n",
       "\n",
       "    .dataframe thead th {\n",
       "        text-align: right;\n",
       "    }\n",
       "</style>\n",
       "<table border=\"1\" class=\"dataframe\">\n",
       "  <thead>\n",
       "    <tr style=\"text-align: right;\">\n",
       "      <th></th>\n",
       "      <th>Customer</th>\n",
       "      <th>Sp_Month</th>\n",
       "      <th>Avg_Spend_Amount</th>\n",
       "    </tr>\n",
       "  </thead>\n",
       "  <tbody>\n",
       "    <tr>\n",
       "      <th>0</th>\n",
       "      <td>A1</td>\n",
       "      <td>1</td>\n",
       "      <td>372762.59</td>\n",
       "    </tr>\n",
       "    <tr>\n",
       "      <th>1</th>\n",
       "      <td>A1</td>\n",
       "      <td>2</td>\n",
       "      <td>175235.69</td>\n",
       "    </tr>\n",
       "    <tr>\n",
       "      <th>2</th>\n",
       "      <td>A1</td>\n",
       "      <td>4</td>\n",
       "      <td>261649.25</td>\n",
       "    </tr>\n",
       "    <tr>\n",
       "      <th>3</th>\n",
       "      <td>A1</td>\n",
       "      <td>5</td>\n",
       "      <td>361141.31</td>\n",
       "    </tr>\n",
       "    <tr>\n",
       "      <th>4</th>\n",
       "      <td>A1</td>\n",
       "      <td>8</td>\n",
       "      <td>344372.10</td>\n",
       "    </tr>\n",
       "    <tr>\n",
       "      <th>...</th>\n",
       "      <td>...</td>\n",
       "      <td>...</td>\n",
       "      <td>...</td>\n",
       "    </tr>\n",
       "    <tr>\n",
       "      <th>573</th>\n",
       "      <td>A95</td>\n",
       "      <td>1</td>\n",
       "      <td>240401.50</td>\n",
       "    </tr>\n",
       "    <tr>\n",
       "      <th>574</th>\n",
       "      <td>A96</td>\n",
       "      <td>1</td>\n",
       "      <td>54729.66</td>\n",
       "    </tr>\n",
       "    <tr>\n",
       "      <th>575</th>\n",
       "      <td>A97</td>\n",
       "      <td>1</td>\n",
       "      <td>5000.00</td>\n",
       "    </tr>\n",
       "    <tr>\n",
       "      <th>576</th>\n",
       "      <td>A98</td>\n",
       "      <td>1</td>\n",
       "      <td>5000.50</td>\n",
       "    </tr>\n",
       "    <tr>\n",
       "      <th>577</th>\n",
       "      <td>A99</td>\n",
       "      <td>1</td>\n",
       "      <td>5001.00</td>\n",
       "    </tr>\n",
       "  </tbody>\n",
       "</table>\n",
       "<p>578 rows × 3 columns</p>\n",
       "</div>"
      ],
      "text/plain": [
       "    Customer  Sp_Month  Avg_Spend_Amount\n",
       "0         A1         1         372762.59\n",
       "1         A1         2         175235.69\n",
       "2         A1         4         261649.25\n",
       "3         A1         5         361141.31\n",
       "4         A1         8         344372.10\n",
       "..       ...       ...               ...\n",
       "573      A95         1         240401.50\n",
       "574      A96         1          54729.66\n",
       "575      A97         1           5000.00\n",
       "576      A98         1           5000.50\n",
       "577      A99         1           5001.00\n",
       "\n",
       "[578 rows x 3 columns]"
      ]
     },
     "execution_count": 29,
     "metadata": {},
     "output_type": "execute_result"
    }
   ],
   "source": [
    "Avg_monthly_spend.round(2)"
   ]
  },
  {
   "cell_type": "markdown",
   "metadata": {},
   "source": [
    "**d. What is the average monthly repayment by customers?**"
   ]
  },
  {
   "cell_type": "code",
   "execution_count": 30,
   "metadata": {},
   "outputs": [],
   "source": [
    "credit_card_data['Rep_Month'] = credit_card_data['Repay_Month'].apply(lambda x:x.month)"
   ]
  },
  {
   "cell_type": "code",
   "execution_count": 31,
   "metadata": {},
   "outputs": [],
   "source": [
    "Avg_monthly_repayment = credit_card_data.groupby(['Customer','Rep_Month'])[['Repay_Amount']].mean().add_prefix('Avg_').reset_index()"
   ]
  },
  {
   "cell_type": "code",
   "execution_count": 32,
   "metadata": {},
   "outputs": [
    {
     "data": {
      "text/html": [
       "<div>\n",
       "<style scoped>\n",
       "    .dataframe tbody tr th:only-of-type {\n",
       "        vertical-align: middle;\n",
       "    }\n",
       "\n",
       "    .dataframe tbody tr th {\n",
       "        vertical-align: top;\n",
       "    }\n",
       "\n",
       "    .dataframe thead th {\n",
       "        text-align: right;\n",
       "    }\n",
       "</style>\n",
       "<table border=\"1\" class=\"dataframe\">\n",
       "  <thead>\n",
       "    <tr style=\"text-align: right;\">\n",
       "      <th></th>\n",
       "      <th>Customer</th>\n",
       "      <th>Rep_Month</th>\n",
       "      <th>Avg_Repay_Amount</th>\n",
       "    </tr>\n",
       "  </thead>\n",
       "  <tbody>\n",
       "    <tr>\n",
       "      <th>0</th>\n",
       "      <td>A1</td>\n",
       "      <td>1</td>\n",
       "      <td>343972.33</td>\n",
       "    </tr>\n",
       "    <tr>\n",
       "      <th>1</th>\n",
       "      <td>A1</td>\n",
       "      <td>2</td>\n",
       "      <td>156374.76</td>\n",
       "    </tr>\n",
       "    <tr>\n",
       "      <th>2</th>\n",
       "      <td>A1</td>\n",
       "      <td>4</td>\n",
       "      <td>254474.58</td>\n",
       "    </tr>\n",
       "    <tr>\n",
       "      <th>3</th>\n",
       "      <td>A1</td>\n",
       "      <td>7</td>\n",
       "      <td>297176.74</td>\n",
       "    </tr>\n",
       "    <tr>\n",
       "      <th>4</th>\n",
       "      <td>A1</td>\n",
       "      <td>9</td>\n",
       "      <td>186427.50</td>\n",
       "    </tr>\n",
       "    <tr>\n",
       "      <th>...</th>\n",
       "      <td>...</td>\n",
       "      <td>...</td>\n",
       "      <td>...</td>\n",
       "    </tr>\n",
       "    <tr>\n",
       "      <th>553</th>\n",
       "      <td>A95</td>\n",
       "      <td>1</td>\n",
       "      <td>369405.96</td>\n",
       "    </tr>\n",
       "    <tr>\n",
       "      <th>554</th>\n",
       "      <td>A96</td>\n",
       "      <td>1</td>\n",
       "      <td>100000.00</td>\n",
       "    </tr>\n",
       "    <tr>\n",
       "      <th>555</th>\n",
       "      <td>A97</td>\n",
       "      <td>1</td>\n",
       "      <td>10000.00</td>\n",
       "    </tr>\n",
       "    <tr>\n",
       "      <th>556</th>\n",
       "      <td>A98</td>\n",
       "      <td>1</td>\n",
       "      <td>10001.00</td>\n",
       "    </tr>\n",
       "    <tr>\n",
       "      <th>557</th>\n",
       "      <td>A99</td>\n",
       "      <td>1</td>\n",
       "      <td>10002.00</td>\n",
       "    </tr>\n",
       "  </tbody>\n",
       "</table>\n",
       "<p>558 rows × 3 columns</p>\n",
       "</div>"
      ],
      "text/plain": [
       "    Customer  Rep_Month  Avg_Repay_Amount\n",
       "0         A1          1         343972.33\n",
       "1         A1          2         156374.76\n",
       "2         A1          4         254474.58\n",
       "3         A1          7         297176.74\n",
       "4         A1          9         186427.50\n",
       "..       ...        ...               ...\n",
       "553      A95          1         369405.96\n",
       "554      A96          1         100000.00\n",
       "555      A97          1          10000.00\n",
       "556      A98          1          10001.00\n",
       "557      A99          1          10002.00\n",
       "\n",
       "[558 rows x 3 columns]"
      ]
     },
     "execution_count": 32,
     "metadata": {},
     "output_type": "execute_result"
    }
   ],
   "source": [
    "Avg_monthly_repayment.round(2)"
   ]
  },
  {
   "cell_type": "markdown",
   "metadata": {},
   "source": [
    "**e. If the monthly rate of interest is 2.9%, what is the profit for the bank for each month?\n",
    "<br/>\n",
    "(Profit is defined as interest earned on Monthly Profit. Monthly Profit = Monthly repayment – Monthly spend. Interest is earned only on positive profits and not on negative amounts)**"
   ]
  },
  {
   "cell_type": "code",
   "execution_count": 33,
   "metadata": {},
   "outputs": [],
   "source": [
    "credit_card_data['Monthly_Profit'] = (credit_card_data.Repay_Amount) - (credit_card_data.Spend_Amount)"
   ]
  },
  {
   "cell_type": "code",
   "execution_count": 34,
   "metadata": {},
   "outputs": [
    {
     "data": {
      "text/plain": [
       "array([288.37455,       nan,       nan, ..., 145.0145 , 145.029  ,\n",
       "       566.98451])"
      ]
     },
     "execution_count": 34,
     "metadata": {},
     "output_type": "execute_result"
    }
   ],
   "source": [
    "np.where((credit_card_data['Monthly_Profit'] > 0),(credit_card_data['Monthly_Profit'] * (2.9 / 100)), np.nan)"
   ]
  },
  {
   "cell_type": "code",
   "execution_count": 35,
   "metadata": {},
   "outputs": [],
   "source": [
    "credit_card_data['Profit'] = np.where((credit_card_data['Monthly_Profit'] > 0),(credit_card_data['Monthly_Profit'] * (2.9 / 100)), np.nan)"
   ]
  },
  {
   "cell_type": "code",
   "execution_count": 36,
   "metadata": {},
   "outputs": [
    {
     "data": {
      "text/html": [
       "<div>\n",
       "<style scoped>\n",
       "    .dataframe tbody tr th:only-of-type {\n",
       "        vertical-align: middle;\n",
       "    }\n",
       "\n",
       "    .dataframe tbody tr th {\n",
       "        vertical-align: top;\n",
       "    }\n",
       "\n",
       "    .dataframe thead th {\n",
       "        text-align: right;\n",
       "    }\n",
       "</style>\n",
       "<table border=\"1\" class=\"dataframe\">\n",
       "  <thead>\n",
       "    <tr style=\"text-align: right;\">\n",
       "      <th></th>\n",
       "      <th>Customer</th>\n",
       "      <th>Sp_Month</th>\n",
       "      <th>Rep_Month</th>\n",
       "      <th>Profit</th>\n",
       "    </tr>\n",
       "  </thead>\n",
       "  <tbody>\n",
       "    <tr>\n",
       "      <th>0</th>\n",
       "      <td>A1</td>\n",
       "      <td>1</td>\n",
       "      <td>1</td>\n",
       "      <td>85906.24470</td>\n",
       "    </tr>\n",
       "    <tr>\n",
       "      <th>1</th>\n",
       "      <td>A1</td>\n",
       "      <td>1</td>\n",
       "      <td>2</td>\n",
       "      <td>19500.71795</td>\n",
       "    </tr>\n",
       "    <tr>\n",
       "      <th>2</th>\n",
       "      <td>A1</td>\n",
       "      <td>1</td>\n",
       "      <td>4</td>\n",
       "      <td>16632.86271</td>\n",
       "    </tr>\n",
       "    <tr>\n",
       "      <th>3</th>\n",
       "      <td>A1</td>\n",
       "      <td>1</td>\n",
       "      <td>7</td>\n",
       "      <td>7929.65212</td>\n",
       "    </tr>\n",
       "    <tr>\n",
       "      <th>4</th>\n",
       "      <td>A1</td>\n",
       "      <td>1</td>\n",
       "      <td>9</td>\n",
       "      <td>4717.92416</td>\n",
       "    </tr>\n",
       "    <tr>\n",
       "      <th>...</th>\n",
       "      <td>...</td>\n",
       "      <td>...</td>\n",
       "      <td>...</td>\n",
       "      <td>...</td>\n",
       "    </tr>\n",
       "    <tr>\n",
       "      <th>4526</th>\n",
       "      <td>A95</td>\n",
       "      <td>1</td>\n",
       "      <td>1</td>\n",
       "      <td>3741.12934</td>\n",
       "    </tr>\n",
       "    <tr>\n",
       "      <th>4527</th>\n",
       "      <td>A96</td>\n",
       "      <td>1</td>\n",
       "      <td>1</td>\n",
       "      <td>1312.83986</td>\n",
       "    </tr>\n",
       "    <tr>\n",
       "      <th>4528</th>\n",
       "      <td>A97</td>\n",
       "      <td>1</td>\n",
       "      <td>1</td>\n",
       "      <td>145.00000</td>\n",
       "    </tr>\n",
       "    <tr>\n",
       "      <th>4529</th>\n",
       "      <td>A98</td>\n",
       "      <td>1</td>\n",
       "      <td>1</td>\n",
       "      <td>145.01450</td>\n",
       "    </tr>\n",
       "    <tr>\n",
       "      <th>4530</th>\n",
       "      <td>A99</td>\n",
       "      <td>1</td>\n",
       "      <td>1</td>\n",
       "      <td>145.02900</td>\n",
       "    </tr>\n",
       "  </tbody>\n",
       "</table>\n",
       "<p>4531 rows × 4 columns</p>\n",
       "</div>"
      ],
      "text/plain": [
       "     Customer  Sp_Month  Rep_Month       Profit\n",
       "0          A1         1          1  85906.24470\n",
       "1          A1         1          2  19500.71795\n",
       "2          A1         1          4  16632.86271\n",
       "3          A1         1          7   7929.65212\n",
       "4          A1         1          9   4717.92416\n",
       "...       ...       ...        ...          ...\n",
       "4526      A95         1          1   3741.12934\n",
       "4527      A96         1          1   1312.83986\n",
       "4528      A97         1          1    145.00000\n",
       "4529      A98         1          1    145.01450\n",
       "4530      A99         1          1    145.02900\n",
       "\n",
       "[4531 rows x 4 columns]"
      ]
     },
     "execution_count": 36,
     "metadata": {},
     "output_type": "execute_result"
    }
   ],
   "source": [
    "credit_card_data.groupby(['Customer','Sp_Month','Rep_Month'])[['Profit']].sum().reset_index()"
   ]
  },
  {
   "cell_type": "markdown",
   "metadata": {},
   "source": [
    "**f. What are the top 5 product types?**"
   ]
  },
  {
   "cell_type": "code",
   "execution_count": 37,
   "metadata": {},
   "outputs": [],
   "source": [
    "Top_5_prod_type = credit_card_data.groupby(['Type'])[['Type']].count().add_prefix('Count_of_').reset_index().sort_values(by='Count_of_Type',ascending=False).head(5)"
   ]
  },
  {
   "cell_type": "code",
   "execution_count": 38,
   "metadata": {},
   "outputs": [
    {
     "data": {
      "text/html": [
       "<div>\n",
       "<style scoped>\n",
       "    .dataframe tbody tr th:only-of-type {\n",
       "        vertical-align: middle;\n",
       "    }\n",
       "\n",
       "    .dataframe tbody tr th {\n",
       "        vertical-align: top;\n",
       "    }\n",
       "\n",
       "    .dataframe thead th {\n",
       "        text-align: right;\n",
       "    }\n",
       "</style>\n",
       "<table border=\"1\" class=\"dataframe\">\n",
       "  <thead>\n",
       "    <tr style=\"text-align: right;\">\n",
       "      <th></th>\n",
       "      <th>Type</th>\n",
       "      <th>Count_of_Type</th>\n",
       "    </tr>\n",
       "  </thead>\n",
       "  <tbody>\n",
       "    <tr>\n",
       "      <th>10</th>\n",
       "      <td>PETRO</td>\n",
       "      <td>4829</td>\n",
       "    </tr>\n",
       "    <tr>\n",
       "      <th>4</th>\n",
       "      <td>CAMERA</td>\n",
       "      <td>4237</td>\n",
       "    </tr>\n",
       "    <tr>\n",
       "      <th>7</th>\n",
       "      <td>FOOD</td>\n",
       "      <td>4056</td>\n",
       "    </tr>\n",
       "    <tr>\n",
       "      <th>0</th>\n",
       "      <td>AIR TICKET</td>\n",
       "      <td>3537</td>\n",
       "    </tr>\n",
       "    <tr>\n",
       "      <th>14</th>\n",
       "      <td>TRAIN TICKET</td>\n",
       "      <td>3387</td>\n",
       "    </tr>\n",
       "  </tbody>\n",
       "</table>\n",
       "</div>"
      ],
      "text/plain": [
       "            Type  Count_of_Type\n",
       "10         PETRO           4829\n",
       "4         CAMERA           4237\n",
       "7           FOOD           4056\n",
       "0     AIR TICKET           3537\n",
       "14  TRAIN TICKET           3387"
      ]
     },
     "execution_count": 38,
     "metadata": {},
     "output_type": "execute_result"
    }
   ],
   "source": [
    "Top_5_prod_type"
   ]
  },
  {
   "cell_type": "markdown",
   "metadata": {},
   "source": [
    "**g. Which city is having maximum spend?**"
   ]
  },
  {
   "cell_type": "code",
   "execution_count": 39,
   "metadata": {},
   "outputs": [
    {
     "data": {
      "text/html": [
       "<div>\n",
       "<style scoped>\n",
       "    .dataframe tbody tr th:only-of-type {\n",
       "        vertical-align: middle;\n",
       "    }\n",
       "\n",
       "    .dataframe tbody tr th {\n",
       "        vertical-align: top;\n",
       "    }\n",
       "\n",
       "    .dataframe thead th {\n",
       "        text-align: right;\n",
       "    }\n",
       "</style>\n",
       "<table border=\"1\" class=\"dataframe\">\n",
       "  <thead>\n",
       "    <tr style=\"text-align: right;\">\n",
       "      <th></th>\n",
       "      <th>City</th>\n",
       "      <th>Spend_Amount</th>\n",
       "    </tr>\n",
       "  </thead>\n",
       "  <tbody>\n",
       "    <tr>\n",
       "      <th>4</th>\n",
       "      <td>COCHIN</td>\n",
       "      <td>1.175903e+09</td>\n",
       "    </tr>\n",
       "  </tbody>\n",
       "</table>\n",
       "</div>"
      ],
      "text/plain": [
       "     City  Spend_Amount\n",
       "4  COCHIN  1.175903e+09"
      ]
     },
     "execution_count": 39,
     "metadata": {},
     "output_type": "execute_result"
    }
   ],
   "source": [
    "credit_card_data.groupby(['City'])[['Spend_Amount']].sum().reset_index().sort_values(by='Spend_Amount',ascending=False).head(1)"
   ]
  },
  {
   "cell_type": "markdown",
   "metadata": {},
   "source": [
    "**h. Which age group is spending more money?**"
   ]
  },
  {
   "cell_type": "code",
   "execution_count": 40,
   "metadata": {},
   "outputs": [],
   "source": [
    "age_group = np.where((credit_card_data.Age >= 18) & (credit_card_data.Age < 25), 'Youth',\n",
    "                     np.where((credit_card_data.Age >= 25) & (credit_card_data.Age < 65), 'Adult','Senior'))"
   ]
  },
  {
   "cell_type": "code",
   "execution_count": 41,
   "metadata": {},
   "outputs": [],
   "source": [
    "credit_card_data['Age_Group'] = age_group"
   ]
  },
  {
   "cell_type": "code",
   "execution_count": 42,
   "metadata": {},
   "outputs": [
    {
     "data": {
      "text/html": [
       "<div>\n",
       "<style scoped>\n",
       "    .dataframe tbody tr th:only-of-type {\n",
       "        vertical-align: middle;\n",
       "    }\n",
       "\n",
       "    .dataframe tbody tr th {\n",
       "        vertical-align: top;\n",
       "    }\n",
       "\n",
       "    .dataframe thead th {\n",
       "        text-align: right;\n",
       "    }\n",
       "</style>\n",
       "<table border=\"1\" class=\"dataframe\">\n",
       "  <thead>\n",
       "    <tr style=\"text-align: right;\">\n",
       "      <th></th>\n",
       "      <th>Age_Group</th>\n",
       "      <th>Spend_Amount</th>\n",
       "    </tr>\n",
       "  </thead>\n",
       "  <tbody>\n",
       "    <tr>\n",
       "      <th>0</th>\n",
       "      <td>Adult</td>\n",
       "      <td>4.445854e+09</td>\n",
       "    </tr>\n",
       "    <tr>\n",
       "      <th>1</th>\n",
       "      <td>Senior</td>\n",
       "      <td>8.884293e+08</td>\n",
       "    </tr>\n",
       "    <tr>\n",
       "      <th>2</th>\n",
       "      <td>Youth</td>\n",
       "      <td>4.137042e+08</td>\n",
       "    </tr>\n",
       "  </tbody>\n",
       "</table>\n",
       "</div>"
      ],
      "text/plain": [
       "  Age_Group  Spend_Amount\n",
       "0     Adult  4.445854e+09\n",
       "1    Senior  8.884293e+08\n",
       "2     Youth  4.137042e+08"
      ]
     },
     "execution_count": 42,
     "metadata": {},
     "output_type": "execute_result"
    }
   ],
   "source": [
    "credit_card_data.groupby(['Age_Group'])[['Spend_Amount']].sum().reset_index().sort_values(by='Spend_Amount',ascending=False)"
   ]
  },
  {
   "cell_type": "raw",
   "metadata": {},
   "source": [
    "Hence, Age Group \"Adult\"(25 or 65) is spending more money."
   ]
  },
  {
   "cell_type": "markdown",
   "metadata": {},
   "source": [
    "**i. Who are the top 10 customers in terms of repayment?**"
   ]
  },
  {
   "cell_type": "code",
   "execution_count": 43,
   "metadata": {},
   "outputs": [
    {
     "data": {
      "text/html": [
       "<div>\n",
       "<style scoped>\n",
       "    .dataframe tbody tr th:only-of-type {\n",
       "        vertical-align: middle;\n",
       "    }\n",
       "\n",
       "    .dataframe tbody tr th {\n",
       "        vertical-align: top;\n",
       "    }\n",
       "\n",
       "    .dataframe thead th {\n",
       "        text-align: right;\n",
       "    }\n",
       "</style>\n",
       "<table border=\"1\" class=\"dataframe\">\n",
       "  <thead>\n",
       "    <tr style=\"text-align: right;\">\n",
       "      <th></th>\n",
       "      <th>Customer</th>\n",
       "      <th>Repay_Amount</th>\n",
       "    </tr>\n",
       "  </thead>\n",
       "  <tbody>\n",
       "    <tr>\n",
       "      <th>58</th>\n",
       "      <td>A61</td>\n",
       "      <td>4.004874e+08</td>\n",
       "    </tr>\n",
       "    <tr>\n",
       "      <th>57</th>\n",
       "      <td>A60</td>\n",
       "      <td>3.752990e+08</td>\n",
       "    </tr>\n",
       "    <tr>\n",
       "      <th>5</th>\n",
       "      <td>A13</td>\n",
       "      <td>2.967320e+08</td>\n",
       "    </tr>\n",
       "    <tr>\n",
       "      <th>38</th>\n",
       "      <td>A43</td>\n",
       "      <td>2.631860e+08</td>\n",
       "    </tr>\n",
       "    <tr>\n",
       "      <th>40</th>\n",
       "      <td>A45</td>\n",
       "      <td>2.618984e+08</td>\n",
       "    </tr>\n",
       "    <tr>\n",
       "      <th>4</th>\n",
       "      <td>A12</td>\n",
       "      <td>2.583776e+08</td>\n",
       "    </tr>\n",
       "    <tr>\n",
       "      <th>6</th>\n",
       "      <td>A14</td>\n",
       "      <td>2.462413e+08</td>\n",
       "    </tr>\n",
       "    <tr>\n",
       "      <th>39</th>\n",
       "      <td>A44</td>\n",
       "      <td>2.400866e+08</td>\n",
       "    </tr>\n",
       "    <tr>\n",
       "      <th>33</th>\n",
       "      <td>A39</td>\n",
       "      <td>2.362970e+08</td>\n",
       "    </tr>\n",
       "    <tr>\n",
       "      <th>37</th>\n",
       "      <td>A42</td>\n",
       "      <td>2.360793e+08</td>\n",
       "    </tr>\n",
       "  </tbody>\n",
       "</table>\n",
       "</div>"
      ],
      "text/plain": [
       "   Customer  Repay_Amount\n",
       "58      A61  4.004874e+08\n",
       "57      A60  3.752990e+08\n",
       "5       A13  2.967320e+08\n",
       "38      A43  2.631860e+08\n",
       "40      A45  2.618984e+08\n",
       "4       A12  2.583776e+08\n",
       "6       A14  2.462413e+08\n",
       "39      A44  2.400866e+08\n",
       "33      A39  2.362970e+08\n",
       "37      A42  2.360793e+08"
      ]
     },
     "execution_count": 43,
     "metadata": {},
     "output_type": "execute_result"
    }
   ],
   "source": [
    "credit_card_data.groupby(['Customer'])[['Repay_Amount']].sum().reset_index().sort_values(by='Repay_Amount',ascending=False).head(10)"
   ]
  },
  {
   "cell_type": "markdown",
   "metadata": {},
   "source": [
    "### 3. Calculate the city wise spend on each product on yearly basis. Also include a graphical representation for the same."
   ]
  },
  {
   "cell_type": "code",
   "execution_count": 44,
   "metadata": {},
   "outputs": [],
   "source": [
    "credit_card_data['Spend_Year'] = credit_card_data['Spend_Month'].apply(lambda x:x.year)"
   ]
  },
  {
   "cell_type": "code",
   "execution_count": 45,
   "metadata": {},
   "outputs": [],
   "source": [
    "city_yearly_data = credit_card_data.pivot_table(index='City',columns=['Product','Spend_Year'], values='Spend_Amount',aggfunc='sum')"
   ]
  },
  {
   "cell_type": "code",
   "execution_count": 46,
   "metadata": {},
   "outputs": [
    {
     "data": {
      "text/html": [
       "<div>\n",
       "<style scoped>\n",
       "    .dataframe tbody tr th:only-of-type {\n",
       "        vertical-align: middle;\n",
       "    }\n",
       "\n",
       "    .dataframe tbody tr th {\n",
       "        vertical-align: top;\n",
       "    }\n",
       "\n",
       "    .dataframe thead tr th {\n",
       "        text-align: left;\n",
       "    }\n",
       "\n",
       "    .dataframe thead tr:last-of-type th {\n",
       "        text-align: right;\n",
       "    }\n",
       "</style>\n",
       "<table border=\"1\" class=\"dataframe\">\n",
       "  <thead>\n",
       "    <tr>\n",
       "      <th>Product</th>\n",
       "      <th colspan=\"3\" halign=\"left\">Gold</th>\n",
       "      <th colspan=\"3\" halign=\"left\">Platimum</th>\n",
       "      <th colspan=\"3\" halign=\"left\">Silver</th>\n",
       "    </tr>\n",
       "    <tr>\n",
       "      <th>Spend_Year</th>\n",
       "      <th>2004</th>\n",
       "      <th>2005</th>\n",
       "      <th>2006</th>\n",
       "      <th>2004</th>\n",
       "      <th>2005</th>\n",
       "      <th>2006</th>\n",
       "      <th>2004</th>\n",
       "      <th>2005</th>\n",
       "      <th>2006</th>\n",
       "    </tr>\n",
       "    <tr>\n",
       "      <th>City</th>\n",
       "      <th></th>\n",
       "      <th></th>\n",
       "      <th></th>\n",
       "      <th></th>\n",
       "      <th></th>\n",
       "      <th></th>\n",
       "      <th></th>\n",
       "      <th></th>\n",
       "      <th></th>\n",
       "    </tr>\n",
       "  </thead>\n",
       "  <tbody>\n",
       "    <tr>\n",
       "      <th>BANGALORE</th>\n",
       "      <td>2.480069e+08</td>\n",
       "      <td>3.570769e+08</td>\n",
       "      <td>3.293757e+08</td>\n",
       "      <td>2.942657e+07</td>\n",
       "      <td>2.242526e+07</td>\n",
       "      <td>1.732873e+07</td>\n",
       "      <td>28450890.41</td>\n",
       "      <td>18538095.66</td>\n",
       "      <td>30685840.02</td>\n",
       "    </tr>\n",
       "    <tr>\n",
       "      <th>BOMBAY</th>\n",
       "      <td>1.877284e+08</td>\n",
       "      <td>2.488086e+08</td>\n",
       "      <td>2.035447e+08</td>\n",
       "      <td>2.344074e+07</td>\n",
       "      <td>1.833756e+07</td>\n",
       "      <td>2.429106e+07</td>\n",
       "      <td>17558937.99</td>\n",
       "      <td>15196573.82</td>\n",
       "      <td>20870001.80</td>\n",
       "    </tr>\n",
       "    <tr>\n",
       "      <th>CALCUTTA</th>\n",
       "      <td>2.061567e+08</td>\n",
       "      <td>2.851718e+08</td>\n",
       "      <td>2.993109e+08</td>\n",
       "      <td>6.083832e+07</td>\n",
       "      <td>1.320896e+08</td>\n",
       "      <td>1.049773e+08</td>\n",
       "      <td>7900114.00</td>\n",
       "      <td>6309944.06</td>\n",
       "      <td>11515401.92</td>\n",
       "    </tr>\n",
       "    <tr>\n",
       "      <th>CHENNAI</th>\n",
       "      <td>2.361608e+07</td>\n",
       "      <td>1.010055e+08</td>\n",
       "      <td>6.409397e+07</td>\n",
       "      <td>1.034750e+08</td>\n",
       "      <td>1.362300e+08</td>\n",
       "      <td>1.300648e+08</td>\n",
       "      <td>4146619.26</td>\n",
       "      <td>6789320.82</td>\n",
       "      <td>5450162.50</td>\n",
       "    </tr>\n",
       "    <tr>\n",
       "      <th>COCHIN</th>\n",
       "      <td>1.862197e+08</td>\n",
       "      <td>3.353611e+08</td>\n",
       "      <td>2.711839e+08</td>\n",
       "      <td>7.704631e+07</td>\n",
       "      <td>1.372711e+08</td>\n",
       "      <td>1.161266e+08</td>\n",
       "      <td>17184164.74</td>\n",
       "      <td>15081595.56</td>\n",
       "      <td>20428705.05</td>\n",
       "    </tr>\n",
       "    <tr>\n",
       "      <th>DELHI</th>\n",
       "      <td>7.807619e+07</td>\n",
       "      <td>4.731837e+07</td>\n",
       "      <td>6.887626e+07</td>\n",
       "      <td>5.103232e+06</td>\n",
       "      <td>8.894841e+06</td>\n",
       "      <td>3.182197e+06</td>\n",
       "      <td>18059029.10</td>\n",
       "      <td>14137723.47</td>\n",
       "      <td>19336599.39</td>\n",
       "    </tr>\n",
       "    <tr>\n",
       "      <th>PATNA</th>\n",
       "      <td>4.166130e+07</td>\n",
       "      <td>8.375387e+07</td>\n",
       "      <td>6.145691e+07</td>\n",
       "      <td>2.003525e+07</td>\n",
       "      <td>5.189816e+07</td>\n",
       "      <td>2.261048e+07</td>\n",
       "      <td>19749592.67</td>\n",
       "      <td>25353891.58</td>\n",
       "      <td>16950090.00</td>\n",
       "    </tr>\n",
       "    <tr>\n",
       "      <th>TRIVANDRUM</th>\n",
       "      <td>6.520778e+07</td>\n",
       "      <td>3.349015e+07</td>\n",
       "      <td>7.386419e+07</td>\n",
       "      <td>6.686198e+07</td>\n",
       "      <td>1.116447e+08</td>\n",
       "      <td>6.656952e+07</td>\n",
       "      <td>3819368.96</td>\n",
       "      <td>5128346.81</td>\n",
       "      <td>8811362.28</td>\n",
       "    </tr>\n",
       "  </tbody>\n",
       "</table>\n",
       "</div>"
      ],
      "text/plain": [
       "Product             Gold                                  Platimum  \\\n",
       "Spend_Year          2004          2005          2006          2004   \n",
       "City                                                                 \n",
       "BANGALORE   2.480069e+08  3.570769e+08  3.293757e+08  2.942657e+07   \n",
       "BOMBAY      1.877284e+08  2.488086e+08  2.035447e+08  2.344074e+07   \n",
       "CALCUTTA    2.061567e+08  2.851718e+08  2.993109e+08  6.083832e+07   \n",
       "CHENNAI     2.361608e+07  1.010055e+08  6.409397e+07  1.034750e+08   \n",
       "COCHIN      1.862197e+08  3.353611e+08  2.711839e+08  7.704631e+07   \n",
       "DELHI       7.807619e+07  4.731837e+07  6.887626e+07  5.103232e+06   \n",
       "PATNA       4.166130e+07  8.375387e+07  6.145691e+07  2.003525e+07   \n",
       "TRIVANDRUM  6.520778e+07  3.349015e+07  7.386419e+07  6.686198e+07   \n",
       "\n",
       "Product                                      Silver                            \n",
       "Spend_Year          2005          2006         2004         2005         2006  \n",
       "City                                                                           \n",
       "BANGALORE   2.242526e+07  1.732873e+07  28450890.41  18538095.66  30685840.02  \n",
       "BOMBAY      1.833756e+07  2.429106e+07  17558937.99  15196573.82  20870001.80  \n",
       "CALCUTTA    1.320896e+08  1.049773e+08   7900114.00   6309944.06  11515401.92  \n",
       "CHENNAI     1.362300e+08  1.300648e+08   4146619.26   6789320.82   5450162.50  \n",
       "COCHIN      1.372711e+08  1.161266e+08  17184164.74  15081595.56  20428705.05  \n",
       "DELHI       8.894841e+06  3.182197e+06  18059029.10  14137723.47  19336599.39  \n",
       "PATNA       5.189816e+07  2.261048e+07  19749592.67  25353891.58  16950090.00  \n",
       "TRIVANDRUM  1.116447e+08  6.656952e+07   3819368.96   5128346.81   8811362.28  "
      ]
     },
     "execution_count": 46,
     "metadata": {},
     "output_type": "execute_result"
    }
   ],
   "source": [
    "city_yearly_data"
   ]
  },
  {
   "cell_type": "code",
   "execution_count": 47,
   "metadata": {},
   "outputs": [
    {
     "data": {
      "image/png": "[encoded data removed]",
      "text/plain": [
       "<Figure size 864x504 with 1 Axes>"
      ]
     },
     "metadata": {},
     "output_type": "display_data"
    }
   ],
   "source": [
    "city_yearly_data.plot(kind='bar',stacked=True,figsize=(12,7))\n",
    "plt.show()"
   ]
  },
  {
   "cell_type": "markdown",
   "metadata": {},
   "source": [
    "### 4. Create graphs for"
   ]
  },
  {
   "cell_type": "markdown",
   "metadata": {},
   "source": [
    "**a. Monthly comparison of total spends, city wise**"
   ]
  },
  {
   "cell_type": "code",
   "execution_count": 48,
   "metadata": {},
   "outputs": [],
   "source": [
    "city_monthly_data = credit_card_data.pivot_table(index='City',columns='Sp_Month',values='Spend_Amount',aggfunc='sum')"
   ]
  },
  {
   "cell_type": "code",
   "execution_count": 49,
   "metadata": {},
   "outputs": [
    {
     "data": {
      "text/html": [
       "<div>\n",
       "<style scoped>\n",
       "    .dataframe tbody tr th:only-of-type {\n",
       "        vertical-align: middle;\n",
       "    }\n",
       "\n",
       "    .dataframe tbody tr th {\n",
       "        vertical-align: top;\n",
       "    }\n",
       "\n",
       "    .dataframe thead th {\n",
       "        text-align: right;\n",
       "    }\n",
       "</style>\n",
       "<table border=\"1\" class=\"dataframe\">\n",
       "  <thead>\n",
       "    <tr style=\"text-align: right;\">\n",
       "      <th>Sp_Month</th>\n",
       "      <th>1</th>\n",
       "      <th>2</th>\n",
       "      <th>3</th>\n",
       "      <th>4</th>\n",
       "      <th>5</th>\n",
       "      <th>6</th>\n",
       "      <th>7</th>\n",
       "      <th>8</th>\n",
       "      <th>9</th>\n",
       "      <th>10</th>\n",
       "      <th>11</th>\n",
       "      <th>12</th>\n",
       "    </tr>\n",
       "    <tr>\n",
       "      <th>City</th>\n",
       "      <th></th>\n",
       "      <th></th>\n",
       "      <th></th>\n",
       "      <th></th>\n",
       "      <th></th>\n",
       "      <th></th>\n",
       "      <th></th>\n",
       "      <th></th>\n",
       "      <th></th>\n",
       "      <th></th>\n",
       "      <th></th>\n",
       "      <th></th>\n",
       "    </tr>\n",
       "  </thead>\n",
       "  <tbody>\n",
       "    <tr>\n",
       "      <th>BANGALORE</th>\n",
       "      <td>2.308396e+08</td>\n",
       "      <td>1.808167e+08</td>\n",
       "      <td>1.478226e+08</td>\n",
       "      <td>1.088377e+08</td>\n",
       "      <td>1.842610e+08</td>\n",
       "      <td>38098675.85</td>\n",
       "      <td>62811919.03</td>\n",
       "      <td>16695838.23</td>\n",
       "      <td>20693566.68</td>\n",
       "      <td>28794309.77</td>\n",
       "      <td>49241684.48</td>\n",
       "      <td>12401380.32</td>\n",
       "    </tr>\n",
       "    <tr>\n",
       "      <th>BOMBAY</th>\n",
       "      <td>1.657191e+08</td>\n",
       "      <td>1.142322e+08</td>\n",
       "      <td>1.238290e+08</td>\n",
       "      <td>5.067203e+07</td>\n",
       "      <td>1.093972e+08</td>\n",
       "      <td>33989961.54</td>\n",
       "      <td>5609515.92</td>\n",
       "      <td>27596729.90</td>\n",
       "      <td>36466397.78</td>\n",
       "      <td>19050861.82</td>\n",
       "      <td>69522146.75</td>\n",
       "      <td>3691255.51</td>\n",
       "    </tr>\n",
       "    <tr>\n",
       "      <th>CALCUTTA</th>\n",
       "      <td>2.528739e+08</td>\n",
       "      <td>2.234892e+08</td>\n",
       "      <td>1.163380e+08</td>\n",
       "      <td>9.974951e+07</td>\n",
       "      <td>1.401690e+08</td>\n",
       "      <td>70764215.28</td>\n",
       "      <td>64326094.60</td>\n",
       "      <td>43250072.85</td>\n",
       "      <td>44493633.37</td>\n",
       "      <td>6087092.73</td>\n",
       "      <td>51679262.35</td>\n",
       "      <td>1050029.00</td>\n",
       "    </tr>\n",
       "    <tr>\n",
       "      <th>CHENNAI</th>\n",
       "      <td>1.133370e+08</td>\n",
       "      <td>1.050935e+08</td>\n",
       "      <td>8.379331e+07</td>\n",
       "      <td>6.624061e+07</td>\n",
       "      <td>7.506119e+07</td>\n",
       "      <td>38571506.96</td>\n",
       "      <td>18143886.69</td>\n",
       "      <td>9482155.07</td>\n",
       "      <td>21374396.26</td>\n",
       "      <td>2968696.23</td>\n",
       "      <td>36556171.44</td>\n",
       "      <td>4248937.13</td>\n",
       "    </tr>\n",
       "    <tr>\n",
       "      <th>COCHIN</th>\n",
       "      <td>2.998696e+08</td>\n",
       "      <td>1.383145e+08</td>\n",
       "      <td>1.340073e+08</td>\n",
       "      <td>9.495228e+07</td>\n",
       "      <td>1.715836e+08</td>\n",
       "      <td>67373517.38</td>\n",
       "      <td>36781492.53</td>\n",
       "      <td>63316326.70</td>\n",
       "      <td>34924790.49</td>\n",
       "      <td>25895885.26</td>\n",
       "      <td>86150592.00</td>\n",
       "      <td>22733423.84</td>\n",
       "    </tr>\n",
       "    <tr>\n",
       "      <th>DELHI</th>\n",
       "      <td>6.745755e+07</td>\n",
       "      <td>2.928012e+07</td>\n",
       "      <td>5.442077e+07</td>\n",
       "      <td>2.034442e+07</td>\n",
       "      <td>4.445052e+07</td>\n",
       "      <td>14799531.29</td>\n",
       "      <td>900027.00</td>\n",
       "      <td>3745844.82</td>\n",
       "      <td>1350027.00</td>\n",
       "      <td>2003079.26</td>\n",
       "      <td>11289916.26</td>\n",
       "      <td>12942622.21</td>\n",
       "    </tr>\n",
       "    <tr>\n",
       "      <th>PATNA</th>\n",
       "      <td>1.020357e+08</td>\n",
       "      <td>5.310983e+07</td>\n",
       "      <td>3.450787e+07</td>\n",
       "      <td>5.646233e+07</td>\n",
       "      <td>4.887660e+07</td>\n",
       "      <td>16031350.34</td>\n",
       "      <td>1550000.00</td>\n",
       "      <td>11183984.84</td>\n",
       "      <td>1265939.10</td>\n",
       "      <td>8897508.18</td>\n",
       "      <td>7998382.35</td>\n",
       "      <td>1550000.00</td>\n",
       "    </tr>\n",
       "    <tr>\n",
       "      <th>TRIVANDRUM</th>\n",
       "      <td>1.069499e+08</td>\n",
       "      <td>8.137284e+07</td>\n",
       "      <td>6.626960e+07</td>\n",
       "      <td>3.230813e+07</td>\n",
       "      <td>7.987620e+07</td>\n",
       "      <td>12410441.73</td>\n",
       "      <td>8075019.50</td>\n",
       "      <td>13466986.14</td>\n",
       "      <td>5767974.70</td>\n",
       "      <td>7710711.84</td>\n",
       "      <td>3622461.04</td>\n",
       "      <td>17567213.50</td>\n",
       "    </tr>\n",
       "  </tbody>\n",
       "</table>\n",
       "</div>"
      ],
      "text/plain": [
       "Sp_Month              1             2             3             4   \\\n",
       "City                                                                 \n",
       "BANGALORE   2.308396e+08  1.808167e+08  1.478226e+08  1.088377e+08   \n",
       "BOMBAY      1.657191e+08  1.142322e+08  1.238290e+08  5.067203e+07   \n",
       "CALCUTTA    2.528739e+08  2.234892e+08  1.163380e+08  9.974951e+07   \n",
       "CHENNAI     1.133370e+08  1.050935e+08  8.379331e+07  6.624061e+07   \n",
       "COCHIN      2.998696e+08  1.383145e+08  1.340073e+08  9.495228e+07   \n",
       "DELHI       6.745755e+07  2.928012e+07  5.442077e+07  2.034442e+07   \n",
       "PATNA       1.020357e+08  5.310983e+07  3.450787e+07  5.646233e+07   \n",
       "TRIVANDRUM  1.069499e+08  8.137284e+07  6.626960e+07  3.230813e+07   \n",
       "\n",
       "Sp_Month              5            6            7            8            9   \\\n",
       "City                                                                           \n",
       "BANGALORE   1.842610e+08  38098675.85  62811919.03  16695838.23  20693566.68   \n",
       "BOMBAY      1.093972e+08  33989961.54   5609515.92  27596729.90  36466397.78   \n",
       "CALCUTTA    1.401690e+08  70764215.28  64326094.60  43250072.85  44493633.37   \n",
       "CHENNAI     7.506119e+07  38571506.96  18143886.69   9482155.07  21374396.26   \n",
       "COCHIN      1.715836e+08  67373517.38  36781492.53  63316326.70  34924790.49   \n",
       "DELHI       4.445052e+07  14799531.29    900027.00   3745844.82   1350027.00   \n",
       "PATNA       4.887660e+07  16031350.34   1550000.00  11183984.84   1265939.10   \n",
       "TRIVANDRUM  7.987620e+07  12410441.73   8075019.50  13466986.14   5767974.70   \n",
       "\n",
       "Sp_Month             10           11           12  \n",
       "City                                               \n",
       "BANGALORE   28794309.77  49241684.48  12401380.32  \n",
       "BOMBAY      19050861.82  69522146.75   3691255.51  \n",
       "CALCUTTA     6087092.73  51679262.35   1050029.00  \n",
       "CHENNAI      2968696.23  36556171.44   4248937.13  \n",
       "COCHIN      25895885.26  86150592.00  22733423.84  \n",
       "DELHI        2003079.26  11289916.26  12942622.21  \n",
       "PATNA        8897508.18   7998382.35   1550000.00  \n",
       "TRIVANDRUM   7710711.84   3622461.04  17567213.50  "
      ]
     },
     "execution_count": 49,
     "metadata": {},
     "output_type": "execute_result"
    }
   ],
   "source": [
    "city_monthly_data"
   ]
  },
  {
   "cell_type": "code",
   "execution_count": 50,
   "metadata": {},
   "outputs": [
    {
     "data": {
      "text/plain": [
       "<AxesSubplot:xlabel='City'>"
      ]
     },
     "execution_count": 50,
     "metadata": {},
     "output_type": "execute_result"
    },
    {
     "data": {
      "image/png": "[encoded data removed]",
      "text/plain": [
       "<Figure size 864x504 with 1 Axes>"
      ]
     },
     "metadata": {},
     "output_type": "display_data"
    }
   ],
   "source": [
    "city_monthly_data.plot(kind='bar',stacked=True,figsize=(12,7))"
   ]
  },
  {
   "cell_type": "markdown",
   "metadata": {},
   "source": [
    "**b. Comparison of yearly spend on air tickets**"
   ]
  },
  {
   "cell_type": "code",
   "execution_count": 51,
   "metadata": {},
   "outputs": [],
   "source": [
    "Air_Ticket_Spend = credit_card_data[credit_card_data.Type == 'AIR TICKET'].pivot_table(index='Type',columns='Spend_Year',values='Spend_Amount',aggfunc='sum')"
   ]
  },
  {
   "cell_type": "code",
   "execution_count": 52,
   "metadata": {},
   "outputs": [
    {
     "data": {
      "text/html": [
       "<div>\n",
       "<style scoped>\n",
       "    .dataframe tbody tr th:only-of-type {\n",
       "        vertical-align: middle;\n",
       "    }\n",
       "\n",
       "    .dataframe tbody tr th {\n",
       "        vertical-align: top;\n",
       "    }\n",
       "\n",
       "    .dataframe thead th {\n",
       "        text-align: right;\n",
       "    }\n",
       "</style>\n",
       "<table border=\"1\" class=\"dataframe\">\n",
       "  <thead>\n",
       "    <tr style=\"text-align: right;\">\n",
       "      <th>Spend_Year</th>\n",
       "      <th>2004</th>\n",
       "      <th>2005</th>\n",
       "      <th>2006</th>\n",
       "    </tr>\n",
       "    <tr>\n",
       "      <th>Type</th>\n",
       "      <th></th>\n",
       "      <th></th>\n",
       "      <th></th>\n",
       "    </tr>\n",
       "  </thead>\n",
       "  <tbody>\n",
       "    <tr>\n",
       "      <th>AIR TICKET</th>\n",
       "      <td>1.126823e+08</td>\n",
       "      <td>2.878031e+08</td>\n",
       "      <td>1.396326e+08</td>\n",
       "    </tr>\n",
       "  </tbody>\n",
       "</table>\n",
       "</div>"
      ],
      "text/plain": [
       "Spend_Year          2004          2005          2006\n",
       "Type                                                \n",
       "AIR TICKET  1.126823e+08  2.878031e+08  1.396326e+08"
      ]
     },
     "execution_count": 52,
     "metadata": {},
     "output_type": "execute_result"
    }
   ],
   "source": [
    "Air_Ticket_Spend"
   ]
  },
  {
   "cell_type": "code",
   "execution_count": 53,
   "metadata": {},
   "outputs": [
    {
     "data": {
      "text/plain": [
       "<AxesSubplot:xlabel='Type'>"
      ]
     },
     "execution_count": 53,
     "metadata": {},
     "output_type": "execute_result"
    },
    {
     "data": {
      "image/png": "[encoded data removed]",
      "text/plain": [
       "<Figure size 576x504 with 1 Axes>"
      ]
     },
     "metadata": {},
     "output_type": "display_data"
    }
   ],
   "source": [
    "Air_Ticket_Spend.plot(kind='bar', figsize=(8,7))"
   ]
  },
  {
   "cell_type": "markdown",
   "metadata": {},
   "source": [
    "**c. Comparison of monthly spend for each product (look for any seasonality that exists in terms of spend)**"
   ]
  },
  {
   "cell_type": "code",
   "execution_count": 54,
   "metadata": {},
   "outputs": [
    {
     "data": {
      "text/html": [
       "<div>\n",
       "<style scoped>\n",
       "    .dataframe tbody tr th:only-of-type {\n",
       "        vertical-align: middle;\n",
       "    }\n",
       "\n",
       "    .dataframe tbody tr th {\n",
       "        vertical-align: top;\n",
       "    }\n",
       "\n",
       "    .dataframe thead th {\n",
       "        text-align: right;\n",
       "    }\n",
       "</style>\n",
       "<table border=\"1\" class=\"dataframe\">\n",
       "  <thead>\n",
       "    <tr style=\"text-align: right;\">\n",
       "      <th>Sp_Month</th>\n",
       "      <th>1</th>\n",
       "      <th>2</th>\n",
       "      <th>3</th>\n",
       "      <th>4</th>\n",
       "      <th>5</th>\n",
       "      <th>6</th>\n",
       "      <th>7</th>\n",
       "      <th>8</th>\n",
       "      <th>9</th>\n",
       "      <th>10</th>\n",
       "      <th>11</th>\n",
       "      <th>12</th>\n",
       "    </tr>\n",
       "    <tr>\n",
       "      <th>Product</th>\n",
       "      <th></th>\n",
       "      <th></th>\n",
       "      <th></th>\n",
       "      <th></th>\n",
       "      <th></th>\n",
       "      <th></th>\n",
       "      <th></th>\n",
       "      <th></th>\n",
       "      <th></th>\n",
       "      <th></th>\n",
       "      <th></th>\n",
       "      <th></th>\n",
       "    </tr>\n",
       "  </thead>\n",
       "  <tbody>\n",
       "    <tr>\n",
       "      <th>Gold</th>\n",
       "      <td>8.507658e+08</td>\n",
       "      <td>6.330246e+08</td>\n",
       "      <td>5.096947e+08</td>\n",
       "      <td>3.513289e+08</td>\n",
       "      <td>5.961399e+08</td>\n",
       "      <td>1.910250e+08</td>\n",
       "      <td>1.492207e+08</td>\n",
       "      <td>1.351418e+08</td>\n",
       "      <td>1.124056e+08</td>\n",
       "      <td>86089221.41</td>\n",
       "      <td>2.295267e+08</td>\n",
       "      <td>56003027.04</td>\n",
       "    </tr>\n",
       "    <tr>\n",
       "      <th>Platimum</th>\n",
       "      <td>3.919087e+08</td>\n",
       "      <td>2.516036e+08</td>\n",
       "      <td>1.942044e+08</td>\n",
       "      <td>1.332545e+08</td>\n",
       "      <td>2.119807e+08</td>\n",
       "      <td>8.224614e+07</td>\n",
       "      <td>3.586312e+07</td>\n",
       "      <td>4.622154e+07</td>\n",
       "      <td>4.432547e+07</td>\n",
       "      <td>13368895.18</td>\n",
       "      <td>7.011844e+07</td>\n",
       "      <td>15073981.25</td>\n",
       "    </tr>\n",
       "    <tr>\n",
       "      <th>Silver</th>\n",
       "      <td>9.640803e+07</td>\n",
       "      <td>4.108076e+07</td>\n",
       "      <td>5.708925e+07</td>\n",
       "      <td>4.498365e+07</td>\n",
       "      <td>4.555483e+07</td>\n",
       "      <td>1.876807e+07</td>\n",
       "      <td>1.311412e+07</td>\n",
       "      <td>7.374588e+06</td>\n",
       "      <td>9.605663e+06</td>\n",
       "      <td>1950028.50</td>\n",
       "      <td>1.641553e+07</td>\n",
       "      <td>5107853.22</td>\n",
       "    </tr>\n",
       "  </tbody>\n",
       "</table>\n",
       "</div>"
      ],
      "text/plain": [
       "Sp_Month            1             2             3             4   \\\n",
       "Product                                                            \n",
       "Gold      8.507658e+08  6.330246e+08  5.096947e+08  3.513289e+08   \n",
       "Platimum  3.919087e+08  2.516036e+08  1.942044e+08  1.332545e+08   \n",
       "Silver    9.640803e+07  4.108076e+07  5.708925e+07  4.498365e+07   \n",
       "\n",
       "Sp_Month            5             6             7             8   \\\n",
       "Product                                                            \n",
       "Gold      5.961399e+08  1.910250e+08  1.492207e+08  1.351418e+08   \n",
       "Platimum  2.119807e+08  8.224614e+07  3.586312e+07  4.622154e+07   \n",
       "Silver    4.555483e+07  1.876807e+07  1.311412e+07  7.374588e+06   \n",
       "\n",
       "Sp_Month            9            10            11           12  \n",
       "Product                                                         \n",
       "Gold      1.124056e+08  86089221.41  2.295267e+08  56003027.04  \n",
       "Platimum  4.432547e+07  13368895.18  7.011844e+07  15073981.25  \n",
       "Silver    9.605663e+06   1950028.50  1.641553e+07   5107853.22  "
      ]
     },
     "execution_count": 54,
     "metadata": {},
     "output_type": "execute_result"
    }
   ],
   "source": [
    "credit_card_data.pivot_table(index='Product',columns='Sp_Month',values='Spend_Amount',aggfunc='sum')"
   ]
  },
  {
   "cell_type": "code",
   "execution_count": 55,
   "metadata": {},
   "outputs": [
    {
     "data": {
      "text/plain": [
       "<AxesSubplot:xlabel='Product'>"
      ]
     },
     "execution_count": 55,
     "metadata": {},
     "output_type": "execute_result"
    },
    {
     "data": {
      "image/png": "[encoded data removed]",
      "text/plain": [
       "<Figure size 864x360 with 1 Axes>"
      ]
     },
     "metadata": {},
     "output_type": "display_data"
    }
   ],
   "source": [
    "credit_card_data.pivot_table(index='Product',columns='Sp_Month',values='Spend_Amount',aggfunc='sum').plot(kind='bar',figsize=(12,5))"
   ]
  },
  {
   "cell_type": "code",
   "execution_count": 56,
   "metadata": {},
   "outputs": [
    {
     "data": {
      "text/html": [
       "<div>\n",
       "<style scoped>\n",
       "    .dataframe tbody tr th:only-of-type {\n",
       "        vertical-align: middle;\n",
       "    }\n",
       "\n",
       "    .dataframe tbody tr th {\n",
       "        vertical-align: top;\n",
       "    }\n",
       "\n",
       "    .dataframe thead th {\n",
       "        text-align: right;\n",
       "    }\n",
       "</style>\n",
       "<table border=\"1\" class=\"dataframe\">\n",
       "  <thead>\n",
       "    <tr style=\"text-align: right;\">\n",
       "      <th>Product</th>\n",
       "      <th>Gold</th>\n",
       "      <th>Platimum</th>\n",
       "      <th>Silver</th>\n",
       "    </tr>\n",
       "    <tr>\n",
       "      <th>Sp_Month</th>\n",
       "      <th></th>\n",
       "      <th></th>\n",
       "      <th></th>\n",
       "    </tr>\n",
       "  </thead>\n",
       "  <tbody>\n",
       "    <tr>\n",
       "      <th>1</th>\n",
       "      <td>8.507658e+08</td>\n",
       "      <td>3.919087e+08</td>\n",
       "      <td>96408029.18</td>\n",
       "    </tr>\n",
       "    <tr>\n",
       "      <th>2</th>\n",
       "      <td>6.330246e+08</td>\n",
       "      <td>2.516036e+08</td>\n",
       "      <td>41080764.24</td>\n",
       "    </tr>\n",
       "    <tr>\n",
       "      <th>3</th>\n",
       "      <td>5.096947e+08</td>\n",
       "      <td>1.942044e+08</td>\n",
       "      <td>57089253.13</td>\n",
       "    </tr>\n",
       "    <tr>\n",
       "      <th>4</th>\n",
       "      <td>3.513289e+08</td>\n",
       "      <td>1.332545e+08</td>\n",
       "      <td>44983650.40</td>\n",
       "    </tr>\n",
       "    <tr>\n",
       "      <th>5</th>\n",
       "      <td>5.961399e+08</td>\n",
       "      <td>2.119807e+08</td>\n",
       "      <td>45554826.55</td>\n",
       "    </tr>\n",
       "    <tr>\n",
       "      <th>6</th>\n",
       "      <td>1.910250e+08</td>\n",
       "      <td>8.224614e+07</td>\n",
       "      <td>18768070.55</td>\n",
       "    </tr>\n",
       "    <tr>\n",
       "      <th>7</th>\n",
       "      <td>1.492207e+08</td>\n",
       "      <td>3.586312e+07</td>\n",
       "      <td>13114119.94</td>\n",
       "    </tr>\n",
       "    <tr>\n",
       "      <th>8</th>\n",
       "      <td>1.351418e+08</td>\n",
       "      <td>4.622154e+07</td>\n",
       "      <td>7374587.70</td>\n",
       "    </tr>\n",
       "    <tr>\n",
       "      <th>9</th>\n",
       "      <td>1.124056e+08</td>\n",
       "      <td>4.432547e+07</td>\n",
       "      <td>9605663.01</td>\n",
       "    </tr>\n",
       "    <tr>\n",
       "      <th>10</th>\n",
       "      <td>8.608922e+07</td>\n",
       "      <td>1.336890e+07</td>\n",
       "      <td>1950028.50</td>\n",
       "    </tr>\n",
       "    <tr>\n",
       "      <th>11</th>\n",
       "      <td>2.295267e+08</td>\n",
       "      <td>7.011844e+07</td>\n",
       "      <td>16415525.45</td>\n",
       "    </tr>\n",
       "    <tr>\n",
       "      <th>12</th>\n",
       "      <td>5.600303e+07</td>\n",
       "      <td>1.507398e+07</td>\n",
       "      <td>5107853.22</td>\n",
       "    </tr>\n",
       "  </tbody>\n",
       "</table>\n",
       "</div>"
      ],
      "text/plain": [
       "Product           Gold      Platimum       Silver\n",
       "Sp_Month                                         \n",
       "1         8.507658e+08  3.919087e+08  96408029.18\n",
       "2         6.330246e+08  2.516036e+08  41080764.24\n",
       "3         5.096947e+08  1.942044e+08  57089253.13\n",
       "4         3.513289e+08  1.332545e+08  44983650.40\n",
       "5         5.961399e+08  2.119807e+08  45554826.55\n",
       "6         1.910250e+08  8.224614e+07  18768070.55\n",
       "7         1.492207e+08  3.586312e+07  13114119.94\n",
       "8         1.351418e+08  4.622154e+07   7374587.70\n",
       "9         1.124056e+08  4.432547e+07   9605663.01\n",
       "10        8.608922e+07  1.336890e+07   1950028.50\n",
       "11        2.295267e+08  7.011844e+07  16415525.45\n",
       "12        5.600303e+07  1.507398e+07   5107853.22"
      ]
     },
     "execution_count": 56,
     "metadata": {},
     "output_type": "execute_result"
    }
   ],
   "source": [
    "credit_card_data.pivot_table(index='Sp_Month',columns='Product',values='Spend_Amount',aggfunc='sum')"
   ]
  },
  {
   "cell_type": "code",
   "execution_count": 57,
   "metadata": {},
   "outputs": [
    {
     "data": {
      "text/plain": [
       "<AxesSubplot:xlabel='Sp_Month'>"
      ]
     },
     "execution_count": 57,
     "metadata": {},
     "output_type": "execute_result"
    },
    {
     "data": {
      "image/png": "[encoded data removed]",
      "text/plain": [
       "<Figure size 864x360 with 1 Axes>"
      ]
     },
     "metadata": {},
     "output_type": "display_data"
    }
   ],
   "source": [
    "credit_card_data.pivot_table(index='Sp_Month',columns='Product',values='Spend_Amount',aggfunc='sum').plot(kind='bar',figsize=(12,5))"
   ]
  },
  {
   "cell_type": "markdown",
   "metadata": {},
   "source": [
    "### 5. Write user defined PYTHON function to perform the following analysis:"
   ]
  },
  {
   "cell_type": "markdown",
   "metadata": {},
   "source": [
    "**You need to find top 10 customers for each city in terms of their repayment amount by different products and by different time periods i.e. year or month. The user should be able to specify the product (Gold/Silver/Platinum) and time period (yearly or monthly) and the function should automatically take these inputs while identifying the top 10 customers.**"
   ]
  },
  {
   "cell_type": "code",
   "execution_count": 58,
   "metadata": {},
   "outputs": [
    {
     "data": {
      "text/html": [
       "<div>\n",
       "<style scoped>\n",
       "    .dataframe tbody tr th:only-of-type {\n",
       "        vertical-align: middle;\n",
       "    }\n",
       "\n",
       "    .dataframe tbody tr th {\n",
       "        vertical-align: top;\n",
       "    }\n",
       "\n",
       "    .dataframe thead th {\n",
       "        text-align: right;\n",
       "    }\n",
       "</style>\n",
       "<table border=\"1\" class=\"dataframe\">\n",
       "  <thead>\n",
       "    <tr style=\"text-align: right;\">\n",
       "      <th></th>\n",
       "      <th>Customer</th>\n",
       "      <th>Age</th>\n",
       "      <th>City</th>\n",
       "      <th>Product</th>\n",
       "      <th>Limit</th>\n",
       "      <th>Company</th>\n",
       "      <th>Segment</th>\n",
       "      <th>Spend_Month</th>\n",
       "      <th>Type</th>\n",
       "      <th>Spend_Amount</th>\n",
       "      <th>Repay_Month</th>\n",
       "      <th>Repay_Amount</th>\n",
       "      <th>Sp_Month</th>\n",
       "      <th>Rep_Month</th>\n",
       "      <th>Monthly_Profit</th>\n",
       "      <th>Profit</th>\n",
       "      <th>Age_Group</th>\n",
       "      <th>Spend_Year</th>\n",
       "    </tr>\n",
       "  </thead>\n",
       "  <tbody>\n",
       "    <tr>\n",
       "      <th>0</th>\n",
       "      <td>A1</td>\n",
       "      <td>76</td>\n",
       "      <td>BANGALORE</td>\n",
       "      <td>Gold</td>\n",
       "      <td>500000.0</td>\n",
       "      <td>C1</td>\n",
       "      <td>Self Employed</td>\n",
       "      <td>2004-01-12</td>\n",
       "      <td>JEWELLERY</td>\n",
       "      <td>485470.8</td>\n",
       "      <td>2004-01-12</td>\n",
       "      <td>495414.75</td>\n",
       "      <td>1</td>\n",
       "      <td>1</td>\n",
       "      <td>9943.95</td>\n",
       "      <td>288.37455</td>\n",
       "      <td>Senior</td>\n",
       "      <td>2004</td>\n",
       "    </tr>\n",
       "    <tr>\n",
       "      <th>1</th>\n",
       "      <td>A1</td>\n",
       "      <td>76</td>\n",
       "      <td>BANGALORE</td>\n",
       "      <td>Gold</td>\n",
       "      <td>500000.0</td>\n",
       "      <td>C1</td>\n",
       "      <td>Self Employed</td>\n",
       "      <td>2004-01-12</td>\n",
       "      <td>JEWELLERY</td>\n",
       "      <td>485470.8</td>\n",
       "      <td>2004-01-03</td>\n",
       "      <td>245899.02</td>\n",
       "      <td>1</td>\n",
       "      <td>1</td>\n",
       "      <td>-239571.78</td>\n",
       "      <td>NaN</td>\n",
       "      <td>Senior</td>\n",
       "      <td>2004</td>\n",
       "    </tr>\n",
       "  </tbody>\n",
       "</table>\n",
       "</div>"
      ],
      "text/plain": [
       "  Customer  Age       City Product     Limit Company        Segment  \\\n",
       "0       A1   76  BANGALORE    Gold  500000.0      C1  Self Employed   \n",
       "1       A1   76  BANGALORE    Gold  500000.0      C1  Self Employed   \n",
       "\n",
       "  Spend_Month       Type  Spend_Amount Repay_Month  Repay_Amount  Sp_Month  \\\n",
       "0  2004-01-12  JEWELLERY      485470.8  2004-01-12     495414.75         1   \n",
       "1  2004-01-12  JEWELLERY      485470.8  2004-01-03     245899.02         1   \n",
       "\n",
       "   Rep_Month  Monthly_Profit     Profit Age_Group  Spend_Year  \n",
       "0          1         9943.95  288.37455    Senior        2004  \n",
       "1          1      -239571.78        NaN    Senior        2004  "
      ]
     },
     "execution_count": 58,
     "metadata": {},
     "output_type": "execute_result"
    }
   ],
   "source": [
    "credit_card_data.head(2)"
   ]
  },
  {
   "cell_type": "code",
   "execution_count": 59,
   "metadata": {},
   "outputs": [],
   "source": [
    "credit_card_data['Monthly_Repay'] = credit_card_data['Repay_Month'].apply(lambda x:x.month)\n",
    "credit_card_data['Yearly_Repay'] = credit_card_data['Repay_Month'].apply(lambda x:x.year)"
   ]
  },
  {
   "cell_type": "code",
   "execution_count": 60,
   "metadata": {},
   "outputs": [],
   "source": [
    "def top10Customer(product_category,time_period):\n",
    "    return credit_card_data.loc[(credit_card_data.Product == product_category)].groupby(['Customer','City','Product',time_period])[['Repay_Amount']].sum().reset_index().sort_values(by='Repay_Amount',ascending=False).head(10)"
   ]
  },
  {
   "cell_type": "code",
   "execution_count": 61,
   "metadata": {},
   "outputs": [
    {
     "name": "stdout",
     "output_type": "stream",
     "text": [
      "Please Enter Product Category and product category should be in Gold/Silver/Platinum: Silver\n",
      "Please Enter Time Period and time period should be in Yearly_Repay/Monthly_Repay: Yearly_Repay\n"
     ]
    },
    {
     "data": {
      "text/html": [
       "<div>\n",
       "<style scoped>\n",
       "    .dataframe tbody tr th:only-of-type {\n",
       "        vertical-align: middle;\n",
       "    }\n",
       "\n",
       "    .dataframe tbody tr th {\n",
       "        vertical-align: top;\n",
       "    }\n",
       "\n",
       "    .dataframe thead th {\n",
       "        text-align: right;\n",
       "    }\n",
       "</style>\n",
       "<table border=\"1\" class=\"dataframe\">\n",
       "  <thead>\n",
       "    <tr style=\"text-align: right;\">\n",
       "      <th></th>\n",
       "      <th>Customer</th>\n",
       "      <th>City</th>\n",
       "      <th>Product</th>\n",
       "      <th>Yearly_Repay</th>\n",
       "      <th>Repay_Amount</th>\n",
       "    </tr>\n",
       "  </thead>\n",
       "  <tbody>\n",
       "    <tr>\n",
       "      <th>8</th>\n",
       "      <td>A22</td>\n",
       "      <td>BOMBAY</td>\n",
       "      <td>Silver</td>\n",
       "      <td>2005</td>\n",
       "      <td>37670912.73</td>\n",
       "    </tr>\n",
       "    <tr>\n",
       "      <th>20</th>\n",
       "      <td>A46</td>\n",
       "      <td>PATNA</td>\n",
       "      <td>Silver</td>\n",
       "      <td>2005</td>\n",
       "      <td>34618657.59</td>\n",
       "    </tr>\n",
       "    <tr>\n",
       "      <th>14</th>\n",
       "      <td>A24</td>\n",
       "      <td>DELHI</td>\n",
       "      <td>Silver</td>\n",
       "      <td>2005</td>\n",
       "      <td>31991516.46</td>\n",
       "    </tr>\n",
       "    <tr>\n",
       "      <th>7</th>\n",
       "      <td>A22</td>\n",
       "      <td>BOMBAY</td>\n",
       "      <td>Silver</td>\n",
       "      <td>2004</td>\n",
       "      <td>31462842.51</td>\n",
       "    </tr>\n",
       "    <tr>\n",
       "      <th>9</th>\n",
       "      <td>A22</td>\n",
       "      <td>BOMBAY</td>\n",
       "      <td>Silver</td>\n",
       "      <td>2006</td>\n",
       "      <td>31193970.39</td>\n",
       "    </tr>\n",
       "    <tr>\n",
       "      <th>18</th>\n",
       "      <td>A25</td>\n",
       "      <td>COCHIN</td>\n",
       "      <td>Silver</td>\n",
       "      <td>2006</td>\n",
       "      <td>27000810.00</td>\n",
       "    </tr>\n",
       "    <tr>\n",
       "      <th>11</th>\n",
       "      <td>A23</td>\n",
       "      <td>BANGALORE</td>\n",
       "      <td>Silver</td>\n",
       "      <td>2005</td>\n",
       "      <td>27000270.00</td>\n",
       "    </tr>\n",
       "    <tr>\n",
       "      <th>21</th>\n",
       "      <td>A46</td>\n",
       "      <td>PATNA</td>\n",
       "      <td>Silver</td>\n",
       "      <td>2006</td>\n",
       "      <td>26016070.17</td>\n",
       "    </tr>\n",
       "    <tr>\n",
       "      <th>12</th>\n",
       "      <td>A23</td>\n",
       "      <td>BANGALORE</td>\n",
       "      <td>Silver</td>\n",
       "      <td>2006</td>\n",
       "      <td>23568983.64</td>\n",
       "    </tr>\n",
       "    <tr>\n",
       "      <th>19</th>\n",
       "      <td>A46</td>\n",
       "      <td>PATNA</td>\n",
       "      <td>Silver</td>\n",
       "      <td>2004</td>\n",
       "      <td>22122043.92</td>\n",
       "    </tr>\n",
       "  </tbody>\n",
       "</table>\n",
       "</div>"
      ],
      "text/plain": [
       "   Customer       City Product  Yearly_Repay  Repay_Amount\n",
       "8       A22     BOMBAY  Silver          2005   37670912.73\n",
       "20      A46      PATNA  Silver          2005   34618657.59\n",
       "14      A24      DELHI  Silver          2005   31991516.46\n",
       "7       A22     BOMBAY  Silver          2004   31462842.51\n",
       "9       A22     BOMBAY  Silver          2006   31193970.39\n",
       "18      A25     COCHIN  Silver          2006   27000810.00\n",
       "11      A23  BANGALORE  Silver          2005   27000270.00\n",
       "21      A46      PATNA  Silver          2006   26016070.17\n",
       "12      A23  BANGALORE  Silver          2006   23568983.64\n",
       "19      A46      PATNA  Silver          2004   22122043.92"
      ]
     },
     "execution_count": 61,
     "metadata": {},
     "output_type": "execute_result"
    }
   ],
   "source": [
    "product_category=str(input(\"Please Enter Product Category and product category should be in Gold/Silver/Platinum: \"))\n",
    "time_period=str(input(\"Please Enter Time Period and time period should be in Yearly_Repay/Monthly_Repay: \"))\n",
    "\n",
    "top10Customer(product_category,time_period)"
   ]
  },
  {
   "cell_type": "code",
   "execution_count": null,
   "metadata": {},
   "outputs": [],
   "source": []
  }
 ],
 "metadata": {
  "kernelspec": {
   "display_name": "Python 3",
   "language": "python",
   "name": "python3"
  },
  "language_info": {
   "codemirror_mode": {
    "name": "ipython",
    "version": 3
   },
   "file_extension": ".py",
   "mimetype": "text/x-python",
   "name": "python",
   "nbconvert_exporter": "python",
   "pygments_lexer": "ipython3",
   "version": "3.8.5"
  }
 },
 "nbformat": 4,
 "nbformat_minor": 4
}
