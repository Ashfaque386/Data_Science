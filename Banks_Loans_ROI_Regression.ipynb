{
 "cells": [
  {
   "cell_type": "code",
   "execution_count": 1,
   "metadata": {},
   "outputs": [],
   "source": [
    "import numpy as np\n",
    "import pandas as pd"
   ]
  },
  {
   "cell_type": "code",
   "execution_count": 2,
   "metadata": {},
   "outputs": [],
   "source": [
    "df = pd.read_csv('D:/AnalytixLab/02 - Data Science Using Python(DSP)/14 Class_14/Task/LoansData.csv')"
   ]
  },
  {
   "cell_type": "markdown",
   "metadata": {},
   "source": [
    "# Pre-Modeling"
   ]
  },
  {
   "cell_type": "code",
   "execution_count": 3,
   "metadata": {},
   "outputs": [
    {
     "data": {
      "text/html": [
       "<div>\n",
       "<style scoped>\n",
       "    .dataframe tbody tr th:only-of-type {\n",
       "        vertical-align: middle;\n",
       "    }\n",
       "\n",
       "    .dataframe tbody tr th {\n",
       "        vertical-align: top;\n",
       "    }\n",
       "\n",
       "    .dataframe thead th {\n",
       "        text-align: right;\n",
       "    }\n",
       "</style>\n",
       "<table border=\"1\" class=\"dataframe\">\n",
       "  <thead>\n",
       "    <tr style=\"text-align: right;\">\n",
       "      <th></th>\n",
       "      <th>LoanID</th>\n",
       "      <th>Amount.Requested</th>\n",
       "      <th>Amount.Funded.By.Investors</th>\n",
       "      <th>Interest.Rate</th>\n",
       "      <th>Loan.Length</th>\n",
       "      <th>Loan.Purpose</th>\n",
       "      <th>Debt.To.Income.Ratio</th>\n",
       "      <th>State</th>\n",
       "      <th>Home.Ownership</th>\n",
       "      <th>Monthly.Income</th>\n",
       "      <th>FICO.Range</th>\n",
       "      <th>Open.CREDIT.Lines</th>\n",
       "      <th>Revolving.CREDIT.Balance</th>\n",
       "      <th>Inquiries.in.the.Last.6.Months</th>\n",
       "      <th>Employment.Length</th>\n",
       "    </tr>\n",
       "  </thead>\n",
       "  <tbody>\n",
       "    <tr>\n",
       "      <th>0</th>\n",
       "      <td>1</td>\n",
       "      <td>20000.0</td>\n",
       "      <td>20000.0</td>\n",
       "      <td>8.90%</td>\n",
       "      <td>36 months</td>\n",
       "      <td>debt_consolidation</td>\n",
       "      <td>14.90%</td>\n",
       "      <td>SC</td>\n",
       "      <td>MORTGAGE</td>\n",
       "      <td>6541.67</td>\n",
       "      <td>735-739</td>\n",
       "      <td>14.0</td>\n",
       "      <td>14272.0</td>\n",
       "      <td>2.0</td>\n",
       "      <td>&lt; 1 year</td>\n",
       "    </tr>\n",
       "    <tr>\n",
       "      <th>1</th>\n",
       "      <td>2</td>\n",
       "      <td>19200.0</td>\n",
       "      <td>19200.0</td>\n",
       "      <td>12.12%</td>\n",
       "      <td>36 months</td>\n",
       "      <td>debt_consolidation</td>\n",
       "      <td>28.36%</td>\n",
       "      <td>TX</td>\n",
       "      <td>MORTGAGE</td>\n",
       "      <td>4583.33</td>\n",
       "      <td>715-719</td>\n",
       "      <td>12.0</td>\n",
       "      <td>11140.0</td>\n",
       "      <td>1.0</td>\n",
       "      <td>2 years</td>\n",
       "    </tr>\n",
       "    <tr>\n",
       "      <th>2</th>\n",
       "      <td>3</td>\n",
       "      <td>35000.0</td>\n",
       "      <td>35000.0</td>\n",
       "      <td>21.98%</td>\n",
       "      <td>60 months</td>\n",
       "      <td>debt_consolidation</td>\n",
       "      <td>23.81%</td>\n",
       "      <td>CA</td>\n",
       "      <td>MORTGAGE</td>\n",
       "      <td>11500.00</td>\n",
       "      <td>690-694</td>\n",
       "      <td>14.0</td>\n",
       "      <td>21977.0</td>\n",
       "      <td>1.0</td>\n",
       "      <td>2 years</td>\n",
       "    </tr>\n",
       "  </tbody>\n",
       "</table>\n",
       "</div>"
      ],
      "text/plain": [
       "   LoanID  Amount.Requested  Amount.Funded.By.Investors Interest.Rate  \\\n",
       "0       1           20000.0                     20000.0         8.90%   \n",
       "1       2           19200.0                     19200.0        12.12%   \n",
       "2       3           35000.0                     35000.0        21.98%   \n",
       "\n",
       "  Loan.Length        Loan.Purpose Debt.To.Income.Ratio State Home.Ownership  \\\n",
       "0   36 months  debt_consolidation               14.90%    SC       MORTGAGE   \n",
       "1   36 months  debt_consolidation               28.36%    TX       MORTGAGE   \n",
       "2   60 months  debt_consolidation               23.81%    CA       MORTGAGE   \n",
       "\n",
       "   Monthly.Income FICO.Range  Open.CREDIT.Lines  Revolving.CREDIT.Balance  \\\n",
       "0         6541.67    735-739               14.0                   14272.0   \n",
       "1         4583.33    715-719               12.0                   11140.0   \n",
       "2        11500.00    690-694               14.0                   21977.0   \n",
       "\n",
       "   Inquiries.in.the.Last.6.Months Employment.Length  \n",
       "0                             2.0          < 1 year  \n",
       "1                             1.0           2 years  \n",
       "2                             1.0           2 years  "
      ]
     },
     "execution_count": 3,
     "metadata": {},
     "output_type": "execute_result"
    }
   ],
   "source": [
    "df.head(3)"
   ]
  },
  {
   "cell_type": "code",
   "execution_count": 4,
   "metadata": {},
   "outputs": [
    {
     "data": {
      "text/html": [
       "<div>\n",
       "<style scoped>\n",
       "    .dataframe tbody tr th:only-of-type {\n",
       "        vertical-align: middle;\n",
       "    }\n",
       "\n",
       "    .dataframe tbody tr th {\n",
       "        vertical-align: top;\n",
       "    }\n",
       "\n",
       "    .dataframe thead th {\n",
       "        text-align: right;\n",
       "    }\n",
       "</style>\n",
       "<table border=\"1\" class=\"dataframe\">\n",
       "  <thead>\n",
       "    <tr style=\"text-align: right;\">\n",
       "      <th></th>\n",
       "      <th>LoanID</th>\n",
       "      <th>Amount.Requested</th>\n",
       "      <th>Amount.Funded.By.Investors</th>\n",
       "      <th>Interest.Rate</th>\n",
       "      <th>Loan.Length</th>\n",
       "      <th>Loan.Purpose</th>\n",
       "      <th>Debt.To.Income.Ratio</th>\n",
       "      <th>State</th>\n",
       "      <th>Home.Ownership</th>\n",
       "      <th>Monthly.Income</th>\n",
       "      <th>FICO.Range</th>\n",
       "      <th>Open.CREDIT.Lines</th>\n",
       "      <th>Revolving.CREDIT.Balance</th>\n",
       "      <th>Inquiries.in.the.Last.6.Months</th>\n",
       "      <th>Employment.Length</th>\n",
       "    </tr>\n",
       "  </thead>\n",
       "  <tbody>\n",
       "    <tr>\n",
       "      <th>2497</th>\n",
       "      <td>2498</td>\n",
       "      <td>10000.0</td>\n",
       "      <td>10000.00</td>\n",
       "      <td>13.99%</td>\n",
       "      <td>36 months</td>\n",
       "      <td>debt_consolidation</td>\n",
       "      <td>4.89%</td>\n",
       "      <td>PA</td>\n",
       "      <td>MORTGAGE</td>\n",
       "      <td>2166.67</td>\n",
       "      <td>680-684</td>\n",
       "      <td>4.0</td>\n",
       "      <td>4544.0</td>\n",
       "      <td>0.0</td>\n",
       "      <td>10+ years</td>\n",
       "    </tr>\n",
       "    <tr>\n",
       "      <th>2498</th>\n",
       "      <td>2499</td>\n",
       "      <td>6000.0</td>\n",
       "      <td>6000.00</td>\n",
       "      <td>12.42%</td>\n",
       "      <td>36 months</td>\n",
       "      <td>major_purchase</td>\n",
       "      <td>16.66%</td>\n",
       "      <td>NJ</td>\n",
       "      <td>RENT</td>\n",
       "      <td>3500.00</td>\n",
       "      <td>675-679</td>\n",
       "      <td>8.0</td>\n",
       "      <td>7753.0</td>\n",
       "      <td>0.0</td>\n",
       "      <td>5 years</td>\n",
       "    </tr>\n",
       "    <tr>\n",
       "      <th>2499</th>\n",
       "      <td>2500</td>\n",
       "      <td>9000.0</td>\n",
       "      <td>5242.75</td>\n",
       "      <td>13.79%</td>\n",
       "      <td>36 months</td>\n",
       "      <td>debt_consolidation</td>\n",
       "      <td>6.76%</td>\n",
       "      <td>NY</td>\n",
       "      <td>RENT</td>\n",
       "      <td>3875.00</td>\n",
       "      <td>670-674</td>\n",
       "      <td>7.0</td>\n",
       "      <td>7589.0</td>\n",
       "      <td>0.0</td>\n",
       "      <td>10+ years</td>\n",
       "    </tr>\n",
       "  </tbody>\n",
       "</table>\n",
       "</div>"
      ],
      "text/plain": [
       "      LoanID  Amount.Requested  Amount.Funded.By.Investors Interest.Rate  \\\n",
       "2497    2498           10000.0                    10000.00        13.99%   \n",
       "2498    2499            6000.0                     6000.00        12.42%   \n",
       "2499    2500            9000.0                     5242.75        13.79%   \n",
       "\n",
       "     Loan.Length        Loan.Purpose Debt.To.Income.Ratio State  \\\n",
       "2497   36 months  debt_consolidation                4.89%    PA   \n",
       "2498   36 months      major_purchase               16.66%    NJ   \n",
       "2499   36 months  debt_consolidation                6.76%    NY   \n",
       "\n",
       "     Home.Ownership  Monthly.Income FICO.Range  Open.CREDIT.Lines  \\\n",
       "2497       MORTGAGE         2166.67    680-684                4.0   \n",
       "2498           RENT         3500.00    675-679                8.0   \n",
       "2499           RENT         3875.00    670-674                7.0   \n",
       "\n",
       "      Revolving.CREDIT.Balance  Inquiries.in.the.Last.6.Months  \\\n",
       "2497                    4544.0                             0.0   \n",
       "2498                    7753.0                             0.0   \n",
       "2499                    7589.0                             0.0   \n",
       "\n",
       "     Employment.Length  \n",
       "2497         10+ years  \n",
       "2498           5 years  \n",
       "2499         10+ years  "
      ]
     },
     "execution_count": 4,
     "metadata": {},
     "output_type": "execute_result"
    }
   ],
   "source": [
    "df.tail(3)"
   ]
  },
  {
   "cell_type": "code",
   "execution_count": 5,
   "metadata": {},
   "outputs": [
    {
     "data": {
      "text/plain": [
       "(2500, 15)"
      ]
     },
     "execution_count": 5,
     "metadata": {},
     "output_type": "execute_result"
    }
   ],
   "source": [
    "df.shape"
   ]
  },
  {
   "cell_type": "code",
   "execution_count": 6,
   "metadata": {},
   "outputs": [
    {
     "data": {
      "text/plain": [
       "LoanID                              int64\n",
       "Amount.Requested                  float64\n",
       "Amount.Funded.By.Investors        float64\n",
       "Interest.Rate                      object\n",
       "Loan.Length                        object\n",
       "Loan.Purpose                       object\n",
       "Debt.To.Income.Ratio               object\n",
       "State                              object\n",
       "Home.Ownership                     object\n",
       "Monthly.Income                    float64\n",
       "FICO.Range                         object\n",
       "Open.CREDIT.Lines                 float64\n",
       "Revolving.CREDIT.Balance          float64\n",
       "Inquiries.in.the.Last.6.Months    float64\n",
       "Employment.Length                  object\n",
       "dtype: object"
      ]
     },
     "execution_count": 6,
     "metadata": {},
     "output_type": "execute_result"
    }
   ],
   "source": [
    "df.dtypes"
   ]
  },
  {
   "cell_type": "code",
   "execution_count": 7,
   "metadata": {},
   "outputs": [
    {
     "data": {
      "text/plain": [
       "0"
      ]
     },
     "execution_count": 7,
     "metadata": {},
     "output_type": "execute_result"
    }
   ],
   "source": [
    "df.duplicated().sum()"
   ]
  },
  {
   "cell_type": "code",
   "execution_count": 8,
   "metadata": {},
   "outputs": [
    {
     "data": {
      "text/html": [
       "<div>\n",
       "<style scoped>\n",
       "    .dataframe tbody tr th:only-of-type {\n",
       "        vertical-align: middle;\n",
       "    }\n",
       "\n",
       "    .dataframe tbody tr th {\n",
       "        vertical-align: top;\n",
       "    }\n",
       "\n",
       "    .dataframe thead th {\n",
       "        text-align: right;\n",
       "    }\n",
       "</style>\n",
       "<table border=\"1\" class=\"dataframe\">\n",
       "  <thead>\n",
       "    <tr style=\"text-align: right;\">\n",
       "      <th></th>\n",
       "      <th>LoanID</th>\n",
       "      <th>Amount.Requested</th>\n",
       "      <th>Amount.Funded.By.Investors</th>\n",
       "      <th>Monthly.Income</th>\n",
       "      <th>Open.CREDIT.Lines</th>\n",
       "      <th>Revolving.CREDIT.Balance</th>\n",
       "      <th>Inquiries.in.the.Last.6.Months</th>\n",
       "    </tr>\n",
       "  </thead>\n",
       "  <tbody>\n",
       "    <tr>\n",
       "      <th>count</th>\n",
       "      <td>2500.00000</td>\n",
       "      <td>2499.000000</td>\n",
       "      <td>2499.000000</td>\n",
       "      <td>2499.000000</td>\n",
       "      <td>2497.000000</td>\n",
       "      <td>2497.000000</td>\n",
       "      <td>2497.000000</td>\n",
       "    </tr>\n",
       "    <tr>\n",
       "      <th>mean</th>\n",
       "      <td>1250.50000</td>\n",
       "      <td>12405.462185</td>\n",
       "      <td>12002.374186</td>\n",
       "      <td>5688.931321</td>\n",
       "      <td>10.072887</td>\n",
       "      <td>15223.184622</td>\n",
       "      <td>0.906688</td>\n",
       "    </tr>\n",
       "    <tr>\n",
       "      <th>std</th>\n",
       "      <td>721.83216</td>\n",
       "      <td>7802.933666</td>\n",
       "      <td>7746.767348</td>\n",
       "      <td>3963.118185</td>\n",
       "      <td>4.507416</td>\n",
       "      <td>18281.015258</td>\n",
       "      <td>1.231149</td>\n",
       "    </tr>\n",
       "    <tr>\n",
       "      <th>min</th>\n",
       "      <td>1.00000</td>\n",
       "      <td>1000.000000</td>\n",
       "      <td>-0.010000</td>\n",
       "      <td>588.500000</td>\n",
       "      <td>2.000000</td>\n",
       "      <td>0.000000</td>\n",
       "      <td>0.000000</td>\n",
       "    </tr>\n",
       "    <tr>\n",
       "      <th>25%</th>\n",
       "      <td>625.75000</td>\n",
       "      <td>6000.000000</td>\n",
       "      <td>6000.000000</td>\n",
       "      <td>3500.000000</td>\n",
       "      <td>7.000000</td>\n",
       "      <td>5584.000000</td>\n",
       "      <td>0.000000</td>\n",
       "    </tr>\n",
       "    <tr>\n",
       "      <th>50%</th>\n",
       "      <td>1250.50000</td>\n",
       "      <td>10000.000000</td>\n",
       "      <td>10000.000000</td>\n",
       "      <td>5000.000000</td>\n",
       "      <td>9.000000</td>\n",
       "      <td>10948.000000</td>\n",
       "      <td>0.000000</td>\n",
       "    </tr>\n",
       "    <tr>\n",
       "      <th>75%</th>\n",
       "      <td>1875.25000</td>\n",
       "      <td>17000.000000</td>\n",
       "      <td>16000.000000</td>\n",
       "      <td>6800.000000</td>\n",
       "      <td>13.000000</td>\n",
       "      <td>18861.000000</td>\n",
       "      <td>1.000000</td>\n",
       "    </tr>\n",
       "    <tr>\n",
       "      <th>max</th>\n",
       "      <td>2500.00000</td>\n",
       "      <td>35000.000000</td>\n",
       "      <td>35000.000000</td>\n",
       "      <td>102750.000000</td>\n",
       "      <td>38.000000</td>\n",
       "      <td>270800.000000</td>\n",
       "      <td>9.000000</td>\n",
       "    </tr>\n",
       "  </tbody>\n",
       "</table>\n",
       "</div>"
      ],
      "text/plain": [
       "           LoanID  Amount.Requested  Amount.Funded.By.Investors  \\\n",
       "count  2500.00000       2499.000000                 2499.000000   \n",
       "mean   1250.50000      12405.462185                12002.374186   \n",
       "std     721.83216       7802.933666                 7746.767348   \n",
       "min       1.00000       1000.000000                   -0.010000   \n",
       "25%     625.75000       6000.000000                 6000.000000   \n",
       "50%    1250.50000      10000.000000                10000.000000   \n",
       "75%    1875.25000      17000.000000                16000.000000   \n",
       "max    2500.00000      35000.000000                35000.000000   \n",
       "\n",
       "       Monthly.Income  Open.CREDIT.Lines  Revolving.CREDIT.Balance  \\\n",
       "count     2499.000000        2497.000000               2497.000000   \n",
       "mean      5688.931321          10.072887              15223.184622   \n",
       "std       3963.118185           4.507416              18281.015258   \n",
       "min        588.500000           2.000000                  0.000000   \n",
       "25%       3500.000000           7.000000               5584.000000   \n",
       "50%       5000.000000           9.000000              10948.000000   \n",
       "75%       6800.000000          13.000000              18861.000000   \n",
       "max     102750.000000          38.000000             270800.000000   \n",
       "\n",
       "       Inquiries.in.the.Last.6.Months  \n",
       "count                     2497.000000  \n",
       "mean                         0.906688  \n",
       "std                          1.231149  \n",
       "min                          0.000000  \n",
       "25%                          0.000000  \n",
       "50%                          0.000000  \n",
       "75%                          1.000000  \n",
       "max                          9.000000  "
      ]
     },
     "execution_count": 8,
     "metadata": {},
     "output_type": "execute_result"
    }
   ],
   "source": [
    "df.describe()"
   ]
  },
  {
   "cell_type": "code",
   "execution_count": 9,
   "metadata": {},
   "outputs": [
    {
     "data": {
      "text/plain": [
       "LoanID                            2500\n",
       "Amount.Requested                  2499\n",
       "Amount.Funded.By.Investors        2499\n",
       "Interest.Rate                     2498\n",
       "Loan.Length                       2500\n",
       "Loan.Purpose                      2500\n",
       "Debt.To.Income.Ratio              2499\n",
       "State                             2500\n",
       "Home.Ownership                    2499\n",
       "Monthly.Income                    2499\n",
       "FICO.Range                        2498\n",
       "Open.CREDIT.Lines                 2497\n",
       "Revolving.CREDIT.Balance          2497\n",
       "Inquiries.in.the.Last.6.Months    2497\n",
       "Employment.Length                 2423\n",
       "dtype: int64"
      ]
     },
     "execution_count": 9,
     "metadata": {},
     "output_type": "execute_result"
    }
   ],
   "source": [
    "df.count()"
   ]
  },
  {
   "cell_type": "code",
   "execution_count": 10,
   "metadata": {},
   "outputs": [
    {
     "data": {
      "text/plain": [
       "LoanID                             0\n",
       "Amount.Requested                   1\n",
       "Amount.Funded.By.Investors         1\n",
       "Interest.Rate                      2\n",
       "Loan.Length                        0\n",
       "Loan.Purpose                       0\n",
       "Debt.To.Income.Ratio               1\n",
       "State                              0\n",
       "Home.Ownership                     1\n",
       "Monthly.Income                     1\n",
       "FICO.Range                         2\n",
       "Open.CREDIT.Lines                  3\n",
       "Revolving.CREDIT.Balance           3\n",
       "Inquiries.in.the.Last.6.Months     3\n",
       "Employment.Length                 77\n",
       "dtype: int64"
      ]
     },
     "execution_count": 10,
     "metadata": {},
     "output_type": "execute_result"
    }
   ],
   "source": [
    "df.isna().sum()"
   ]
  },
  {
   "cell_type": "code",
   "execution_count": 11,
   "metadata": {},
   "outputs": [
    {
     "data": {
      "text/plain": [
       "2760.8535092214274"
      ]
     },
     "execution_count": 11,
     "metadata": {},
     "output_type": "execute_result"
    }
   ],
   "source": [
    "round(df['Monthly.Income'].var())/df['Monthly.Income'].mean()"
   ]
  },
  {
   "cell_type": "code",
   "execution_count": 12,
   "metadata": {},
   "outputs": [
    {
     "data": {
      "text/plain": [
       "Index(['LoanID', 'Amount.Requested', 'Amount.Funded.By.Investors',\n",
       "       'Interest.Rate', 'Loan.Length', 'Loan.Purpose', 'Debt.To.Income.Ratio',\n",
       "       'State', 'Home.Ownership', 'Monthly.Income', 'FICO.Range',\n",
       "       'Open.CREDIT.Lines', 'Revolving.CREDIT.Balance',\n",
       "       'Inquiries.in.the.Last.6.Months', 'Employment.Length'],\n",
       "      dtype='object')"
      ]
     },
     "execution_count": 12,
     "metadata": {},
     "output_type": "execute_result"
    }
   ],
   "source": [
    "df.columns"
   ]
  },
  {
   "cell_type": "markdown",
   "metadata": {},
   "source": [
    "# MODELING"
   ]
  },
  {
   "cell_type": "markdown",
   "metadata": {},
   "source": [
    "### Data Preparation Level I"
   ]
  },
  {
   "cell_type": "code",
   "execution_count": 13,
   "metadata": {},
   "outputs": [],
   "source": [
    "df.columns = df.columns.str.replace('.','_')"
   ]
  },
  {
   "cell_type": "code",
   "execution_count": 14,
   "metadata": {},
   "outputs": [],
   "source": [
    "df.columns = df.columns.str.replace(' ','')"
   ]
  },
  {
   "cell_type": "markdown",
   "metadata": {},
   "source": [
    "##### Type Casting"
   ]
  },
  {
   "cell_type": "code",
   "execution_count": 15,
   "metadata": {},
   "outputs": [],
   "source": [
    "df.Interest_Rate = df.Interest_Rate.str.replace('%','').astype(\"float64\")"
   ]
  },
  {
   "cell_type": "code",
   "execution_count": 16,
   "metadata": {},
   "outputs": [],
   "source": [
    "df.Loan_Length = df.Loan_Length.str.replace(\" months\",\"\").astype(\"int64\")"
   ]
  },
  {
   "cell_type": "code",
   "execution_count": 17,
   "metadata": {},
   "outputs": [],
   "source": [
    "df.Debt_To_Income_Ratio = df.Debt_To_Income_Ratio.str.replace(\"%\",\"\").astype(\"float64\")"
   ]
  },
  {
   "cell_type": "code",
   "execution_count": 18,
   "metadata": {},
   "outputs": [],
   "source": [
    "df.Employment_Length = df.Employment_Length.str.replace(\"< \",\"\")\n",
    "df.Employment_Length = df.Employment_Length.str.replace(\"years\",\"\")\n",
    "df.Employment_Length = df.Employment_Length.str.replace(\" year\",\"\")\n",
    "df.Employment_Length = df.Employment_Length.str.replace(\" \",\"\") \n",
    "df.Employment_Length = df.Employment_Length.str.replace(\"+\",\"\")\n",
    "df.Employment_Length = df.Employment_Length.astype(\"float64\")"
   ]
  },
  {
   "cell_type": "code",
   "execution_count": 19,
   "metadata": {},
   "outputs": [],
   "source": [
    "df[['Fico_Low', 'Fico_High']] = df.FICO_Range.str.split('-',expand=True)"
   ]
  },
  {
   "cell_type": "code",
   "execution_count": 20,
   "metadata": {},
   "outputs": [],
   "source": [
    "df.Fico_Low = df.Fico_Low.astype('float64')\n",
    "df.Fico_High = df.Fico_High.astype('float64')"
   ]
  },
  {
   "cell_type": "code",
   "execution_count": 21,
   "metadata": {},
   "outputs": [],
   "source": [
    "df['Fico_Avg'] = (df.Fico_Low+df.Fico_High)/2"
   ]
  },
  {
   "cell_type": "code",
   "execution_count": 22,
   "metadata": {},
   "outputs": [],
   "source": [
    "import pandas_profiling"
   ]
  },
  {
   "cell_type": "code",
   "execution_count": 23,
   "metadata": {},
   "outputs": [],
   "source": [
    "profile_report = pandas_profiling.ProfileReport(df)"
   ]
  },
  {
   "cell_type": "code",
   "execution_count": 24,
   "metadata": {},
   "outputs": [
    {
     "data": {
      "application/vnd.jupyter.widget-view+json": {
       "model_id": "255c81fb46e5460c8aa303f66a5819d2",
       "version_major": 2,
       "version_minor": 0
      },
      "text/plain": [
       "HBox(children=(HTML(value='Summarize dataset'), FloatProgress(value=0.0, max=31.0), HTML(value='')))"
      ]
     },
     "metadata": {},
     "output_type": "display_data"
    },
    {
     "name": "stdout",
     "output_type": "stream",
     "text": [
      "\n"
     ]
    },
    {
     "data": {
      "application/vnd.jupyter.widget-view+json": {
       "model_id": "527559cc75d443ebaa9101a396aded84",
       "version_major": 2,
       "version_minor": 0
      },
      "text/plain": [
       "HBox(children=(HTML(value='Generate report structure'), FloatProgress(value=0.0, max=1.0), HTML(value='')))"
      ]
     },
     "metadata": {},
     "output_type": "display_data"
    },
    {
     "name": "stdout",
     "output_type": "stream",
     "text": [
      "\n"
     ]
    },
    {
     "data": {
      "application/vnd.jupyter.widget-view+json": {
       "model_id": "0b9cc1ed45274846b8c50986f6e9400f",
       "version_major": 2,
       "version_minor": 0
      },
      "text/plain": [
       "HBox(children=(HTML(value='Render HTML'), FloatProgress(value=0.0, max=1.0), HTML(value='')))"
      ]
     },
     "metadata": {},
     "output_type": "display_data"
    },
    {
     "name": "stdout",
     "output_type": "stream",
     "text": [
      "\n"
     ]
    },
    {
     "data": {
      "application/vnd.jupyter.widget-view+json": {
       "model_id": "4f391d432e6f45efaaac8553aaa12ab9",
       "version_major": 2,
       "version_minor": 0
      },
      "text/plain": [
       "HBox(children=(HTML(value='Export report to file'), FloatProgress(value=0.0, max=1.0), HTML(value='')))"
      ]
     },
     "metadata": {},
     "output_type": "display_data"
    },
    {
     "name": "stdout",
     "output_type": "stream",
     "text": [
      "\n"
     ]
    }
   ],
   "source": [
    "profile_report.to_file('profile_report.html')"
   ]
  },
  {
   "cell_type": "code",
   "execution_count": 25,
   "metadata": {},
   "outputs": [],
   "source": [
    "del df['LoanID']\n",
    "del df['Fico_High']\n",
    "del df['Fico_Low']\n",
    "del df['FICO_Range']"
   ]
  },
  {
   "cell_type": "markdown",
   "metadata": {},
   "source": [
    "##### Missing Value Treatment of Y"
   ]
  },
  {
   "cell_type": "code",
   "execution_count": 26,
   "metadata": {},
   "outputs": [
    {
     "data": {
      "text/plain": [
       "2"
      ]
     },
     "execution_count": 26,
     "metadata": {},
     "output_type": "execute_result"
    }
   ],
   "source": [
    "df.Interest_Rate.isna().sum()"
   ]
  },
  {
   "cell_type": "code",
   "execution_count": 27,
   "metadata": {},
   "outputs": [],
   "source": [
    "df = df.dropna(axis = 0, subset = ['Interest_Rate'])"
   ]
  },
  {
   "cell_type": "markdown",
   "metadata": {},
   "source": [
    "#### Split the data in numerical and categorical"
   ]
  },
  {
   "cell_type": "code",
   "execution_count": 28,
   "metadata": {},
   "outputs": [],
   "source": [
    "numeric_var_names=[key for key in dict(df.dtypes) if dict(df.dtypes)[key] in ['float64', 'int64', 'float32', 'int32']]\n",
    "cat_var_names=[key for key in dict(df.dtypes) if dict(df.dtypes)[key] in ['object']]\n",
    "\n",
    "df_cat = df[cat_var_names]\n",
    "\n",
    "df_num = df[numeric_var_names]"
   ]
  },
  {
   "cell_type": "code",
   "execution_count": 29,
   "metadata": {},
   "outputs": [],
   "source": [
    "df_Y = df.Interest_Rate"
   ]
  },
  {
   "cell_type": "code",
   "execution_count": 30,
   "metadata": {},
   "outputs": [],
   "source": [
    "del df_num['Interest_Rate']"
   ]
  },
  {
   "cell_type": "code",
   "execution_count": 31,
   "metadata": {},
   "outputs": [
    {
     "data": {
      "text/html": [
       "<div>\n",
       "<style scoped>\n",
       "    .dataframe tbody tr th:only-of-type {\n",
       "        vertical-align: middle;\n",
       "    }\n",
       "\n",
       "    .dataframe tbody tr th {\n",
       "        vertical-align: top;\n",
       "    }\n",
       "\n",
       "    .dataframe thead th {\n",
       "        text-align: right;\n",
       "    }\n",
       "</style>\n",
       "<table border=\"1\" class=\"dataframe\">\n",
       "  <thead>\n",
       "    <tr style=\"text-align: right;\">\n",
       "      <th></th>\n",
       "      <th>Loan_Purpose</th>\n",
       "      <th>State</th>\n",
       "      <th>Home_Ownership</th>\n",
       "    </tr>\n",
       "  </thead>\n",
       "  <tbody>\n",
       "    <tr>\n",
       "      <th>0</th>\n",
       "      <td>debt_consolidation</td>\n",
       "      <td>SC</td>\n",
       "      <td>MORTGAGE</td>\n",
       "    </tr>\n",
       "    <tr>\n",
       "      <th>1</th>\n",
       "      <td>debt_consolidation</td>\n",
       "      <td>TX</td>\n",
       "      <td>MORTGAGE</td>\n",
       "    </tr>\n",
       "    <tr>\n",
       "      <th>2</th>\n",
       "      <td>debt_consolidation</td>\n",
       "      <td>CA</td>\n",
       "      <td>MORTGAGE</td>\n",
       "    </tr>\n",
       "    <tr>\n",
       "      <th>3</th>\n",
       "      <td>debt_consolidation</td>\n",
       "      <td>KS</td>\n",
       "      <td>MORTGAGE</td>\n",
       "    </tr>\n",
       "    <tr>\n",
       "      <th>4</th>\n",
       "      <td>credit_card</td>\n",
       "      <td>NJ</td>\n",
       "      <td>RENT</td>\n",
       "    </tr>\n",
       "    <tr>\n",
       "      <th>...</th>\n",
       "      <td>...</td>\n",
       "      <td>...</td>\n",
       "      <td>...</td>\n",
       "    </tr>\n",
       "    <tr>\n",
       "      <th>2495</th>\n",
       "      <td>debt_consolidation</td>\n",
       "      <td>NY</td>\n",
       "      <td>MORTGAGE</td>\n",
       "    </tr>\n",
       "    <tr>\n",
       "      <th>2496</th>\n",
       "      <td>home_improvement</td>\n",
       "      <td>MD</td>\n",
       "      <td>OWN</td>\n",
       "    </tr>\n",
       "    <tr>\n",
       "      <th>2497</th>\n",
       "      <td>debt_consolidation</td>\n",
       "      <td>PA</td>\n",
       "      <td>MORTGAGE</td>\n",
       "    </tr>\n",
       "    <tr>\n",
       "      <th>2498</th>\n",
       "      <td>major_purchase</td>\n",
       "      <td>NJ</td>\n",
       "      <td>RENT</td>\n",
       "    </tr>\n",
       "    <tr>\n",
       "      <th>2499</th>\n",
       "      <td>debt_consolidation</td>\n",
       "      <td>NY</td>\n",
       "      <td>RENT</td>\n",
       "    </tr>\n",
       "  </tbody>\n",
       "</table>\n",
       "<p>2498 rows × 3 columns</p>\n",
       "</div>"
      ],
      "text/plain": [
       "            Loan_Purpose State Home_Ownership\n",
       "0     debt_consolidation    SC       MORTGAGE\n",
       "1     debt_consolidation    TX       MORTGAGE\n",
       "2     debt_consolidation    CA       MORTGAGE\n",
       "3     debt_consolidation    KS       MORTGAGE\n",
       "4            credit_card    NJ           RENT\n",
       "...                  ...   ...            ...\n",
       "2495  debt_consolidation    NY       MORTGAGE\n",
       "2496    home_improvement    MD            OWN\n",
       "2497  debt_consolidation    PA       MORTGAGE\n",
       "2498      major_purchase    NJ           RENT\n",
       "2499  debt_consolidation    NY           RENT\n",
       "\n",
       "[2498 rows x 3 columns]"
      ]
     },
     "execution_count": 31,
     "metadata": {},
     "output_type": "execute_result"
    }
   ],
   "source": [
    "df_cat"
   ]
  },
  {
   "cell_type": "code",
   "execution_count": 32,
   "metadata": {},
   "outputs": [
    {
     "data": {
      "text/html": [
       "<div>\n",
       "<style scoped>\n",
       "    .dataframe tbody tr th:only-of-type {\n",
       "        vertical-align: middle;\n",
       "    }\n",
       "\n",
       "    .dataframe tbody tr th {\n",
       "        vertical-align: top;\n",
       "    }\n",
       "\n",
       "    .dataframe thead th {\n",
       "        text-align: right;\n",
       "    }\n",
       "</style>\n",
       "<table border=\"1\" class=\"dataframe\">\n",
       "  <thead>\n",
       "    <tr style=\"text-align: right;\">\n",
       "      <th></th>\n",
       "      <th>Amount_Requested</th>\n",
       "      <th>Amount_Funded_By_Investors</th>\n",
       "      <th>Loan_Length</th>\n",
       "      <th>Debt_To_Income_Ratio</th>\n",
       "      <th>Monthly_Income</th>\n",
       "      <th>Open_CREDIT_Lines</th>\n",
       "      <th>Revolving_CREDIT_Balance</th>\n",
       "      <th>Inquiries_in_the_Last_6_Months</th>\n",
       "      <th>Employment_Length</th>\n",
       "      <th>Fico_Avg</th>\n",
       "    </tr>\n",
       "  </thead>\n",
       "  <tbody>\n",
       "    <tr>\n",
       "      <th>0</th>\n",
       "      <td>20000.0</td>\n",
       "      <td>20000.00</td>\n",
       "      <td>36</td>\n",
       "      <td>14.90</td>\n",
       "      <td>6541.67</td>\n",
       "      <td>14.0</td>\n",
       "      <td>14272.0</td>\n",
       "      <td>2.0</td>\n",
       "      <td>1.0</td>\n",
       "      <td>737.0</td>\n",
       "    </tr>\n",
       "    <tr>\n",
       "      <th>1</th>\n",
       "      <td>19200.0</td>\n",
       "      <td>19200.00</td>\n",
       "      <td>36</td>\n",
       "      <td>28.36</td>\n",
       "      <td>4583.33</td>\n",
       "      <td>12.0</td>\n",
       "      <td>11140.0</td>\n",
       "      <td>1.0</td>\n",
       "      <td>2.0</td>\n",
       "      <td>717.0</td>\n",
       "    </tr>\n",
       "    <tr>\n",
       "      <th>2</th>\n",
       "      <td>35000.0</td>\n",
       "      <td>35000.00</td>\n",
       "      <td>60</td>\n",
       "      <td>23.81</td>\n",
       "      <td>11500.00</td>\n",
       "      <td>14.0</td>\n",
       "      <td>21977.0</td>\n",
       "      <td>1.0</td>\n",
       "      <td>2.0</td>\n",
       "      <td>692.0</td>\n",
       "    </tr>\n",
       "    <tr>\n",
       "      <th>3</th>\n",
       "      <td>10000.0</td>\n",
       "      <td>9975.00</td>\n",
       "      <td>36</td>\n",
       "      <td>14.30</td>\n",
       "      <td>3833.33</td>\n",
       "      <td>10.0</td>\n",
       "      <td>9346.0</td>\n",
       "      <td>0.0</td>\n",
       "      <td>5.0</td>\n",
       "      <td>697.0</td>\n",
       "    </tr>\n",
       "    <tr>\n",
       "      <th>4</th>\n",
       "      <td>12000.0</td>\n",
       "      <td>12000.00</td>\n",
       "      <td>36</td>\n",
       "      <td>18.78</td>\n",
       "      <td>3195.00</td>\n",
       "      <td>11.0</td>\n",
       "      <td>14469.0</td>\n",
       "      <td>0.0</td>\n",
       "      <td>9.0</td>\n",
       "      <td>697.0</td>\n",
       "    </tr>\n",
       "    <tr>\n",
       "      <th>...</th>\n",
       "      <td>...</td>\n",
       "      <td>...</td>\n",
       "      <td>...</td>\n",
       "      <td>...</td>\n",
       "      <td>...</td>\n",
       "      <td>...</td>\n",
       "      <td>...</td>\n",
       "      <td>...</td>\n",
       "      <td>...</td>\n",
       "      <td>...</td>\n",
       "    </tr>\n",
       "    <tr>\n",
       "      <th>2495</th>\n",
       "      <td>30000.0</td>\n",
       "      <td>29950.00</td>\n",
       "      <td>60</td>\n",
       "      <td>19.23</td>\n",
       "      <td>9250.00</td>\n",
       "      <td>15.0</td>\n",
       "      <td>45880.0</td>\n",
       "      <td>1.0</td>\n",
       "      <td>8.0</td>\n",
       "      <td>707.0</td>\n",
       "    </tr>\n",
       "    <tr>\n",
       "      <th>2496</th>\n",
       "      <td>16000.0</td>\n",
       "      <td>16000.00</td>\n",
       "      <td>60</td>\n",
       "      <td>21.54</td>\n",
       "      <td>8903.25</td>\n",
       "      <td>18.0</td>\n",
       "      <td>18898.0</td>\n",
       "      <td>1.0</td>\n",
       "      <td>10.0</td>\n",
       "      <td>742.0</td>\n",
       "    </tr>\n",
       "    <tr>\n",
       "      <th>2497</th>\n",
       "      <td>10000.0</td>\n",
       "      <td>10000.00</td>\n",
       "      <td>36</td>\n",
       "      <td>4.89</td>\n",
       "      <td>2166.67</td>\n",
       "      <td>4.0</td>\n",
       "      <td>4544.0</td>\n",
       "      <td>0.0</td>\n",
       "      <td>10.0</td>\n",
       "      <td>682.0</td>\n",
       "    </tr>\n",
       "    <tr>\n",
       "      <th>2498</th>\n",
       "      <td>6000.0</td>\n",
       "      <td>6000.00</td>\n",
       "      <td>36</td>\n",
       "      <td>16.66</td>\n",
       "      <td>3500.00</td>\n",
       "      <td>8.0</td>\n",
       "      <td>7753.0</td>\n",
       "      <td>0.0</td>\n",
       "      <td>5.0</td>\n",
       "      <td>677.0</td>\n",
       "    </tr>\n",
       "    <tr>\n",
       "      <th>2499</th>\n",
       "      <td>9000.0</td>\n",
       "      <td>5242.75</td>\n",
       "      <td>36</td>\n",
       "      <td>6.76</td>\n",
       "      <td>3875.00</td>\n",
       "      <td>7.0</td>\n",
       "      <td>7589.0</td>\n",
       "      <td>0.0</td>\n",
       "      <td>10.0</td>\n",
       "      <td>672.0</td>\n",
       "    </tr>\n",
       "  </tbody>\n",
       "</table>\n",
       "<p>2498 rows × 10 columns</p>\n",
       "</div>"
      ],
      "text/plain": [
       "      Amount_Requested  Amount_Funded_By_Investors  Loan_Length  \\\n",
       "0              20000.0                    20000.00           36   \n",
       "1              19200.0                    19200.00           36   \n",
       "2              35000.0                    35000.00           60   \n",
       "3              10000.0                     9975.00           36   \n",
       "4              12000.0                    12000.00           36   \n",
       "...                ...                         ...          ...   \n",
       "2495           30000.0                    29950.00           60   \n",
       "2496           16000.0                    16000.00           60   \n",
       "2497           10000.0                    10000.00           36   \n",
       "2498            6000.0                     6000.00           36   \n",
       "2499            9000.0                     5242.75           36   \n",
       "\n",
       "      Debt_To_Income_Ratio  Monthly_Income  Open_CREDIT_Lines  \\\n",
       "0                    14.90         6541.67               14.0   \n",
       "1                    28.36         4583.33               12.0   \n",
       "2                    23.81        11500.00               14.0   \n",
       "3                    14.30         3833.33               10.0   \n",
       "4                    18.78         3195.00               11.0   \n",
       "...                    ...             ...                ...   \n",
       "2495                 19.23         9250.00               15.0   \n",
       "2496                 21.54         8903.25               18.0   \n",
       "2497                  4.89         2166.67                4.0   \n",
       "2498                 16.66         3500.00                8.0   \n",
       "2499                  6.76         3875.00                7.0   \n",
       "\n",
       "      Revolving_CREDIT_Balance  Inquiries_in_the_Last_6_Months  \\\n",
       "0                      14272.0                             2.0   \n",
       "1                      11140.0                             1.0   \n",
       "2                      21977.0                             1.0   \n",
       "3                       9346.0                             0.0   \n",
       "4                      14469.0                             0.0   \n",
       "...                        ...                             ...   \n",
       "2495                   45880.0                             1.0   \n",
       "2496                   18898.0                             1.0   \n",
       "2497                    4544.0                             0.0   \n",
       "2498                    7753.0                             0.0   \n",
       "2499                    7589.0                             0.0   \n",
       "\n",
       "      Employment_Length  Fico_Avg  \n",
       "0                   1.0     737.0  \n",
       "1                   2.0     717.0  \n",
       "2                   2.0     692.0  \n",
       "3                   5.0     697.0  \n",
       "4                   9.0     697.0  \n",
       "...                 ...       ...  \n",
       "2495                8.0     707.0  \n",
       "2496               10.0     742.0  \n",
       "2497               10.0     682.0  \n",
       "2498                5.0     677.0  \n",
       "2499               10.0     672.0  \n",
       "\n",
       "[2498 rows x 10 columns]"
      ]
     },
     "execution_count": 32,
     "metadata": {},
     "output_type": "execute_result"
    }
   ],
   "source": [
    "df_num"
   ]
  },
  {
   "cell_type": "code",
   "execution_count": 33,
   "metadata": {},
   "outputs": [
    {
     "name": "stdout",
     "output_type": "stream",
     "text": [
      "number of rows in the numerical dataset : 2498\n",
      "number of rows in the categorical dataset : 2498\n",
      "number of rows in the Y dataset : 2498\n"
     ]
    }
   ],
   "source": [
    "print(\"number of rows in the numerical dataset :\",len(df_num))\n",
    "print(\"number of rows in the categorical dataset :\",len(df_cat))\n",
    "print(\"number of rows in the Y dataset :\",len(df_Y))"
   ]
  },
  {
   "cell_type": "markdown",
   "metadata": {},
   "source": [
    "#### Missing  Value and Outlier Treatment on the Numerical Columns"
   ]
  },
  {
   "cell_type": "code",
   "execution_count": 34,
   "metadata": {},
   "outputs": [],
   "source": [
    "# df_num.Amount_Requested = df_num.Amount_Requested.fillna(df_num.Amount_Requested.mean())\n",
    "# df.Amount_Requested = df.Amount_Requested.clip_lower(df.Amount_Requested.quantile(0.01))\n",
    "# df.Amount_Requested = df.Amount_Requested.clip_upper(df.Amount_Requested.quantile(0.99))"
   ]
  },
  {
   "cell_type": "code",
   "execution_count": 35,
   "metadata": {},
   "outputs": [],
   "source": [
    "def outlier_missing_treatment(x):\n",
    "    x = x.clip(upper=x.quantile(0.99))\n",
    "    x = x.clip(lower=x.quantile(0.01))\n",
    "    x = x.fillna(x.median())\n",
    "    return(x)"
   ]
  },
  {
   "cell_type": "code",
   "execution_count": 36,
   "metadata": {},
   "outputs": [],
   "source": [
    "df_num_cleaned = df_num.apply(outlier_missing_treatment)"
   ]
  },
  {
   "cell_type": "code",
   "execution_count": 37,
   "metadata": {},
   "outputs": [
    {
     "data": {
      "text/plain": [
       "<AxesSubplot:>"
      ]
     },
     "execution_count": 37,
     "metadata": {},
     "output_type": "execute_result"
    },
    {
     "data": {
      "image/png": "[encoded data removed]",
      "text/plain": [
       "<Figure size 432x288 with 1 Axes>"
      ]
     },
     "metadata": {
      "needs_background": "light"
     },
     "output_type": "display_data"
    }
   ],
   "source": [
    "df_num_cleaned.plot(kind = 'box')"
   ]
  },
  {
   "cell_type": "code",
   "execution_count": 38,
   "metadata": {},
   "outputs": [
    {
     "data": {
      "text/plain": [
       "Amount_Requested                  0\n",
       "Amount_Funded_By_Investors        0\n",
       "Loan_Length                       0\n",
       "Debt_To_Income_Ratio              0\n",
       "Monthly_Income                    0\n",
       "Open_CREDIT_Lines                 0\n",
       "Revolving_CREDIT_Balance          0\n",
       "Inquiries_in_the_Last_6_Months    0\n",
       "Employment_Length                 0\n",
       "Fico_Avg                          0\n",
       "dtype: int64"
      ]
     },
     "execution_count": 38,
     "metadata": {},
     "output_type": "execute_result"
    }
   ],
   "source": [
    "df_num_cleaned.isna().sum()"
   ]
  },
  {
   "cell_type": "markdown",
   "metadata": {},
   "source": [
    "#### Missing  Value on the Categorical Columns"
   ]
  },
  {
   "cell_type": "code",
   "execution_count": 39,
   "metadata": {},
   "outputs": [
    {
     "data": {
      "text/plain": [
       "'debt_consolidation'"
      ]
     },
     "execution_count": 39,
     "metadata": {},
     "output_type": "execute_result"
    }
   ],
   "source": [
    "df_cat.Loan_Purpose.mode().iloc[0]"
   ]
  },
  {
   "cell_type": "code",
   "execution_count": 40,
   "metadata": {},
   "outputs": [],
   "source": [
    "def missing_treatment_categorical(x):\n",
    "    x = x.fillna(x.mode().iloc[0])\n",
    "    return(x)"
   ]
  },
  {
   "cell_type": "code",
   "execution_count": 41,
   "metadata": {},
   "outputs": [],
   "source": [
    "df_cat_wt_missing = df_cat.apply(missing_treatment_categorical)"
   ]
  },
  {
   "cell_type": "code",
   "execution_count": 42,
   "metadata": {},
   "outputs": [
    {
     "data": {
      "text/plain": [
       "Loan_Purpose      0\n",
       "State             0\n",
       "Home_Ownership    0\n",
       "dtype: int64"
      ]
     },
     "execution_count": 42,
     "metadata": {},
     "output_type": "execute_result"
    }
   ],
   "source": [
    "df_cat_wt_missing.isna().sum()"
   ]
  },
  {
   "cell_type": "markdown",
   "metadata": {},
   "source": [
    "##### Dummy Variable Creation"
   ]
  },
  {
   "cell_type": "code",
   "execution_count": 43,
   "metadata": {},
   "outputs": [
    {
     "data": {
      "text/html": [
       "<div>\n",
       "<style scoped>\n",
       "    .dataframe tbody tr th:only-of-type {\n",
       "        vertical-align: middle;\n",
       "    }\n",
       "\n",
       "    .dataframe tbody tr th {\n",
       "        vertical-align: top;\n",
       "    }\n",
       "\n",
       "    .dataframe thead th {\n",
       "        text-align: right;\n",
       "    }\n",
       "</style>\n",
       "<table border=\"1\" class=\"dataframe\">\n",
       "  <thead>\n",
       "    <tr style=\"text-align: right;\">\n",
       "      <th></th>\n",
       "      <th>Loan_Purpose</th>\n",
       "      <th>State</th>\n",
       "      <th>Home_Ownership</th>\n",
       "    </tr>\n",
       "  </thead>\n",
       "  <tbody>\n",
       "    <tr>\n",
       "      <th>0</th>\n",
       "      <td>debt_consolidation</td>\n",
       "      <td>SC</td>\n",
       "      <td>MORTGAGE</td>\n",
       "    </tr>\n",
       "    <tr>\n",
       "      <th>1</th>\n",
       "      <td>debt_consolidation</td>\n",
       "      <td>TX</td>\n",
       "      <td>MORTGAGE</td>\n",
       "    </tr>\n",
       "    <tr>\n",
       "      <th>2</th>\n",
       "      <td>debt_consolidation</td>\n",
       "      <td>CA</td>\n",
       "      <td>MORTGAGE</td>\n",
       "    </tr>\n",
       "    <tr>\n",
       "      <th>3</th>\n",
       "      <td>debt_consolidation</td>\n",
       "      <td>KS</td>\n",
       "      <td>MORTGAGE</td>\n",
       "    </tr>\n",
       "    <tr>\n",
       "      <th>4</th>\n",
       "      <td>credit_card</td>\n",
       "      <td>NJ</td>\n",
       "      <td>RENT</td>\n",
       "    </tr>\n",
       "  </tbody>\n",
       "</table>\n",
       "</div>"
      ],
      "text/plain": [
       "         Loan_Purpose State Home_Ownership\n",
       "0  debt_consolidation    SC       MORTGAGE\n",
       "1  debt_consolidation    TX       MORTGAGE\n",
       "2  debt_consolidation    CA       MORTGAGE\n",
       "3  debt_consolidation    KS       MORTGAGE\n",
       "4         credit_card    NJ           RENT"
      ]
     },
     "execution_count": 43,
     "metadata": {},
     "output_type": "execute_result"
    }
   ],
   "source": [
    "df_cat_wt_missing.head()"
   ]
  },
  {
   "cell_type": "code",
   "execution_count": 44,
   "metadata": {},
   "outputs": [],
   "source": [
    "df_cat_with_dummies = pd.get_dummies(df_cat_wt_missing, drop_first=True)"
   ]
  },
  {
   "cell_type": "code",
   "execution_count": 45,
   "metadata": {},
   "outputs": [
    {
     "data": {
      "text/plain": [
       "(2498, 62)"
      ]
     },
     "execution_count": 45,
     "metadata": {},
     "output_type": "execute_result"
    }
   ],
   "source": [
    "df_cat_with_dummies.shape"
   ]
  },
  {
   "cell_type": "code",
   "execution_count": 46,
   "metadata": {},
   "outputs": [
    {
     "data": {
      "text/plain": [
       "2498"
      ]
     },
     "execution_count": 46,
     "metadata": {},
     "output_type": "execute_result"
    }
   ],
   "source": [
    "len(df_Y)"
   ]
  },
  {
   "cell_type": "code",
   "execution_count": 47,
   "metadata": {},
   "outputs": [
    {
     "data": {
      "text/plain": [
       "Series([], dtype: object)"
      ]
     },
     "execution_count": 47,
     "metadata": {},
     "output_type": "execute_result"
    }
   ],
   "source": [
    "df_cat_with_dummies.dtypes[df_cat_with_dummies.dtypes=='object']"
   ]
  },
  {
   "cell_type": "code",
   "execution_count": 48,
   "metadata": {},
   "outputs": [],
   "source": [
    "df_cleaned = pd.concat([df_num_cleaned,df_cat_with_dummies,df_Y], axis = 1)"
   ]
  },
  {
   "cell_type": "code",
   "execution_count": 49,
   "metadata": {},
   "outputs": [
    {
     "data": {
      "text/plain": [
       "(2498, 73)"
      ]
     },
     "execution_count": 49,
     "metadata": {},
     "output_type": "execute_result"
    }
   ],
   "source": [
    "df_cleaned.shape"
   ]
  },
  {
   "cell_type": "code",
   "execution_count": 50,
   "metadata": {},
   "outputs": [
    {
     "data": {
      "text/plain": [
       "Series([], dtype: int64)"
      ]
     },
     "execution_count": 50,
     "metadata": {},
     "output_type": "execute_result"
    }
   ],
   "source": [
    "df_cleaned.isna().sum()[df_cleaned.isna().sum()>0]"
   ]
  },
  {
   "cell_type": "code",
   "execution_count": 51,
   "metadata": {},
   "outputs": [
    {
     "data": {
      "text/plain": [
       "Amount_Requested              float64\n",
       "Amount_Funded_By_Investors    float64\n",
       "Loan_Length                     int64\n",
       "Debt_To_Income_Ratio          float64\n",
       "Monthly_Income                float64\n",
       "                               ...   \n",
       "Home_Ownership_NONE             uint8\n",
       "Home_Ownership_OTHER            uint8\n",
       "Home_Ownership_OWN              uint8\n",
       "Home_Ownership_RENT             uint8\n",
       "Interest_Rate                 float64\n",
       "Length: 73, dtype: object"
      ]
     },
     "execution_count": 51,
     "metadata": {},
     "output_type": "execute_result"
    }
   ],
   "source": [
    "df_cleaned.dtypes"
   ]
  },
  {
   "cell_type": "code",
   "execution_count": 52,
   "metadata": {},
   "outputs": [
    {
     "data": {
      "text/plain": [
       "Series([], dtype: object)"
      ]
     },
     "execution_count": 52,
     "metadata": {},
     "output_type": "execute_result"
    }
   ],
   "source": [
    "df_cleaned.dtypes[df_cleaned.dtypes=='object']"
   ]
  },
  {
   "cell_type": "markdown",
   "metadata": {},
   "source": [
    "### Data Preparation Level 2 : Assumptions\n",
    "- Y is normally distributed\n",
    "- Decent corr b.w X and Y\n",
    "- No Major corr b.w X and X variables"
   ]
  },
  {
   "cell_type": "markdown",
   "metadata": {},
   "source": [
    "#### Checking if the Y variabble is normal"
   ]
  },
  {
   "cell_type": "code",
   "execution_count": 53,
   "metadata": {},
   "outputs": [],
   "source": [
    "import matplotlib\n",
    "from matplotlib import pyplot\n",
    "import seaborn as sns\n",
    "\n",
    "%matplotlib inline"
   ]
  },
  {
   "cell_type": "code",
   "execution_count": 54,
   "metadata": {},
   "outputs": [
    {
     "name": "stderr",
     "output_type": "stream",
     "text": [
      "C:\\ProgramData\\Anaconda3\\lib\\site-packages\\seaborn\\distributions.py:2551: FutureWarning: `distplot` is a deprecated function and will be removed in a future version. Please adapt your code to use either `displot` (a figure-level function with similar flexibility) or `histplot` (an axes-level function for histograms).\n",
      "  warnings.warn(msg, FutureWarning)\n"
     ]
    },
    {
     "data": {
      "text/plain": [
       "<AxesSubplot:xlabel='Interest_Rate', ylabel='Density'>"
      ]
     },
     "execution_count": 54,
     "metadata": {},
     "output_type": "execute_result"
    },
    {
     "data": {
      "image/png": "[encoded data removed]",
      "text/plain": [
       "<Figure size 432x288 with 1 Axes>"
      ]
     },
     "metadata": {
      "needs_background": "light"
     },
     "output_type": "display_data"
    }
   ],
   "source": [
    "sns.distplot(df_cleaned.Interest_Rate)"
   ]
  },
  {
   "cell_type": "code",
   "execution_count": 55,
   "metadata": {},
   "outputs": [
    {
     "name": "stdout",
     "output_type": "stream",
     "text": [
      "skewness : 0.28\n",
      "kurtosis : -0.46\n"
     ]
    }
   ],
   "source": [
    "print(\"skewness :\",round(df_cleaned.Interest_Rate.skew(),2))\n",
    "print(\"kurtosis :\",round(df_cleaned.Interest_Rate.kurtosis(),2))"
   ]
  },
  {
   "cell_type": "raw",
   "metadata": {},
   "source": [
    "(Transformation)"
   ]
  },
  {
   "cell_type": "code",
   "execution_count": 56,
   "metadata": {},
   "outputs": [
    {
     "name": "stderr",
     "output_type": "stream",
     "text": [
      "C:\\ProgramData\\Anaconda3\\lib\\site-packages\\seaborn\\distributions.py:2551: FutureWarning: `distplot` is a deprecated function and will be removed in a future version. Please adapt your code to use either `displot` (a figure-level function with similar flexibility) or `histplot` (an axes-level function for histograms).\n",
      "  warnings.warn(msg, FutureWarning)\n"
     ]
    },
    {
     "data": {
      "text/plain": [
       "<AxesSubplot:xlabel='Interest_Rate', ylabel='Density'>"
      ]
     },
     "execution_count": 56,
     "metadata": {},
     "output_type": "execute_result"
    },
    {
     "data": {
      "image/png": "[encoded data removed]",
      "text/plain": [
       "<Figure size 432x288 with 1 Axes>"
      ]
     },
     "metadata": {
      "needs_background": "light"
     },
     "output_type": "display_data"
    }
   ],
   "source": [
    "sns.distplot(np.log(df_cleaned.Interest_Rate))"
   ]
  },
  {
   "cell_type": "code",
   "execution_count": 57,
   "metadata": {},
   "outputs": [
    {
     "name": "stdout",
     "output_type": "stream",
     "text": [
      "skewness : -0.3951060498317453\n",
      "kurtosis : -0.5439036242758348\n"
     ]
    }
   ],
   "source": [
    "print(\"skewness :\",np.log(df_cleaned.Interest_Rate).skew())\n",
    "print(\"kurtosis :\",np.log(df_cleaned.Interest_Rate).kurtosis())"
   ]
  },
  {
   "cell_type": "code",
   "execution_count": 58,
   "metadata": {},
   "outputs": [],
   "source": [
    "df_cleaned['ln_Interest_Rate'] = np.log(df_cleaned.Interest_Rate)"
   ]
  },
  {
   "cell_type": "code",
   "execution_count": 59,
   "metadata": {},
   "outputs": [
    {
     "data": {
      "text/html": [
       "<div>\n",
       "<style scoped>\n",
       "    .dataframe tbody tr th:only-of-type {\n",
       "        vertical-align: middle;\n",
       "    }\n",
       "\n",
       "    .dataframe tbody tr th {\n",
       "        vertical-align: top;\n",
       "    }\n",
       "\n",
       "    .dataframe thead th {\n",
       "        text-align: right;\n",
       "    }\n",
       "</style>\n",
       "<table border=\"1\" class=\"dataframe\">\n",
       "  <thead>\n",
       "    <tr style=\"text-align: right;\">\n",
       "      <th></th>\n",
       "      <th>Amount_Requested</th>\n",
       "      <th>Amount_Funded_By_Investors</th>\n",
       "      <th>Loan_Length</th>\n",
       "      <th>Debt_To_Income_Ratio</th>\n",
       "      <th>Monthly_Income</th>\n",
       "      <th>Open_CREDIT_Lines</th>\n",
       "      <th>Revolving_CREDIT_Balance</th>\n",
       "      <th>Inquiries_in_the_Last_6_Months</th>\n",
       "      <th>Employment_Length</th>\n",
       "      <th>Fico_Avg</th>\n",
       "      <th>...</th>\n",
       "      <th>State_WA</th>\n",
       "      <th>State_WI</th>\n",
       "      <th>State_WV</th>\n",
       "      <th>State_WY</th>\n",
       "      <th>Home_Ownership_NONE</th>\n",
       "      <th>Home_Ownership_OTHER</th>\n",
       "      <th>Home_Ownership_OWN</th>\n",
       "      <th>Home_Ownership_RENT</th>\n",
       "      <th>Interest_Rate</th>\n",
       "      <th>ln_Interest_Rate</th>\n",
       "    </tr>\n",
       "  </thead>\n",
       "  <tbody>\n",
       "    <tr>\n",
       "      <th>0</th>\n",
       "      <td>20000.0</td>\n",
       "      <td>20000.0</td>\n",
       "      <td>36</td>\n",
       "      <td>14.90</td>\n",
       "      <td>6541.67</td>\n",
       "      <td>14.0</td>\n",
       "      <td>14272.0</td>\n",
       "      <td>2.0</td>\n",
       "      <td>1.0</td>\n",
       "      <td>737.0</td>\n",
       "      <td>...</td>\n",
       "      <td>0</td>\n",
       "      <td>0</td>\n",
       "      <td>0</td>\n",
       "      <td>0</td>\n",
       "      <td>0</td>\n",
       "      <td>0</td>\n",
       "      <td>0</td>\n",
       "      <td>0</td>\n",
       "      <td>8.90</td>\n",
       "      <td>2.186051</td>\n",
       "    </tr>\n",
       "    <tr>\n",
       "      <th>1</th>\n",
       "      <td>19200.0</td>\n",
       "      <td>19200.0</td>\n",
       "      <td>36</td>\n",
       "      <td>28.36</td>\n",
       "      <td>4583.33</td>\n",
       "      <td>12.0</td>\n",
       "      <td>11140.0</td>\n",
       "      <td>1.0</td>\n",
       "      <td>2.0</td>\n",
       "      <td>717.0</td>\n",
       "      <td>...</td>\n",
       "      <td>0</td>\n",
       "      <td>0</td>\n",
       "      <td>0</td>\n",
       "      <td>0</td>\n",
       "      <td>0</td>\n",
       "      <td>0</td>\n",
       "      <td>0</td>\n",
       "      <td>0</td>\n",
       "      <td>12.12</td>\n",
       "      <td>2.494857</td>\n",
       "    </tr>\n",
       "    <tr>\n",
       "      <th>2</th>\n",
       "      <td>35000.0</td>\n",
       "      <td>35000.0</td>\n",
       "      <td>60</td>\n",
       "      <td>23.81</td>\n",
       "      <td>11500.00</td>\n",
       "      <td>14.0</td>\n",
       "      <td>21977.0</td>\n",
       "      <td>1.0</td>\n",
       "      <td>2.0</td>\n",
       "      <td>692.0</td>\n",
       "      <td>...</td>\n",
       "      <td>0</td>\n",
       "      <td>0</td>\n",
       "      <td>0</td>\n",
       "      <td>0</td>\n",
       "      <td>0</td>\n",
       "      <td>0</td>\n",
       "      <td>0</td>\n",
       "      <td>0</td>\n",
       "      <td>21.98</td>\n",
       "      <td>3.090133</td>\n",
       "    </tr>\n",
       "    <tr>\n",
       "      <th>3</th>\n",
       "      <td>10000.0</td>\n",
       "      <td>9975.0</td>\n",
       "      <td>36</td>\n",
       "      <td>14.30</td>\n",
       "      <td>3833.33</td>\n",
       "      <td>10.0</td>\n",
       "      <td>9346.0</td>\n",
       "      <td>0.0</td>\n",
       "      <td>5.0</td>\n",
       "      <td>697.0</td>\n",
       "      <td>...</td>\n",
       "      <td>0</td>\n",
       "      <td>0</td>\n",
       "      <td>0</td>\n",
       "      <td>0</td>\n",
       "      <td>0</td>\n",
       "      <td>0</td>\n",
       "      <td>0</td>\n",
       "      <td>0</td>\n",
       "      <td>9.99</td>\n",
       "      <td>2.301585</td>\n",
       "    </tr>\n",
       "    <tr>\n",
       "      <th>4</th>\n",
       "      <td>12000.0</td>\n",
       "      <td>12000.0</td>\n",
       "      <td>36</td>\n",
       "      <td>18.78</td>\n",
       "      <td>3195.00</td>\n",
       "      <td>11.0</td>\n",
       "      <td>14469.0</td>\n",
       "      <td>0.0</td>\n",
       "      <td>9.0</td>\n",
       "      <td>697.0</td>\n",
       "      <td>...</td>\n",
       "      <td>0</td>\n",
       "      <td>0</td>\n",
       "      <td>0</td>\n",
       "      <td>0</td>\n",
       "      <td>0</td>\n",
       "      <td>0</td>\n",
       "      <td>0</td>\n",
       "      <td>1</td>\n",
       "      <td>11.71</td>\n",
       "      <td>2.460443</td>\n",
       "    </tr>\n",
       "  </tbody>\n",
       "</table>\n",
       "<p>5 rows × 74 columns</p>\n",
       "</div>"
      ],
      "text/plain": [
       "   Amount_Requested  Amount_Funded_By_Investors  Loan_Length  \\\n",
       "0           20000.0                     20000.0           36   \n",
       "1           19200.0                     19200.0           36   \n",
       "2           35000.0                     35000.0           60   \n",
       "3           10000.0                      9975.0           36   \n",
       "4           12000.0                     12000.0           36   \n",
       "\n",
       "   Debt_To_Income_Ratio  Monthly_Income  Open_CREDIT_Lines  \\\n",
       "0                 14.90         6541.67               14.0   \n",
       "1                 28.36         4583.33               12.0   \n",
       "2                 23.81        11500.00               14.0   \n",
       "3                 14.30         3833.33               10.0   \n",
       "4                 18.78         3195.00               11.0   \n",
       "\n",
       "   Revolving_CREDIT_Balance  Inquiries_in_the_Last_6_Months  \\\n",
       "0                   14272.0                             2.0   \n",
       "1                   11140.0                             1.0   \n",
       "2                   21977.0                             1.0   \n",
       "3                    9346.0                             0.0   \n",
       "4                   14469.0                             0.0   \n",
       "\n",
       "   Employment_Length  Fico_Avg  ...  State_WA  State_WI  State_WV  State_WY  \\\n",
       "0                1.0     737.0  ...         0         0         0         0   \n",
       "1                2.0     717.0  ...         0         0         0         0   \n",
       "2                2.0     692.0  ...         0         0         0         0   \n",
       "3                5.0     697.0  ...         0         0         0         0   \n",
       "4                9.0     697.0  ...         0         0         0         0   \n",
       "\n",
       "   Home_Ownership_NONE  Home_Ownership_OTHER  Home_Ownership_OWN  \\\n",
       "0                    0                     0                   0   \n",
       "1                    0                     0                   0   \n",
       "2                    0                     0                   0   \n",
       "3                    0                     0                   0   \n",
       "4                    0                     0                   0   \n",
       "\n",
       "   Home_Ownership_RENT  Interest_Rate  ln_Interest_Rate  \n",
       "0                    0           8.90          2.186051  \n",
       "1                    0          12.12          2.494857  \n",
       "2                    0          21.98          3.090133  \n",
       "3                    0           9.99          2.301585  \n",
       "4                    1          11.71          2.460443  \n",
       "\n",
       "[5 rows x 74 columns]"
      ]
     },
     "execution_count": 59,
     "metadata": {},
     "output_type": "execute_result"
    }
   ],
   "source": [
    "df_cleaned.head()"
   ]
  },
  {
   "cell_type": "markdown",
   "metadata": {},
   "source": [
    "#### Checking Correlation b/w X and Y"
   ]
  },
  {
   "cell_type": "code",
   "execution_count": 60,
   "metadata": {},
   "outputs": [
    {
     "data": {
      "text/plain": [
       "Amount_Requested                  0.303102\n",
       "Amount_Funded_By_Investors        0.303316\n",
       "Loan_Length                       0.386748\n",
       "Debt_To_Income_Ratio              0.179010\n",
       "Monthly_Income                   -0.007691\n",
       "Open_CREDIT_Lines                 0.073854\n",
       "Revolving_CREDIT_Balance          0.060517\n",
       "Inquiries_in_the_Last_6_Months    0.171928\n",
       "Employment_Length                 0.035880\n",
       "Fico_Avg                         -0.742282\n",
       "dtype: float64"
      ]
     },
     "execution_count": 60,
     "metadata": {},
     "output_type": "execute_result"
    }
   ],
   "source": [
    "df_num.corrwith(df_cleaned.ln_Interest_Rate)"
   ]
  },
  {
   "cell_type": "markdown",
   "metadata": {},
   "source": [
    "#### Checking Correlation b/w X and X"
   ]
  },
  {
   "cell_type": "code",
   "execution_count": 61,
   "metadata": {},
   "outputs": [],
   "source": [
    "corr_matrix = df_num.corr()"
   ]
  },
  {
   "cell_type": "code",
   "execution_count": 62,
   "metadata": {},
   "outputs": [
    {
     "data": {
      "text/plain": [
       "<AxesSubplot:>"
      ]
     },
     "execution_count": 62,
     "metadata": {},
     "output_type": "execute_result"
    },
    {
     "data": {
      "image/png": "[encoded data removed]",
      "text/plain": [
       "<Figure size 432x288 with 2 Axes>"
      ]
     },
     "metadata": {
      "needs_background": "light"
     },
     "output_type": "display_data"
    }
   ],
   "source": [
    "sns.heatmap(corr_matrix)"
   ]
  },
  {
   "cell_type": "markdown",
   "metadata": {},
   "source": [
    "### Data Preparation Level 3 : Feature Engineering --> Feature Selection (Feature Reduction)"
   ]
  },
  {
   "cell_type": "code",
   "execution_count": 63,
   "metadata": {},
   "outputs": [],
   "source": [
    "target = df_cleaned.ln_Interest_Rate"
   ]
  },
  {
   "cell_type": "code",
   "execution_count": 64,
   "metadata": {},
   "outputs": [],
   "source": [
    "features = df_cleaned[df_cleaned.columns.difference(['Interest_Rate','ln_Interest_Rate'])]"
   ]
  },
  {
   "cell_type": "markdown",
   "metadata": {},
   "source": [
    "### RFE"
   ]
  },
  {
   "cell_type": "code",
   "execution_count": 65,
   "metadata": {},
   "outputs": [],
   "source": [
    "from sklearn.feature_selection import RFE\n",
    "\n",
    "from sklearn.linear_model import LinearRegression"
   ]
  },
  {
   "cell_type": "code",
   "execution_count": 66,
   "metadata": {},
   "outputs": [],
   "source": [
    "# Initlaize the Linear Regression Model\n",
    "\n",
    "lm = LinearRegression()"
   ]
  },
  {
   "cell_type": "code",
   "execution_count": 67,
   "metadata": {},
   "outputs": [],
   "source": [
    "# Initlalzing the RFE Model\n",
    "\n",
    "rfe = RFE(lm, n_features_to_select=10)"
   ]
  },
  {
   "cell_type": "code",
   "execution_count": 68,
   "metadata": {},
   "outputs": [],
   "source": [
    "# Fit the RFE Model\n",
    "\n",
    "rfe = rfe.fit(features, target)"
   ]
  },
  {
   "cell_type": "code",
   "execution_count": 69,
   "metadata": {},
   "outputs": [],
   "source": [
    "RFE_imp_vars = features.columns[rfe.get_support()]"
   ]
  },
  {
   "cell_type": "code",
   "execution_count": 70,
   "metadata": {},
   "outputs": [
    {
     "data": {
      "text/plain": [
       "['Home_Ownership_NONE',\n",
       " 'Home_Ownership_OTHER',\n",
       " 'Loan_Purpose_credit_card',\n",
       " 'Loan_Purpose_debt_consolidation',\n",
       " 'Loan_Purpose_house',\n",
       " 'Loan_Purpose_moving',\n",
       " 'Loan_Purpose_other',\n",
       " 'Loan_Purpose_small_business',\n",
       " 'State_MT',\n",
       " 'State_SD']"
      ]
     },
     "execution_count": 70,
     "metadata": {},
     "output_type": "execute_result"
    }
   ],
   "source": [
    "list(RFE_imp_vars)"
   ]
  },
  {
   "cell_type": "markdown",
   "metadata": {},
   "source": [
    "### F Regression (Univaraite Regression)"
   ]
  },
  {
   "cell_type": "code",
   "execution_count": 71,
   "metadata": {},
   "outputs": [],
   "source": [
    "from sklearn.feature_selection import f_regression"
   ]
  },
  {
   "cell_type": "code",
   "execution_count": 72,
   "metadata": {},
   "outputs": [],
   "source": [
    "F_values, p_values  = f_regression(features, target )"
   ]
  },
  {
   "cell_type": "code",
   "execution_count": 73,
   "metadata": {},
   "outputs": [],
   "source": [
    "F_values = pd.Series(F_values)\n",
    "p_values = pd.Series(p_values)"
   ]
  },
  {
   "cell_type": "code",
   "execution_count": 74,
   "metadata": {},
   "outputs": [],
   "source": [
    "cols = pd.Series(features.columns)"
   ]
  },
  {
   "cell_type": "code",
   "execution_count": 75,
   "metadata": {},
   "outputs": [
    {
     "data": {
      "text/plain": [
       "0     Amount_Funded_By_Investors\n",
       "1               Amount_Requested\n",
       "2           Debt_To_Income_Ratio\n",
       "3              Employment_Length\n",
       "4                       Fico_Avg\n",
       "                 ...            \n",
       "67                      State_VT\n",
       "68                      State_WA\n",
       "69                      State_WI\n",
       "70                      State_WV\n",
       "71                      State_WY\n",
       "Length: 72, dtype: object"
      ]
     },
     "execution_count": 75,
     "metadata": {},
     "output_type": "execute_result"
    }
   ],
   "source": [
    "cols"
   ]
  },
  {
   "cell_type": "code",
   "execution_count": 76,
   "metadata": {},
   "outputs": [],
   "source": [
    "f_reg_res = pd.concat([cols,F_values,p_values],axis=1)"
   ]
  },
  {
   "cell_type": "code",
   "execution_count": 77,
   "metadata": {},
   "outputs": [],
   "source": [
    "f_reg_res.columns = ['cols','F_values','p_values']"
   ]
  },
  {
   "cell_type": "code",
   "execution_count": 78,
   "metadata": {},
   "outputs": [
    {
     "data": {
      "text/html": [
       "<div>\n",
       "<style scoped>\n",
       "    .dataframe tbody tr th:only-of-type {\n",
       "        vertical-align: middle;\n",
       "    }\n",
       "\n",
       "    .dataframe tbody tr th {\n",
       "        vertical-align: top;\n",
       "    }\n",
       "\n",
       "    .dataframe thead th {\n",
       "        text-align: right;\n",
       "    }\n",
       "</style>\n",
       "<table border=\"1\" class=\"dataframe\">\n",
       "  <thead>\n",
       "    <tr style=\"text-align: right;\">\n",
       "      <th></th>\n",
       "      <th>cols</th>\n",
       "      <th>F_values</th>\n",
       "      <th>p_values</th>\n",
       "    </tr>\n",
       "  </thead>\n",
       "  <tbody>\n",
       "    <tr>\n",
       "      <th>0</th>\n",
       "      <td>Amount_Funded_By_Investors</td>\n",
       "      <td>253.092169</td>\n",
       "      <td>2.357878e-54</td>\n",
       "    </tr>\n",
       "    <tr>\n",
       "      <th>1</th>\n",
       "      <td>Amount_Requested</td>\n",
       "      <td>252.639373</td>\n",
       "      <td>2.898346e-54</td>\n",
       "    </tr>\n",
       "    <tr>\n",
       "      <th>2</th>\n",
       "      <td>Debt_To_Income_Ratio</td>\n",
       "      <td>82.483418</td>\n",
       "      <td>2.109598e-19</td>\n",
       "    </tr>\n",
       "    <tr>\n",
       "      <th>3</th>\n",
       "      <td>Employment_Length</td>\n",
       "      <td>3.163799</td>\n",
       "      <td>7.540949e-02</td>\n",
       "    </tr>\n",
       "    <tr>\n",
       "      <th>4</th>\n",
       "      <td>Fico_Avg</td>\n",
       "      <td>3105.726205</td>\n",
       "      <td>0.000000e+00</td>\n",
       "    </tr>\n",
       "    <tr>\n",
       "      <th>...</th>\n",
       "      <td>...</td>\n",
       "      <td>...</td>\n",
       "      <td>...</td>\n",
       "    </tr>\n",
       "    <tr>\n",
       "      <th>67</th>\n",
       "      <td>State_VT</td>\n",
       "      <td>4.772185</td>\n",
       "      <td>2.901583e-02</td>\n",
       "    </tr>\n",
       "    <tr>\n",
       "      <th>68</th>\n",
       "      <td>State_WA</td>\n",
       "      <td>0.031011</td>\n",
       "      <td>8.602302e-01</td>\n",
       "    </tr>\n",
       "    <tr>\n",
       "      <th>69</th>\n",
       "      <td>State_WI</td>\n",
       "      <td>0.535373</td>\n",
       "      <td>4.644252e-01</td>\n",
       "    </tr>\n",
       "    <tr>\n",
       "      <th>70</th>\n",
       "      <td>State_WV</td>\n",
       "      <td>0.952258</td>\n",
       "      <td>3.292399e-01</td>\n",
       "    </tr>\n",
       "    <tr>\n",
       "      <th>71</th>\n",
       "      <td>State_WY</td>\n",
       "      <td>0.165158</td>\n",
       "      <td>6.844862e-01</td>\n",
       "    </tr>\n",
       "  </tbody>\n",
       "</table>\n",
       "<p>72 rows × 3 columns</p>\n",
       "</div>"
      ],
      "text/plain": [
       "                          cols     F_values      p_values\n",
       "0   Amount_Funded_By_Investors   253.092169  2.357878e-54\n",
       "1             Amount_Requested   252.639373  2.898346e-54\n",
       "2         Debt_To_Income_Ratio    82.483418  2.109598e-19\n",
       "3            Employment_Length     3.163799  7.540949e-02\n",
       "4                     Fico_Avg  3105.726205  0.000000e+00\n",
       "..                         ...          ...           ...\n",
       "67                    State_VT     4.772185  2.901583e-02\n",
       "68                    State_WA     0.031011  8.602302e-01\n",
       "69                    State_WI     0.535373  4.644252e-01\n",
       "70                    State_WV     0.952258  3.292399e-01\n",
       "71                    State_WY     0.165158  6.844862e-01\n",
       "\n",
       "[72 rows x 3 columns]"
      ]
     },
     "execution_count": 78,
     "metadata": {},
     "output_type": "execute_result"
    }
   ],
   "source": [
    "f_reg_res"
   ]
  },
  {
   "cell_type": "code",
   "execution_count": 79,
   "metadata": {},
   "outputs": [],
   "source": [
    "top_10_f_reg = f_reg_res.sort_values(by=['F_values'],ascending=False).head(10)"
   ]
  },
  {
   "cell_type": "code",
   "execution_count": 80,
   "metadata": {},
   "outputs": [
    {
     "data": {
      "text/plain": [
       "['Fico_Avg',\n",
       " 'Loan_Length',\n",
       " 'Amount_Funded_By_Investors',\n",
       " 'Amount_Requested',\n",
       " 'Debt_To_Income_Ratio',\n",
       " 'Inquiries_in_the_Last_6_Months',\n",
       " 'Loan_Purpose_debt_consolidation',\n",
       " 'Loan_Purpose_major_purchase',\n",
       " 'Loan_Purpose_home_improvement',\n",
       " 'Home_Ownership_RENT']"
      ]
     },
     "execution_count": 80,
     "metadata": {},
     "output_type": "execute_result"
    }
   ],
   "source": [
    "list(top_10_f_reg.cols)"
   ]
  },
  {
   "cell_type": "markdown",
   "metadata": {},
   "source": [
    "### K Best"
   ]
  },
  {
   "cell_type": "code",
   "execution_count": 81,
   "metadata": {},
   "outputs": [],
   "source": [
    "from sklearn.feature_selection import SelectKBest, f_classif, chi2"
   ]
  },
  {
   "cell_type": "code",
   "execution_count": 82,
   "metadata": {},
   "outputs": [],
   "source": [
    "## Initalize the K Best Model\n",
    "\n",
    "selector = SelectKBest(f_classif, k=10)"
   ]
  },
  {
   "cell_type": "code",
   "execution_count": 83,
   "metadata": {},
   "outputs": [
    {
     "name": "stderr",
     "output_type": "stream",
     "text": [
      "C:\\ProgramData\\Anaconda3\\lib\\site-packages\\sklearn\\feature_selection\\_univariate_selection.py:116: RuntimeWarning: divide by zero encountered in true_divide\n",
      "  f = msb / msw\n"
     ]
    },
    {
     "data": {
      "text/plain": [
       "SelectKBest()"
      ]
     },
     "execution_count": 83,
     "metadata": {},
     "output_type": "execute_result"
    }
   ],
   "source": [
    "### Fit the model\n",
    "\n",
    "selector.fit(features, target)"
   ]
  },
  {
   "cell_type": "code",
   "execution_count": 84,
   "metadata": {},
   "outputs": [],
   "source": [
    "K_Best_10 = features.columns[selector.get_support()]"
   ]
  },
  {
   "cell_type": "code",
   "execution_count": 85,
   "metadata": {},
   "outputs": [
    {
     "data": {
      "text/plain": [
       "['Amount_Funded_By_Investors',\n",
       " 'Fico_Avg',\n",
       " 'Home_Ownership_NONE',\n",
       " 'Home_Ownership_OTHER',\n",
       " 'Inquiries_in_the_Last_6_Months',\n",
       " 'Loan_Length',\n",
       " 'Loan_Purpose_educational',\n",
       " 'State_IA',\n",
       " 'State_IN',\n",
       " 'State_MS']"
      ]
     },
     "execution_count": 85,
     "metadata": {},
     "output_type": "execute_result"
    }
   ],
   "source": [
    "list(K_Best_10)"
   ]
  },
  {
   "cell_type": "markdown",
   "metadata": {},
   "source": [
    "### Corr between X and Y"
   ]
  },
  {
   "cell_type": "code",
   "execution_count": 86,
   "metadata": {},
   "outputs": [
    {
     "data": {
      "text/plain": [
       "Amount_Requested              0.303174\n",
       "Amount_Funded_By_Investors    0.303420\n",
       "Loan_Length                   0.386748\n",
       "Debt_To_Income_Ratio          0.178855\n",
       "Monthly_Income                0.015095\n",
       "                                ...   \n",
       "Home_Ownership_OTHER          0.032261\n",
       "Home_Ownership_OWN           -0.014625\n",
       "Home_Ownership_RENT           0.086829\n",
       "Interest_Rate                 0.981566\n",
       "ln_Interest_Rate              1.000000\n",
       "Length: 74, dtype: float64"
      ]
     },
     "execution_count": 86,
     "metadata": {},
     "output_type": "execute_result"
    }
   ],
   "source": [
    "df_cleaned.corrwith(df_cleaned.ln_Interest_Rate)"
   ]
  },
  {
   "cell_type": "code",
   "execution_count": 87,
   "metadata": {},
   "outputs": [],
   "source": [
    "Column_Names = pd.Series(list(df_cleaned.corrwith(df_cleaned.ln_Interest_Rate).index),name='Column_Names')"
   ]
  },
  {
   "cell_type": "code",
   "execution_count": 88,
   "metadata": {},
   "outputs": [],
   "source": [
    "r_values =  pd.Series(list(df_cleaned.corrwith(df_cleaned.ln_Interest_Rate)),name='r_values')"
   ]
  },
  {
   "cell_type": "code",
   "execution_count": 89,
   "metadata": {},
   "outputs": [],
   "source": [
    "corr = pd.concat([Column_Names,r_values],axis=1)"
   ]
  },
  {
   "cell_type": "code",
   "execution_count": 90,
   "metadata": {},
   "outputs": [],
   "source": [
    "corr['r_values_abs'] = np.abs(corr.r_values)"
   ]
  },
  {
   "cell_type": "code",
   "execution_count": 91,
   "metadata": {},
   "outputs": [
    {
     "data": {
      "text/html": [
       "<div>\n",
       "<style scoped>\n",
       "    .dataframe tbody tr th:only-of-type {\n",
       "        vertical-align: middle;\n",
       "    }\n",
       "\n",
       "    .dataframe tbody tr th {\n",
       "        vertical-align: top;\n",
       "    }\n",
       "\n",
       "    .dataframe thead th {\n",
       "        text-align: right;\n",
       "    }\n",
       "</style>\n",
       "<table border=\"1\" class=\"dataframe\">\n",
       "  <thead>\n",
       "    <tr style=\"text-align: right;\">\n",
       "      <th></th>\n",
       "      <th>Column_Names</th>\n",
       "      <th>r_values</th>\n",
       "      <th>r_values_abs</th>\n",
       "    </tr>\n",
       "  </thead>\n",
       "  <tbody>\n",
       "    <tr>\n",
       "      <th>0</th>\n",
       "      <td>Amount_Requested</td>\n",
       "      <td>0.303174</td>\n",
       "      <td>0.303174</td>\n",
       "    </tr>\n",
       "    <tr>\n",
       "      <th>1</th>\n",
       "      <td>Amount_Funded_By_Investors</td>\n",
       "      <td>0.303420</td>\n",
       "      <td>0.303420</td>\n",
       "    </tr>\n",
       "    <tr>\n",
       "      <th>2</th>\n",
       "      <td>Loan_Length</td>\n",
       "      <td>0.386748</td>\n",
       "      <td>0.386748</td>\n",
       "    </tr>\n",
       "    <tr>\n",
       "      <th>3</th>\n",
       "      <td>Debt_To_Income_Ratio</td>\n",
       "      <td>0.178855</td>\n",
       "      <td>0.178855</td>\n",
       "    </tr>\n",
       "    <tr>\n",
       "      <th>4</th>\n",
       "      <td>Monthly_Income</td>\n",
       "      <td>0.015095</td>\n",
       "      <td>0.015095</td>\n",
       "    </tr>\n",
       "    <tr>\n",
       "      <th>...</th>\n",
       "      <td>...</td>\n",
       "      <td>...</td>\n",
       "      <td>...</td>\n",
       "    </tr>\n",
       "    <tr>\n",
       "      <th>69</th>\n",
       "      <td>Home_Ownership_OTHER</td>\n",
       "      <td>0.032261</td>\n",
       "      <td>0.032261</td>\n",
       "    </tr>\n",
       "    <tr>\n",
       "      <th>70</th>\n",
       "      <td>Home_Ownership_OWN</td>\n",
       "      <td>-0.014625</td>\n",
       "      <td>0.014625</td>\n",
       "    </tr>\n",
       "    <tr>\n",
       "      <th>71</th>\n",
       "      <td>Home_Ownership_RENT</td>\n",
       "      <td>0.086829</td>\n",
       "      <td>0.086829</td>\n",
       "    </tr>\n",
       "    <tr>\n",
       "      <th>72</th>\n",
       "      <td>Interest_Rate</td>\n",
       "      <td>0.981566</td>\n",
       "      <td>0.981566</td>\n",
       "    </tr>\n",
       "    <tr>\n",
       "      <th>73</th>\n",
       "      <td>ln_Interest_Rate</td>\n",
       "      <td>1.000000</td>\n",
       "      <td>1.000000</td>\n",
       "    </tr>\n",
       "  </tbody>\n",
       "</table>\n",
       "<p>74 rows × 3 columns</p>\n",
       "</div>"
      ],
      "text/plain": [
       "                  Column_Names  r_values  r_values_abs\n",
       "0             Amount_Requested  0.303174      0.303174\n",
       "1   Amount_Funded_By_Investors  0.303420      0.303420\n",
       "2                  Loan_Length  0.386748      0.386748\n",
       "3         Debt_To_Income_Ratio  0.178855      0.178855\n",
       "4               Monthly_Income  0.015095      0.015095\n",
       "..                         ...       ...           ...\n",
       "69        Home_Ownership_OTHER  0.032261      0.032261\n",
       "70          Home_Ownership_OWN -0.014625      0.014625\n",
       "71         Home_Ownership_RENT  0.086829      0.086829\n",
       "72               Interest_Rate  0.981566      0.981566\n",
       "73            ln_Interest_Rate  1.000000      1.000000\n",
       "\n",
       "[74 rows x 3 columns]"
      ]
     },
     "execution_count": 91,
     "metadata": {},
     "output_type": "execute_result"
    }
   ],
   "source": [
    "corr"
   ]
  },
  {
   "cell_type": "code",
   "execution_count": 92,
   "metadata": {},
   "outputs": [],
   "source": [
    "corr_12 = corr.sort_values(by=['r_values_abs'],ascending=False).head(12)"
   ]
  },
  {
   "cell_type": "code",
   "execution_count": 93,
   "metadata": {},
   "outputs": [
    {
     "data": {
      "text/plain": [
       "['ln_Interest_Rate',\n",
       " 'Interest_Rate',\n",
       " 'Fico_Avg',\n",
       " 'Loan_Length',\n",
       " 'Amount_Funded_By_Investors',\n",
       " 'Amount_Requested',\n",
       " 'Debt_To_Income_Ratio',\n",
       " 'Inquiries_in_the_Last_6_Months',\n",
       " 'Loan_Purpose_debt_consolidation',\n",
       " 'Loan_Purpose_major_purchase',\n",
       " 'Loan_Purpose_home_improvement',\n",
       " 'Home_Ownership_RENT']"
      ]
     },
     "execution_count": 93,
     "metadata": {},
     "output_type": "execute_result"
    }
   ],
   "source": [
    "list(corr_12['Column_Names'])"
   ]
  },
  {
   "cell_type": "code",
   "execution_count": 94,
   "metadata": {},
   "outputs": [],
   "source": [
    "Final_Vars = {'Home_Ownership_NONE',\n",
    " 'Home_Ownership_OTHER',\n",
    " 'Loan_Purpose_credit_card',\n",
    " 'Loan_Purpose_debt_consolidation',\n",
    " 'Loan_Purpose_house',\n",
    " 'Loan_Purpose_moving',\n",
    " 'Loan_Purpose_other',\n",
    " 'Loan_Purpose_small_business',\n",
    " 'State_MT',\n",
    " 'State_SD',\n",
    "'Fico_Avg',\n",
    " 'Loan_Length',\n",
    " 'Amount_Funded_By_Investors',\n",
    " 'Amount_Requested',\n",
    " 'Debt_To_Income_Ratio',\n",
    " 'Inquiries_in_the_Last_6_Months',\n",
    " 'Loan_Purpose_debt_consolidation',\n",
    " 'Loan_Purpose_major_purchase',\n",
    " 'Loan_Purpose_home_improvement',\n",
    " 'Home_Ownership_RENT',\n",
    "'Amount_Funded_By_Investors',\n",
    " 'Fico_Avg',\n",
    " 'Home_Ownership_NONE',\n",
    " 'Home_Ownership_OTHER',\n",
    " 'Inquiries_in_the_Last_6_Months',\n",
    " 'Loan_Length',\n",
    " 'Loan_Purpose_educational',\n",
    " 'State_IA',\n",
    " 'State_IN',\n",
    " 'State_MS',\n",
    "'Fico_Avg',\n",
    " 'Loan_Length',\n",
    " 'Amount_Funded_By_Investors',\n",
    " 'Amount_Requested',\n",
    " 'Debt_To_Income_Ratio',\n",
    " 'Inquiries_in_the_Last_6_Months',\n",
    " 'Loan_Purpose_debt_consolidation',\n",
    " 'Loan_Purpose_major_purchase',\n",
    " 'Loan_Purpose_home_improvement',\n",
    " 'Home_Ownership_RENT',\n",
    " 'Revolving_CREDIT_Balance'}"
   ]
  },
  {
   "cell_type": "code",
   "execution_count": 95,
   "metadata": {},
   "outputs": [],
   "source": [
    "Final_Vars = list(Final_Vars)"
   ]
  },
  {
   "cell_type": "code",
   "execution_count": 96,
   "metadata": {},
   "outputs": [],
   "source": [
    "features_reduced = features[Final_Vars]"
   ]
  },
  {
   "cell_type": "code",
   "execution_count": 97,
   "metadata": {},
   "outputs": [
    {
     "data": {
      "text/plain": [
       "Index(['Loan_Purpose_other', 'State_SD', 'Amount_Funded_By_Investors',\n",
       "       'State_MT', 'Home_Ownership_OTHER', 'Revolving_CREDIT_Balance',\n",
       "       'Inquiries_in_the_Last_6_Months', 'Loan_Purpose_major_purchase',\n",
       "       'State_MS', 'Loan_Purpose_house', 'State_IN',\n",
       "       'Loan_Purpose_credit_card', 'Debt_To_Income_Ratio', 'Fico_Avg',\n",
       "       'Home_Ownership_NONE', 'State_IA', 'Loan_Purpose_small_business',\n",
       "       'Loan_Purpose_home_improvement', 'Loan_Purpose_debt_consolidation',\n",
       "       'Loan_Purpose_moving', 'Home_Ownership_RENT', 'Amount_Requested',\n",
       "       'Loan_Length', 'Loan_Purpose_educational'],\n",
       "      dtype='object')"
      ]
     },
     "execution_count": 97,
     "metadata": {},
     "output_type": "execute_result"
    }
   ],
   "source": [
    "features_reduced.columns"
   ]
  },
  {
   "cell_type": "markdown",
   "metadata": {},
   "source": [
    "### VIF"
   ]
  },
  {
   "cell_type": "code",
   "execution_count": 98,
   "metadata": {},
   "outputs": [
    {
     "data": {
      "text/html": [
       "<div>\n",
       "<style scoped>\n",
       "    .dataframe tbody tr th:only-of-type {\n",
       "        vertical-align: middle;\n",
       "    }\n",
       "\n",
       "    .dataframe tbody tr th {\n",
       "        vertical-align: top;\n",
       "    }\n",
       "\n",
       "    .dataframe thead th {\n",
       "        text-align: right;\n",
       "    }\n",
       "</style>\n",
       "<table border=\"1\" class=\"dataframe\">\n",
       "  <thead>\n",
       "    <tr style=\"text-align: right;\">\n",
       "      <th></th>\n",
       "      <th>Loan_Purpose_other</th>\n",
       "      <th>State_SD</th>\n",
       "      <th>Amount_Funded_By_Investors</th>\n",
       "      <th>State_MT</th>\n",
       "      <th>Home_Ownership_OTHER</th>\n",
       "      <th>Revolving_CREDIT_Balance</th>\n",
       "      <th>Inquiries_in_the_Last_6_Months</th>\n",
       "      <th>Loan_Purpose_major_purchase</th>\n",
       "      <th>State_MS</th>\n",
       "      <th>Loan_Purpose_house</th>\n",
       "      <th>...</th>\n",
       "      <th>Home_Ownership_NONE</th>\n",
       "      <th>State_IA</th>\n",
       "      <th>Loan_Purpose_small_business</th>\n",
       "      <th>Loan_Purpose_home_improvement</th>\n",
       "      <th>Loan_Purpose_debt_consolidation</th>\n",
       "      <th>Loan_Purpose_moving</th>\n",
       "      <th>Home_Ownership_RENT</th>\n",
       "      <th>Amount_Requested</th>\n",
       "      <th>Loan_Length</th>\n",
       "      <th>Loan_Purpose_educational</th>\n",
       "    </tr>\n",
       "  </thead>\n",
       "  <tbody>\n",
       "    <tr>\n",
       "      <th>0</th>\n",
       "      <td>0</td>\n",
       "      <td>0</td>\n",
       "      <td>20000.00</td>\n",
       "      <td>0</td>\n",
       "      <td>0</td>\n",
       "      <td>14272.0</td>\n",
       "      <td>2.0</td>\n",
       "      <td>0</td>\n",
       "      <td>0</td>\n",
       "      <td>0</td>\n",
       "      <td>...</td>\n",
       "      <td>0</td>\n",
       "      <td>0</td>\n",
       "      <td>0</td>\n",
       "      <td>0</td>\n",
       "      <td>1</td>\n",
       "      <td>0</td>\n",
       "      <td>0</td>\n",
       "      <td>20000.0</td>\n",
       "      <td>36</td>\n",
       "      <td>0</td>\n",
       "    </tr>\n",
       "    <tr>\n",
       "      <th>1</th>\n",
       "      <td>0</td>\n",
       "      <td>0</td>\n",
       "      <td>19200.00</td>\n",
       "      <td>0</td>\n",
       "      <td>0</td>\n",
       "      <td>11140.0</td>\n",
       "      <td>1.0</td>\n",
       "      <td>0</td>\n",
       "      <td>0</td>\n",
       "      <td>0</td>\n",
       "      <td>...</td>\n",
       "      <td>0</td>\n",
       "      <td>0</td>\n",
       "      <td>0</td>\n",
       "      <td>0</td>\n",
       "      <td>1</td>\n",
       "      <td>0</td>\n",
       "      <td>0</td>\n",
       "      <td>19200.0</td>\n",
       "      <td>36</td>\n",
       "      <td>0</td>\n",
       "    </tr>\n",
       "    <tr>\n",
       "      <th>2</th>\n",
       "      <td>0</td>\n",
       "      <td>0</td>\n",
       "      <td>35000.00</td>\n",
       "      <td>0</td>\n",
       "      <td>0</td>\n",
       "      <td>21977.0</td>\n",
       "      <td>1.0</td>\n",
       "      <td>0</td>\n",
       "      <td>0</td>\n",
       "      <td>0</td>\n",
       "      <td>...</td>\n",
       "      <td>0</td>\n",
       "      <td>0</td>\n",
       "      <td>0</td>\n",
       "      <td>0</td>\n",
       "      <td>1</td>\n",
       "      <td>0</td>\n",
       "      <td>0</td>\n",
       "      <td>35000.0</td>\n",
       "      <td>60</td>\n",
       "      <td>0</td>\n",
       "    </tr>\n",
       "    <tr>\n",
       "      <th>3</th>\n",
       "      <td>0</td>\n",
       "      <td>0</td>\n",
       "      <td>9975.00</td>\n",
       "      <td>0</td>\n",
       "      <td>0</td>\n",
       "      <td>9346.0</td>\n",
       "      <td>0.0</td>\n",
       "      <td>0</td>\n",
       "      <td>0</td>\n",
       "      <td>0</td>\n",
       "      <td>...</td>\n",
       "      <td>0</td>\n",
       "      <td>0</td>\n",
       "      <td>0</td>\n",
       "      <td>0</td>\n",
       "      <td>1</td>\n",
       "      <td>0</td>\n",
       "      <td>0</td>\n",
       "      <td>10000.0</td>\n",
       "      <td>36</td>\n",
       "      <td>0</td>\n",
       "    </tr>\n",
       "    <tr>\n",
       "      <th>4</th>\n",
       "      <td>0</td>\n",
       "      <td>0</td>\n",
       "      <td>12000.00</td>\n",
       "      <td>0</td>\n",
       "      <td>0</td>\n",
       "      <td>14469.0</td>\n",
       "      <td>0.0</td>\n",
       "      <td>0</td>\n",
       "      <td>0</td>\n",
       "      <td>0</td>\n",
       "      <td>...</td>\n",
       "      <td>0</td>\n",
       "      <td>0</td>\n",
       "      <td>0</td>\n",
       "      <td>0</td>\n",
       "      <td>0</td>\n",
       "      <td>0</td>\n",
       "      <td>1</td>\n",
       "      <td>12000.0</td>\n",
       "      <td>36</td>\n",
       "      <td>0</td>\n",
       "    </tr>\n",
       "    <tr>\n",
       "      <th>...</th>\n",
       "      <td>...</td>\n",
       "      <td>...</td>\n",
       "      <td>...</td>\n",
       "      <td>...</td>\n",
       "      <td>...</td>\n",
       "      <td>...</td>\n",
       "      <td>...</td>\n",
       "      <td>...</td>\n",
       "      <td>...</td>\n",
       "      <td>...</td>\n",
       "      <td>...</td>\n",
       "      <td>...</td>\n",
       "      <td>...</td>\n",
       "      <td>...</td>\n",
       "      <td>...</td>\n",
       "      <td>...</td>\n",
       "      <td>...</td>\n",
       "      <td>...</td>\n",
       "      <td>...</td>\n",
       "      <td>...</td>\n",
       "      <td>...</td>\n",
       "    </tr>\n",
       "    <tr>\n",
       "      <th>2495</th>\n",
       "      <td>0</td>\n",
       "      <td>0</td>\n",
       "      <td>29950.00</td>\n",
       "      <td>0</td>\n",
       "      <td>0</td>\n",
       "      <td>45880.0</td>\n",
       "      <td>1.0</td>\n",
       "      <td>0</td>\n",
       "      <td>0</td>\n",
       "      <td>0</td>\n",
       "      <td>...</td>\n",
       "      <td>0</td>\n",
       "      <td>0</td>\n",
       "      <td>0</td>\n",
       "      <td>0</td>\n",
       "      <td>1</td>\n",
       "      <td>0</td>\n",
       "      <td>0</td>\n",
       "      <td>30000.0</td>\n",
       "      <td>60</td>\n",
       "      <td>0</td>\n",
       "    </tr>\n",
       "    <tr>\n",
       "      <th>2496</th>\n",
       "      <td>0</td>\n",
       "      <td>0</td>\n",
       "      <td>16000.00</td>\n",
       "      <td>0</td>\n",
       "      <td>0</td>\n",
       "      <td>18898.0</td>\n",
       "      <td>1.0</td>\n",
       "      <td>0</td>\n",
       "      <td>0</td>\n",
       "      <td>0</td>\n",
       "      <td>...</td>\n",
       "      <td>0</td>\n",
       "      <td>0</td>\n",
       "      <td>0</td>\n",
       "      <td>1</td>\n",
       "      <td>0</td>\n",
       "      <td>0</td>\n",
       "      <td>0</td>\n",
       "      <td>16000.0</td>\n",
       "      <td>60</td>\n",
       "      <td>0</td>\n",
       "    </tr>\n",
       "    <tr>\n",
       "      <th>2497</th>\n",
       "      <td>0</td>\n",
       "      <td>0</td>\n",
       "      <td>10000.00</td>\n",
       "      <td>0</td>\n",
       "      <td>0</td>\n",
       "      <td>4544.0</td>\n",
       "      <td>0.0</td>\n",
       "      <td>0</td>\n",
       "      <td>0</td>\n",
       "      <td>0</td>\n",
       "      <td>...</td>\n",
       "      <td>0</td>\n",
       "      <td>0</td>\n",
       "      <td>0</td>\n",
       "      <td>0</td>\n",
       "      <td>1</td>\n",
       "      <td>0</td>\n",
       "      <td>0</td>\n",
       "      <td>10000.0</td>\n",
       "      <td>36</td>\n",
       "      <td>0</td>\n",
       "    </tr>\n",
       "    <tr>\n",
       "      <th>2498</th>\n",
       "      <td>0</td>\n",
       "      <td>0</td>\n",
       "      <td>6000.00</td>\n",
       "      <td>0</td>\n",
       "      <td>0</td>\n",
       "      <td>7753.0</td>\n",
       "      <td>0.0</td>\n",
       "      <td>1</td>\n",
       "      <td>0</td>\n",
       "      <td>0</td>\n",
       "      <td>...</td>\n",
       "      <td>0</td>\n",
       "      <td>0</td>\n",
       "      <td>0</td>\n",
       "      <td>0</td>\n",
       "      <td>0</td>\n",
       "      <td>0</td>\n",
       "      <td>1</td>\n",
       "      <td>6000.0</td>\n",
       "      <td>36</td>\n",
       "      <td>0</td>\n",
       "    </tr>\n",
       "    <tr>\n",
       "      <th>2499</th>\n",
       "      <td>0</td>\n",
       "      <td>0</td>\n",
       "      <td>5242.75</td>\n",
       "      <td>0</td>\n",
       "      <td>0</td>\n",
       "      <td>7589.0</td>\n",
       "      <td>0.0</td>\n",
       "      <td>0</td>\n",
       "      <td>0</td>\n",
       "      <td>0</td>\n",
       "      <td>...</td>\n",
       "      <td>0</td>\n",
       "      <td>0</td>\n",
       "      <td>0</td>\n",
       "      <td>0</td>\n",
       "      <td>1</td>\n",
       "      <td>0</td>\n",
       "      <td>1</td>\n",
       "      <td>9000.0</td>\n",
       "      <td>36</td>\n",
       "      <td>0</td>\n",
       "    </tr>\n",
       "  </tbody>\n",
       "</table>\n",
       "<p>2498 rows × 24 columns</p>\n",
       "</div>"
      ],
      "text/plain": [
       "      Loan_Purpose_other  State_SD  Amount_Funded_By_Investors  State_MT  \\\n",
       "0                      0         0                    20000.00         0   \n",
       "1                      0         0                    19200.00         0   \n",
       "2                      0         0                    35000.00         0   \n",
       "3                      0         0                     9975.00         0   \n",
       "4                      0         0                    12000.00         0   \n",
       "...                  ...       ...                         ...       ...   \n",
       "2495                   0         0                    29950.00         0   \n",
       "2496                   0         0                    16000.00         0   \n",
       "2497                   0         0                    10000.00         0   \n",
       "2498                   0         0                     6000.00         0   \n",
       "2499                   0         0                     5242.75         0   \n",
       "\n",
       "      Home_Ownership_OTHER  Revolving_CREDIT_Balance  \\\n",
       "0                        0                   14272.0   \n",
       "1                        0                   11140.0   \n",
       "2                        0                   21977.0   \n",
       "3                        0                    9346.0   \n",
       "4                        0                   14469.0   \n",
       "...                    ...                       ...   \n",
       "2495                     0                   45880.0   \n",
       "2496                     0                   18898.0   \n",
       "2497                     0                    4544.0   \n",
       "2498                     0                    7753.0   \n",
       "2499                     0                    7589.0   \n",
       "\n",
       "      Inquiries_in_the_Last_6_Months  Loan_Purpose_major_purchase  State_MS  \\\n",
       "0                                2.0                            0         0   \n",
       "1                                1.0                            0         0   \n",
       "2                                1.0                            0         0   \n",
       "3                                0.0                            0         0   \n",
       "4                                0.0                            0         0   \n",
       "...                              ...                          ...       ...   \n",
       "2495                             1.0                            0         0   \n",
       "2496                             1.0                            0         0   \n",
       "2497                             0.0                            0         0   \n",
       "2498                             0.0                            1         0   \n",
       "2499                             0.0                            0         0   \n",
       "\n",
       "      Loan_Purpose_house  ...  Home_Ownership_NONE  State_IA  \\\n",
       "0                      0  ...                    0         0   \n",
       "1                      0  ...                    0         0   \n",
       "2                      0  ...                    0         0   \n",
       "3                      0  ...                    0         0   \n",
       "4                      0  ...                    0         0   \n",
       "...                  ...  ...                  ...       ...   \n",
       "2495                   0  ...                    0         0   \n",
       "2496                   0  ...                    0         0   \n",
       "2497                   0  ...                    0         0   \n",
       "2498                   0  ...                    0         0   \n",
       "2499                   0  ...                    0         0   \n",
       "\n",
       "      Loan_Purpose_small_business  Loan_Purpose_home_improvement  \\\n",
       "0                               0                              0   \n",
       "1                               0                              0   \n",
       "2                               0                              0   \n",
       "3                               0                              0   \n",
       "4                               0                              0   \n",
       "...                           ...                            ...   \n",
       "2495                            0                              0   \n",
       "2496                            0                              1   \n",
       "2497                            0                              0   \n",
       "2498                            0                              0   \n",
       "2499                            0                              0   \n",
       "\n",
       "      Loan_Purpose_debt_consolidation  Loan_Purpose_moving  \\\n",
       "0                                   1                    0   \n",
       "1                                   1                    0   \n",
       "2                                   1                    0   \n",
       "3                                   1                    0   \n",
       "4                                   0                    0   \n",
       "...                               ...                  ...   \n",
       "2495                                1                    0   \n",
       "2496                                0                    0   \n",
       "2497                                1                    0   \n",
       "2498                                0                    0   \n",
       "2499                                1                    0   \n",
       "\n",
       "      Home_Ownership_RENT  Amount_Requested  Loan_Length  \\\n",
       "0                       0           20000.0           36   \n",
       "1                       0           19200.0           36   \n",
       "2                       0           35000.0           60   \n",
       "3                       0           10000.0           36   \n",
       "4                       1           12000.0           36   \n",
       "...                   ...               ...          ...   \n",
       "2495                    0           30000.0           60   \n",
       "2496                    0           16000.0           60   \n",
       "2497                    0           10000.0           36   \n",
       "2498                    1            6000.0           36   \n",
       "2499                    1            9000.0           36   \n",
       "\n",
       "      Loan_Purpose_educational  \n",
       "0                            0  \n",
       "1                            0  \n",
       "2                            0  \n",
       "3                            0  \n",
       "4                            0  \n",
       "...                        ...  \n",
       "2495                         0  \n",
       "2496                         0  \n",
       "2497                         0  \n",
       "2498                         0  \n",
       "2499                         0  \n",
       "\n",
       "[2498 rows x 24 columns]"
      ]
     },
     "execution_count": 98,
     "metadata": {},
     "output_type": "execute_result"
    }
   ],
   "source": [
    "features_reduced"
   ]
  },
  {
   "cell_type": "code",
   "execution_count": 99,
   "metadata": {},
   "outputs": [],
   "source": [
    "from statsmodels.stats.outliers_influence import variance_inflation_factor\n",
    "from patsy import dmatrices"
   ]
  },
  {
   "cell_type": "code",
   "execution_count": 100,
   "metadata": {},
   "outputs": [],
   "source": [
    "VIF = [variance_inflation_factor(features_reduced.values,i) for i in range(features_reduced.shape[1])]"
   ]
  },
  {
   "cell_type": "code",
   "execution_count": 101,
   "metadata": {},
   "outputs": [],
   "source": [
    "VIF = pd.Series(VIF, name = 'VIF')"
   ]
  },
  {
   "cell_type": "code",
   "execution_count": 102,
   "metadata": {},
   "outputs": [],
   "source": [
    "cols = pd.Series(features_reduced.columns, name='Column_Name')"
   ]
  },
  {
   "cell_type": "code",
   "execution_count": 103,
   "metadata": {},
   "outputs": [],
   "source": [
    "VIF_res = pd.concat([cols,VIF],axis=1)"
   ]
  },
  {
   "cell_type": "code",
   "execution_count": 104,
   "metadata": {},
   "outputs": [],
   "source": [
    "VIF_10 = VIF_res.sort_values(by=['VIF'], ascending = False).head(10)"
   ]
  },
  {
   "cell_type": "code",
   "execution_count": 105,
   "metadata": {
    "scrolled": true
   },
   "outputs": [
    {
     "data": {
      "text/html": [
       "<div>\n",
       "<style scoped>\n",
       "    .dataframe tbody tr th:only-of-type {\n",
       "        vertical-align: middle;\n",
       "    }\n",
       "\n",
       "    .dataframe tbody tr th {\n",
       "        vertical-align: top;\n",
       "    }\n",
       "\n",
       "    .dataframe thead th {\n",
       "        text-align: right;\n",
       "    }\n",
       "</style>\n",
       "<table border=\"1\" class=\"dataframe\">\n",
       "  <thead>\n",
       "    <tr style=\"text-align: right;\">\n",
       "      <th></th>\n",
       "      <th>Column_Name</th>\n",
       "      <th>VIF</th>\n",
       "    </tr>\n",
       "  </thead>\n",
       "  <tbody>\n",
       "    <tr>\n",
       "      <th>21</th>\n",
       "      <td>Amount_Requested</td>\n",
       "      <td>64.663833</td>\n",
       "    </tr>\n",
       "    <tr>\n",
       "      <th>2</th>\n",
       "      <td>Amount_Funded_By_Investors</td>\n",
       "      <td>61.298503</td>\n",
       "    </tr>\n",
       "    <tr>\n",
       "      <th>13</th>\n",
       "      <td>Fico_Avg</td>\n",
       "      <td>34.845389</td>\n",
       "    </tr>\n",
       "    <tr>\n",
       "      <th>22</th>\n",
       "      <td>Loan_Length</td>\n",
       "      <td>21.544940</td>\n",
       "    </tr>\n",
       "    <tr>\n",
       "      <th>18</th>\n",
       "      <td>Loan_Purpose_debt_consolidation</td>\n",
       "      <td>9.984787</td>\n",
       "    </tr>\n",
       "    <tr>\n",
       "      <th>12</th>\n",
       "      <td>Debt_To_Income_Ratio</td>\n",
       "      <td>5.641625</td>\n",
       "    </tr>\n",
       "    <tr>\n",
       "      <th>11</th>\n",
       "      <td>Loan_Purpose_credit_card</td>\n",
       "      <td>4.024182</td>\n",
       "    </tr>\n",
       "    <tr>\n",
       "      <th>5</th>\n",
       "      <td>Revolving_CREDIT_Balance</td>\n",
       "      <td>2.519719</td>\n",
       "    </tr>\n",
       "    <tr>\n",
       "      <th>0</th>\n",
       "      <td>Loan_Purpose_other</td>\n",
       "      <td>2.352776</td>\n",
       "    </tr>\n",
       "    <tr>\n",
       "      <th>17</th>\n",
       "      <td>Loan_Purpose_home_improvement</td>\n",
       "      <td>2.131685</td>\n",
       "    </tr>\n",
       "  </tbody>\n",
       "</table>\n",
       "</div>"
      ],
      "text/plain": [
       "                        Column_Name        VIF\n",
       "21                 Amount_Requested  64.663833\n",
       "2        Amount_Funded_By_Investors  61.298503\n",
       "13                         Fico_Avg  34.845389\n",
       "22                      Loan_Length  21.544940\n",
       "18  Loan_Purpose_debt_consolidation   9.984787\n",
       "12             Debt_To_Income_Ratio   5.641625\n",
       "11         Loan_Purpose_credit_card   4.024182\n",
       "5          Revolving_CREDIT_Balance   2.519719\n",
       "0                Loan_Purpose_other   2.352776\n",
       "17    Loan_Purpose_home_improvement   2.131685"
      ]
     },
     "execution_count": 105,
     "metadata": {},
     "output_type": "execute_result"
    }
   ],
   "source": [
    "VIF_10"
   ]
  },
  {
   "cell_type": "code",
   "execution_count": 106,
   "metadata": {},
   "outputs": [
    {
     "data": {
      "text/html": [
       "<div>\n",
       "<style scoped>\n",
       "    .dataframe tbody tr th:only-of-type {\n",
       "        vertical-align: middle;\n",
       "    }\n",
       "\n",
       "    .dataframe tbody tr th {\n",
       "        vertical-align: top;\n",
       "    }\n",
       "\n",
       "    .dataframe thead th {\n",
       "        text-align: right;\n",
       "    }\n",
       "</style>\n",
       "<table border=\"1\" class=\"dataframe\">\n",
       "  <thead>\n",
       "    <tr style=\"text-align: right;\">\n",
       "      <th></th>\n",
       "      <th>Column_Name</th>\n",
       "      <th>VIF</th>\n",
       "    </tr>\n",
       "  </thead>\n",
       "  <tbody>\n",
       "    <tr>\n",
       "      <th>2</th>\n",
       "      <td>Fico_Avg</td>\n",
       "      <td>34.845386</td>\n",
       "    </tr>\n",
       "    <tr>\n",
       "      <th>7</th>\n",
       "      <td>Loan_Length</td>\n",
       "      <td>21.437153</td>\n",
       "    </tr>\n",
       "    <tr>\n",
       "      <th>9</th>\n",
       "      <td>Loan_Purpose_debt_consolidation</td>\n",
       "      <td>9.981851</td>\n",
       "    </tr>\n",
       "    <tr>\n",
       "      <th>1</th>\n",
       "      <td>Debt_To_Income_Ratio</td>\n",
       "      <td>5.620531</td>\n",
       "    </tr>\n",
       "    <tr>\n",
       "      <th>0</th>\n",
       "      <td>Amount_Funded_By_Investors</td>\n",
       "      <td>4.871652</td>\n",
       "    </tr>\n",
       "    <tr>\n",
       "      <th>8</th>\n",
       "      <td>Loan_Purpose_credit_card</td>\n",
       "      <td>4.023590</td>\n",
       "    </tr>\n",
       "    <tr>\n",
       "      <th>17</th>\n",
       "      <td>Revolving_CREDIT_Balance</td>\n",
       "      <td>2.473846</td>\n",
       "    </tr>\n",
       "    <tr>\n",
       "      <th>15</th>\n",
       "      <td>Loan_Purpose_other</td>\n",
       "      <td>2.352774</td>\n",
       "    </tr>\n",
       "    <tr>\n",
       "      <th>11</th>\n",
       "      <td>Loan_Purpose_home_improvement</td>\n",
       "      <td>2.117174</td>\n",
       "    </tr>\n",
       "    <tr>\n",
       "      <th>5</th>\n",
       "      <td>Home_Ownership_RENT</td>\n",
       "      <td>2.010843</td>\n",
       "    </tr>\n",
       "  </tbody>\n",
       "</table>\n",
       "</div>"
      ],
      "text/plain": [
       "                        Column_Name        VIF\n",
       "2                          Fico_Avg  34.845386\n",
       "7                       Loan_Length  21.437153\n",
       "9   Loan_Purpose_debt_consolidation   9.981851\n",
       "1              Debt_To_Income_Ratio   5.620531\n",
       "0        Amount_Funded_By_Investors   4.871652\n",
       "8          Loan_Purpose_credit_card   4.023590\n",
       "17         Revolving_CREDIT_Balance   2.473846\n",
       "15               Loan_Purpose_other   2.352774\n",
       "11    Loan_Purpose_home_improvement   2.117174\n",
       "5               Home_Ownership_RENT   2.010843"
      ]
     },
     "execution_count": 106,
     "metadata": {},
     "output_type": "execute_result"
    }
   ],
   "source": [
    "features_reduced2 = features_reduced[features_reduced.columns.difference(['Amount_Requested'])]\n",
    "\n",
    "VIF = [variance_inflation_factor(features_reduced2.values,i) for i in range(features_reduced2.shape[1])]\n",
    "\n",
    "VIF = pd.Series(VIF, name = 'VIF')\n",
    "\n",
    "cols = pd.Series(features_reduced2.columns, name='Column_Name')\n",
    "\n",
    "VIF_res = pd.concat([cols,VIF],axis=1)\n",
    "\n",
    "VIF_10 = VIF_res.sort_values(by=['VIF'], ascending = False).head(10)\n",
    "\n",
    "VIF_10"
   ]
  },
  {
   "cell_type": "code",
   "execution_count": 107,
   "metadata": {},
   "outputs": [],
   "source": [
    "df_final = pd.concat([features_reduced2,df_cleaned.ln_Interest_Rate],axis=1)"
   ]
  },
  {
   "cell_type": "code",
   "execution_count": 108,
   "metadata": {},
   "outputs": [
    {
     "data": {
      "text/html": [
       "<div>\n",
       "<style scoped>\n",
       "    .dataframe tbody tr th:only-of-type {\n",
       "        vertical-align: middle;\n",
       "    }\n",
       "\n",
       "    .dataframe tbody tr th {\n",
       "        vertical-align: top;\n",
       "    }\n",
       "\n",
       "    .dataframe thead th {\n",
       "        text-align: right;\n",
       "    }\n",
       "</style>\n",
       "<table border=\"1\" class=\"dataframe\">\n",
       "  <thead>\n",
       "    <tr style=\"text-align: right;\">\n",
       "      <th></th>\n",
       "      <th>Amount_Funded_By_Investors</th>\n",
       "      <th>Debt_To_Income_Ratio</th>\n",
       "      <th>Fico_Avg</th>\n",
       "      <th>Home_Ownership_NONE</th>\n",
       "      <th>Home_Ownership_OTHER</th>\n",
       "      <th>Home_Ownership_RENT</th>\n",
       "      <th>Inquiries_in_the_Last_6_Months</th>\n",
       "      <th>Loan_Length</th>\n",
       "      <th>Loan_Purpose_credit_card</th>\n",
       "      <th>Loan_Purpose_debt_consolidation</th>\n",
       "      <th>...</th>\n",
       "      <th>Loan_Purpose_moving</th>\n",
       "      <th>Loan_Purpose_other</th>\n",
       "      <th>Loan_Purpose_small_business</th>\n",
       "      <th>Revolving_CREDIT_Balance</th>\n",
       "      <th>State_IA</th>\n",
       "      <th>State_IN</th>\n",
       "      <th>State_MS</th>\n",
       "      <th>State_MT</th>\n",
       "      <th>State_SD</th>\n",
       "      <th>ln_Interest_Rate</th>\n",
       "    </tr>\n",
       "  </thead>\n",
       "  <tbody>\n",
       "    <tr>\n",
       "      <th>0</th>\n",
       "      <td>20000.0</td>\n",
       "      <td>14.90</td>\n",
       "      <td>737.0</td>\n",
       "      <td>0</td>\n",
       "      <td>0</td>\n",
       "      <td>0</td>\n",
       "      <td>2.0</td>\n",
       "      <td>36</td>\n",
       "      <td>0</td>\n",
       "      <td>1</td>\n",
       "      <td>...</td>\n",
       "      <td>0</td>\n",
       "      <td>0</td>\n",
       "      <td>0</td>\n",
       "      <td>14272.0</td>\n",
       "      <td>0</td>\n",
       "      <td>0</td>\n",
       "      <td>0</td>\n",
       "      <td>0</td>\n",
       "      <td>0</td>\n",
       "      <td>2.186051</td>\n",
       "    </tr>\n",
       "    <tr>\n",
       "      <th>1</th>\n",
       "      <td>19200.0</td>\n",
       "      <td>28.36</td>\n",
       "      <td>717.0</td>\n",
       "      <td>0</td>\n",
       "      <td>0</td>\n",
       "      <td>0</td>\n",
       "      <td>1.0</td>\n",
       "      <td>36</td>\n",
       "      <td>0</td>\n",
       "      <td>1</td>\n",
       "      <td>...</td>\n",
       "      <td>0</td>\n",
       "      <td>0</td>\n",
       "      <td>0</td>\n",
       "      <td>11140.0</td>\n",
       "      <td>0</td>\n",
       "      <td>0</td>\n",
       "      <td>0</td>\n",
       "      <td>0</td>\n",
       "      <td>0</td>\n",
       "      <td>2.494857</td>\n",
       "    </tr>\n",
       "    <tr>\n",
       "      <th>2</th>\n",
       "      <td>35000.0</td>\n",
       "      <td>23.81</td>\n",
       "      <td>692.0</td>\n",
       "      <td>0</td>\n",
       "      <td>0</td>\n",
       "      <td>0</td>\n",
       "      <td>1.0</td>\n",
       "      <td>60</td>\n",
       "      <td>0</td>\n",
       "      <td>1</td>\n",
       "      <td>...</td>\n",
       "      <td>0</td>\n",
       "      <td>0</td>\n",
       "      <td>0</td>\n",
       "      <td>21977.0</td>\n",
       "      <td>0</td>\n",
       "      <td>0</td>\n",
       "      <td>0</td>\n",
       "      <td>0</td>\n",
       "      <td>0</td>\n",
       "      <td>3.090133</td>\n",
       "    </tr>\n",
       "    <tr>\n",
       "      <th>3</th>\n",
       "      <td>9975.0</td>\n",
       "      <td>14.30</td>\n",
       "      <td>697.0</td>\n",
       "      <td>0</td>\n",
       "      <td>0</td>\n",
       "      <td>0</td>\n",
       "      <td>0.0</td>\n",
       "      <td>36</td>\n",
       "      <td>0</td>\n",
       "      <td>1</td>\n",
       "      <td>...</td>\n",
       "      <td>0</td>\n",
       "      <td>0</td>\n",
       "      <td>0</td>\n",
       "      <td>9346.0</td>\n",
       "      <td>0</td>\n",
       "      <td>0</td>\n",
       "      <td>0</td>\n",
       "      <td>0</td>\n",
       "      <td>0</td>\n",
       "      <td>2.301585</td>\n",
       "    </tr>\n",
       "    <tr>\n",
       "      <th>4</th>\n",
       "      <td>12000.0</td>\n",
       "      <td>18.78</td>\n",
       "      <td>697.0</td>\n",
       "      <td>0</td>\n",
       "      <td>0</td>\n",
       "      <td>1</td>\n",
       "      <td>0.0</td>\n",
       "      <td>36</td>\n",
       "      <td>1</td>\n",
       "      <td>0</td>\n",
       "      <td>...</td>\n",
       "      <td>0</td>\n",
       "      <td>0</td>\n",
       "      <td>0</td>\n",
       "      <td>14469.0</td>\n",
       "      <td>0</td>\n",
       "      <td>0</td>\n",
       "      <td>0</td>\n",
       "      <td>0</td>\n",
       "      <td>0</td>\n",
       "      <td>2.460443</td>\n",
       "    </tr>\n",
       "  </tbody>\n",
       "</table>\n",
       "<p>5 rows × 24 columns</p>\n",
       "</div>"
      ],
      "text/plain": [
       "   Amount_Funded_By_Investors  Debt_To_Income_Ratio  Fico_Avg  \\\n",
       "0                     20000.0                 14.90     737.0   \n",
       "1                     19200.0                 28.36     717.0   \n",
       "2                     35000.0                 23.81     692.0   \n",
       "3                      9975.0                 14.30     697.0   \n",
       "4                     12000.0                 18.78     697.0   \n",
       "\n",
       "   Home_Ownership_NONE  Home_Ownership_OTHER  Home_Ownership_RENT  \\\n",
       "0                    0                     0                    0   \n",
       "1                    0                     0                    0   \n",
       "2                    0                     0                    0   \n",
       "3                    0                     0                    0   \n",
       "4                    0                     0                    1   \n",
       "\n",
       "   Inquiries_in_the_Last_6_Months  Loan_Length  Loan_Purpose_credit_card  \\\n",
       "0                             2.0           36                         0   \n",
       "1                             1.0           36                         0   \n",
       "2                             1.0           60                         0   \n",
       "3                             0.0           36                         0   \n",
       "4                             0.0           36                         1   \n",
       "\n",
       "   Loan_Purpose_debt_consolidation  ...  Loan_Purpose_moving  \\\n",
       "0                                1  ...                    0   \n",
       "1                                1  ...                    0   \n",
       "2                                1  ...                    0   \n",
       "3                                1  ...                    0   \n",
       "4                                0  ...                    0   \n",
       "\n",
       "   Loan_Purpose_other  Loan_Purpose_small_business  Revolving_CREDIT_Balance  \\\n",
       "0                   0                            0                   14272.0   \n",
       "1                   0                            0                   11140.0   \n",
       "2                   0                            0                   21977.0   \n",
       "3                   0                            0                    9346.0   \n",
       "4                   0                            0                   14469.0   \n",
       "\n",
       "   State_IA  State_IN  State_MS  State_MT  State_SD  ln_Interest_Rate  \n",
       "0         0         0         0         0         0          2.186051  \n",
       "1         0         0         0         0         0          2.494857  \n",
       "2         0         0         0         0         0          3.090133  \n",
       "3         0         0         0         0         0          2.301585  \n",
       "4         0         0         0         0         0          2.460443  \n",
       "\n",
       "[5 rows x 24 columns]"
      ]
     },
     "execution_count": 108,
     "metadata": {},
     "output_type": "execute_result"
    }
   ],
   "source": [
    "df_final.head()"
   ]
  },
  {
   "cell_type": "markdown",
   "metadata": {},
   "source": [
    "### Data Preparation IV (Split the data into train and test)"
   ]
  },
  {
   "cell_type": "code",
   "execution_count": 109,
   "metadata": {},
   "outputs": [],
   "source": [
    "from sklearn.model_selection import train_test_split"
   ]
  },
  {
   "cell_type": "code",
   "execution_count": 110,
   "metadata": {},
   "outputs": [],
   "source": [
    "train,test = train_test_split(df_final, test_size = 0.3, random_state = 123)"
   ]
  },
  {
   "cell_type": "code",
   "execution_count": 111,
   "metadata": {},
   "outputs": [
    {
     "name": "stdout",
     "output_type": "stream",
     "text": [
      "The number of rows in the train dataset are 1748\n",
      "The number of rows in the test dataset are 750\n",
      "The number of rows in the original dataset are 2498\n"
     ]
    }
   ],
   "source": [
    "print(\"The number of rows in the train dataset are\",len(train))\n",
    "print(\"The number of rows in the test dataset are\",len(test))\n",
    "print(\"The number of rows in the original dataset are\",len(df_final))"
   ]
  },
  {
   "cell_type": "markdown",
   "metadata": {},
   "source": [
    "### Model Implementation"
   ]
  },
  {
   "cell_type": "code",
   "execution_count": 112,
   "metadata": {},
   "outputs": [],
   "source": [
    "y = 'ln_Interest_Rate'"
   ]
  },
  {
   "cell_type": "code",
   "execution_count": 113,
   "metadata": {},
   "outputs": [
    {
     "data": {
      "text/plain": [
       "'ln_Interest_Rate'"
      ]
     },
     "execution_count": 113,
     "metadata": {},
     "output_type": "execute_result"
    }
   ],
   "source": [
    "y"
   ]
  },
  {
   "cell_type": "code",
   "execution_count": 114,
   "metadata": {},
   "outputs": [],
   "source": [
    "s = str()"
   ]
  },
  {
   "cell_type": "code",
   "execution_count": 115,
   "metadata": {},
   "outputs": [],
   "source": [
    "for i in train.columns.tolist():\n",
    "    s = s + '+' + i"
   ]
  },
  {
   "cell_type": "code",
   "execution_count": 116,
   "metadata": {},
   "outputs": [],
   "source": [
    "equation = s[1:]"
   ]
  },
  {
   "cell_type": "code",
   "execution_count": 117,
   "metadata": {},
   "outputs": [
    {
     "data": {
      "text/plain": [
       "'Amount_Funded_By_Investors+Debt_To_Income_Ratio+Fico_Avg+Home_Ownership_NONE+Home_Ownership_OTHER+Home_Ownership_RENT+Inquiries_in_the_Last_6_Months+Loan_Length+Loan_Purpose_credit_card+Loan_Purpose_debt_consolidation+Loan_Purpose_educational+Loan_Purpose_home_improvement+Loan_Purpose_house+Loan_Purpose_major_purchase+Loan_Purpose_moving+Loan_Purpose_other+Loan_Purpose_small_business+Revolving_CREDIT_Balance+State_IA+State_IN+State_MS+State_MT+State_SD+ln_Interest_Rate'"
      ]
     },
     "execution_count": 117,
     "metadata": {},
     "output_type": "execute_result"
    }
   ],
   "source": [
    "equation"
   ]
  },
  {
   "cell_type": "code",
   "execution_count": 118,
   "metadata": {},
   "outputs": [],
   "source": [
    "equation = equation.replace(\"+ln_Interest_Rate\",\"\")"
   ]
  },
  {
   "cell_type": "code",
   "execution_count": 119,
   "metadata": {},
   "outputs": [
    {
     "data": {
      "text/plain": [
       "'Amount_Funded_By_Investors+Debt_To_Income_Ratio+Fico_Avg+Home_Ownership_NONE+Home_Ownership_OTHER+Home_Ownership_RENT+Inquiries_in_the_Last_6_Months+Loan_Length+Loan_Purpose_credit_card+Loan_Purpose_debt_consolidation+Loan_Purpose_educational+Loan_Purpose_home_improvement+Loan_Purpose_house+Loan_Purpose_major_purchase+Loan_Purpose_moving+Loan_Purpose_other+Loan_Purpose_small_business+Revolving_CREDIT_Balance+State_IA+State_IN+State_MS+State_MT+State_SD'"
      ]
     },
     "execution_count": 119,
     "metadata": {},
     "output_type": "execute_result"
    }
   ],
   "source": [
    "equation"
   ]
  },
  {
   "cell_type": "code",
   "execution_count": 120,
   "metadata": {},
   "outputs": [],
   "source": [
    "equation = y + \"~\" + equation"
   ]
  },
  {
   "cell_type": "code",
   "execution_count": 121,
   "metadata": {},
   "outputs": [],
   "source": [
    "equation = equation.replace(\"+Interest_Rate\",\"\")"
   ]
  },
  {
   "cell_type": "code",
   "execution_count": 122,
   "metadata": {},
   "outputs": [
    {
     "data": {
      "text/plain": [
       "'ln_Interest_Rate~Amount_Funded_By_Investors+Debt_To_Income_Ratio+Fico_Avg+Home_Ownership_NONE+Home_Ownership_OTHER+Home_Ownership_RENT+Inquiries_in_the_Last_6_Months+Loan_Length+Loan_Purpose_credit_card+Loan_Purpose_debt_consolidation+Loan_Purpose_educational+Loan_Purpose_home_improvement+Loan_Purpose_house+Loan_Purpose_major_purchase+Loan_Purpose_moving+Loan_Purpose_other+Loan_Purpose_small_business+Revolving_CREDIT_Balance+State_IA+State_IN+State_MS+State_MT+State_SD'"
      ]
     },
     "execution_count": 122,
     "metadata": {},
     "output_type": "execute_result"
    }
   ],
   "source": [
    "equation"
   ]
  },
  {
   "cell_type": "code",
   "execution_count": 123,
   "metadata": {},
   "outputs": [],
   "source": [
    "import statsmodels.formula.api as smf"
   ]
  },
  {
   "cell_type": "code",
   "execution_count": 124,
   "metadata": {},
   "outputs": [],
   "source": [
    "## Initalise the model and then fit the model\n",
    "\n",
    "model = smf.ols(equation, data=train).fit()"
   ]
  },
  {
   "cell_type": "code",
   "execution_count": 125,
   "metadata": {},
   "outputs": [
    {
     "name": "stdout",
     "output_type": "stream",
     "text": [
      "                        Results: Ordinary least squares\n",
      "================================================================================\n",
      "Model:                   OLS                  Adj. R-squared:         0.772     \n",
      "Dependent Variable:      ln_Interest_Rate     AIC:                    -1379.2422\n",
      "Date:                    2021-03-15 13:25     BIC:                    -1248.0527\n",
      "No. Observations:        1748                 Log-Likelihood:         713.62    \n",
      "Df Model:                23                   F-statistic:            257.6     \n",
      "Df Residuals:            1724                 Prob (F-statistic):     0.00      \n",
      "R-squared:               0.775                Scale:                  0.026238  \n",
      "--------------------------------------------------------------------------------\n",
      "                                 Coef.  Std.Err.    t     P>|t|   [0.025  0.975]\n",
      "--------------------------------------------------------------------------------\n",
      "Intercept                        7.1272   0.0913  78.0302 0.0000  6.9481  7.3064\n",
      "Amount_Funded_By_Investors       0.0000   0.0000  19.3817 0.0000  0.0000  0.0000\n",
      "Debt_To_Income_Ratio            -0.0004   0.0006  -0.6657 0.5057 -0.0015  0.0007\n",
      "Fico_Avg                        -0.0074   0.0001 -61.4209 0.0000 -0.0076 -0.0071\n",
      "Home_Ownership_NONE              0.3065   0.1631   1.8790 0.0604 -0.0134  0.6263\n",
      "Home_Ownership_OTHER             0.0722   0.1622   0.4448 0.6565 -0.2460  0.3903\n",
      "Home_Ownership_RENT              0.0181   0.0083   2.1873 0.0289  0.0019  0.0343\n",
      "Inquiries_in_the_Last_6_Months   0.0368   0.0035  10.4916 0.0000  0.0299  0.0437\n",
      "Loan_Length                      0.0100   0.0004  23.3892 0.0000  0.0092  0.0108\n",
      "Loan_Purpose_credit_card        -0.0076   0.0190  -0.3998 0.6894 -0.0449  0.0297\n",
      "Loan_Purpose_debt_consolidation  0.0106   0.0174   0.6101 0.5419 -0.0236  0.0448\n",
      "Loan_Purpose_educational         0.0340   0.0465   0.7301 0.4654 -0.0573  0.1252\n",
      "Loan_Purpose_home_improvement   -0.0110   0.0232  -0.4743 0.6353 -0.0565  0.0345\n",
      "Loan_Purpose_house               0.0601   0.0479   1.2530 0.2104 -0.0340  0.1541\n",
      "Loan_Purpose_major_purchase      0.0278   0.0252   1.1038 0.2699 -0.0216  0.0773\n",
      "Loan_Purpose_moving              0.0798   0.0406   1.9626 0.0499  0.0001  0.1595\n",
      "Loan_Purpose_other               0.0660   0.0213   3.1038 0.0019  0.0243  0.1076\n",
      "Loan_Purpose_small_business      0.0442   0.0263   1.6825 0.0927 -0.0073  0.0958\n",
      "Revolving_CREDIT_Balance        -0.0000   0.0000  -1.7953 0.0728 -0.0000  0.0000\n",
      "State_IA                        -0.1907   0.2300  -0.8292 0.4071 -0.6419  0.2604\n",
      "State_IN                        -0.2527   0.1626  -1.5535 0.1205 -0.5717  0.0663\n",
      "State_MS                         0.1381   0.2301   0.6003 0.5484 -0.3132  0.5894\n",
      "State_MT                        -0.0019   0.0814  -0.0233 0.9814 -0.1616  0.1578\n",
      "State_SD                        -0.2320   0.1625  -1.4277 0.1536 -0.5508  0.0867\n",
      "--------------------------------------------------------------------------------\n",
      "Omnibus:                  76.392            Durbin-Watson:               1.997  \n",
      "Prob(Omnibus):            0.000             Jarque-Bera (JB):            222.989\n",
      "Skew:                     0.131             Prob(JB):                    0.000  \n",
      "Kurtosis:                 4.730             Condition No.:               1919667\n",
      "================================================================================\n",
      "* The condition number is large (2e+06). This might indicate             strong\n",
      "multicollinearity or other numerical problems.\n"
     ]
    }
   ],
   "source": [
    "print(model.summary2())"
   ]
  },
  {
   "cell_type": "code",
   "execution_count": 126,
   "metadata": {},
   "outputs": [
    {
     "data": {
      "text/plain": [
       "'ln_Interest_Rate~Amount_Funded_By_Investors+Debt_To_Income_Ratio+Fico_Avg+Home_Ownership_NONE+Home_Ownership_OTHER+Home_Ownership_RENT+Inquiries_in_the_Last_6_Months+Loan_Length+Loan_Purpose_credit_card+Loan_Purpose_debt_consolidation+Loan_Purpose_educational+Loan_Purpose_home_improvement+Loan_Purpose_house+Loan_Purpose_major_purchase+Loan_Purpose_moving+Loan_Purpose_other+Loan_Purpose_small_business+State_IA+State_IN+State_MS+State_MT+State_SD'"
      ]
     },
     "execution_count": 126,
     "metadata": {},
     "output_type": "execute_result"
    }
   ],
   "source": [
    "'ln_Interest_Rate~Amount_Funded_By_Investors+Debt_To_Income_Ratio+Fico_Avg+Home_Ownership_NONE+Home_Ownership_OTHER+Home_Ownership_RENT+Inquiries_in_the_Last_6_Months+Loan_Length+Loan_Purpose_credit_card+Loan_Purpose_debt_consolidation+Loan_Purpose_educational+Loan_Purpose_home_improvement+Loan_Purpose_house+Loan_Purpose_major_purchase+Loan_Purpose_moving+Loan_Purpose_other+Loan_Purpose_small_business+State_IA+State_IN+State_MS+State_MT+State_SD'"
   ]
  },
  {
   "cell_type": "code",
   "execution_count": 127,
   "metadata": {},
   "outputs": [
    {
     "name": "stdout",
     "output_type": "stream",
     "text": [
      "                            OLS Regression Results                            \n",
      "==============================================================================\n",
      "Dep. Variable:       ln_Interest_Rate   R-squared:                       0.774\n",
      "Model:                            OLS   Adj. R-squared:                  0.771\n",
      "Method:                 Least Squares   F-statistic:                     268.9\n",
      "Date:                Mon, 15 Mar 2021   Prob (F-statistic):               0.00\n",
      "Time:                        13:25:57   Log-Likelihood:                 711.99\n",
      "No. Observations:                1748   AIC:                            -1378.\n",
      "Df Residuals:                    1725   BIC:                            -1252.\n",
      "Df Model:                          22                                         \n",
      "Covariance Type:            nonrobust                                         \n",
      "===================================================================================================\n",
      "                                      coef    std err          t      P>|t|      [0.025      0.975]\n",
      "---------------------------------------------------------------------------------------------------\n",
      "Intercept                           7.1249      0.091     77.963      0.000       6.946       7.304\n",
      "Amount_Funded_By_Investors       1.149e-05   5.83e-07     19.712      0.000    1.03e-05    1.26e-05\n",
      "Debt_To_Income_Ratio               -0.0006      0.001     -1.002      0.317      -0.002       0.001\n",
      "Fico_Avg                           -0.0074      0.000    -61.393      0.000      -0.008      -0.007\n",
      "Home_Ownership_NONE                 0.3055      0.163      1.872      0.061      -0.015       0.626\n",
      "Home_Ownership_OTHER                0.0694      0.162      0.428      0.669      -0.249       0.388\n",
      "Home_Ownership_RENT                 0.0206      0.008      2.532      0.011       0.005       0.037\n",
      "Inquiries_in_the_Last_6_Months      0.0371      0.004     10.565      0.000       0.030       0.044\n",
      "Loan_Length                         0.0100      0.000     23.474      0.000       0.009       0.011\n",
      "Loan_Purpose_credit_card           -0.0099      0.019     -0.522      0.602      -0.047       0.027\n",
      "Loan_Purpose_debt_consolidation     0.0102      0.017      0.583      0.560      -0.024       0.044\n",
      "Loan_Purpose_educational            0.0334      0.047      0.717      0.473      -0.058       0.125\n",
      "Loan_Purpose_home_improvement      -0.0111      0.023     -0.477      0.634      -0.057       0.034\n",
      "Loan_Purpose_house                  0.0601      0.048      1.254      0.210      -0.034       0.154\n",
      "Loan_Purpose_major_purchase         0.0282      0.025      1.120      0.263      -0.021       0.078\n",
      "Loan_Purpose_moving                 0.0782      0.041      1.923      0.055      -0.002       0.158\n",
      "Loan_Purpose_other                  0.0649      0.021      3.052      0.002       0.023       0.107\n",
      "Loan_Purpose_small_business         0.0447      0.026      1.699      0.090      -0.007       0.096\n",
      "State_IA                           -0.1901      0.230     -0.826      0.409      -0.642       0.261\n",
      "State_IN                           -0.2551      0.163     -1.568      0.117      -0.574       0.064\n",
      "State_MS                            0.1052      0.230      0.458      0.647      -0.345       0.555\n",
      "State_MT                           -0.0102      0.081     -0.125      0.900      -0.170       0.149\n",
      "State_SD                           -0.2334      0.163     -1.435      0.151      -0.552       0.086\n",
      "==============================================================================\n",
      "Omnibus:                       77.295   Durbin-Watson:                   2.000\n",
      "Prob(Omnibus):                  0.000   Jarque-Bera (JB):              228.288\n",
      "Skew:                           0.129   Prob(JB):                     2.68e-50\n",
      "Kurtosis:                       4.751   Cond. No.                     1.15e+06\n",
      "==============================================================================\n",
      "\n",
      "Notes:\n",
      "[1] Standard Errors assume that the covariance matrix of the errors is correctly specified.\n",
      "[2] The condition number is large, 1.15e+06. This might indicate that there are\n",
      "strong multicollinearity or other numerical problems.\n"
     ]
    }
   ],
   "source": [
    "## Iteration 1\n",
    "\n",
    "model = smf.ols('ln_Interest_Rate~Amount_Funded_By_Investors+Debt_To_Income_Ratio+Fico_Avg+Home_Ownership_NONE+Home_Ownership_OTHER+Home_Ownership_RENT+Inquiries_in_the_Last_6_Months+Loan_Length+Loan_Purpose_credit_card+Loan_Purpose_debt_consolidation+Loan_Purpose_educational+Loan_Purpose_home_improvement+Loan_Purpose_house+Loan_Purpose_major_purchase+Loan_Purpose_moving+Loan_Purpose_other+Loan_Purpose_small_business+State_IA+State_IN+State_MS+State_MT+State_SD', data=train).fit()\n",
    "\n",
    "print(model.summary())"
   ]
  },
  {
   "cell_type": "code",
   "execution_count": 128,
   "metadata": {},
   "outputs": [
    {
     "name": "stdout",
     "output_type": "stream",
     "text": [
      "                            OLS Regression Results                            \n",
      "==============================================================================\n",
      "Dep. Variable:       ln_Interest_Rate   R-squared:                       0.774\n",
      "Model:                            OLS   Adj. R-squared:                  0.771\n",
      "Method:                 Least Squares   F-statistic:                     281.8\n",
      "Date:                Mon, 15 Mar 2021   Prob (F-statistic):               0.00\n",
      "Time:                        13:25:57   Log-Likelihood:                 711.98\n",
      "No. Observations:                1748   AIC:                            -1380.\n",
      "Df Residuals:                    1726   BIC:                            -1260.\n",
      "Df Model:                          21                                         \n",
      "Covariance Type:            nonrobust                                         \n",
      "===================================================================================================\n",
      "                                      coef    std err          t      P>|t|      [0.025      0.975]\n",
      "---------------------------------------------------------------------------------------------------\n",
      "Intercept                           7.1254      0.091     78.042      0.000       6.946       7.304\n",
      "Amount_Funded_By_Investors       1.149e-05   5.83e-07     19.717      0.000    1.03e-05    1.26e-05\n",
      "Debt_To_Income_Ratio               -0.0006      0.001     -1.006      0.315      -0.002       0.001\n",
      "Fico_Avg                           -0.0074      0.000    -61.457      0.000      -0.008      -0.007\n",
      "Home_Ownership_NONE                 0.3056      0.163      1.873      0.061      -0.014       0.626\n",
      "Home_Ownership_OTHER                0.0694      0.162      0.428      0.669      -0.249       0.388\n",
      "Home_Ownership_RENT                 0.0206      0.008      2.536      0.011       0.005       0.037\n",
      "Inquiries_in_the_Last_6_Months      0.0371      0.004     10.568      0.000       0.030       0.044\n",
      "Loan_Length                         0.0100      0.000     23.481      0.000       0.009       0.011\n",
      "Loan_Purpose_credit_card           -0.0100      0.019     -0.526      0.599      -0.047       0.027\n",
      "Loan_Purpose_debt_consolidation     0.0102      0.017      0.582      0.561      -0.024       0.044\n",
      "Loan_Purpose_educational            0.0334      0.047      0.717      0.473      -0.058       0.125\n",
      "Loan_Purpose_home_improvement      -0.0111      0.023     -0.476      0.634      -0.057       0.034\n",
      "Loan_Purpose_house                  0.0601      0.048      1.254      0.210      -0.034       0.154\n",
      "Loan_Purpose_major_purchase         0.0283      0.025      1.120      0.263      -0.021       0.078\n",
      "Loan_Purpose_moving                 0.0782      0.041      1.923      0.055      -0.002       0.158\n",
      "Loan_Purpose_other                  0.0648      0.021      3.051      0.002       0.023       0.106\n",
      "Loan_Purpose_small_business         0.0447      0.026      1.699      0.089      -0.007       0.096\n",
      "State_IA                           -0.1902      0.230     -0.826      0.409      -0.641       0.261\n",
      "State_IN                           -0.2551      0.163     -1.568      0.117      -0.574       0.064\n",
      "State_MS                            0.1053      0.229      0.459      0.646      -0.345       0.555\n",
      "State_SD                           -0.2334      0.163     -1.436      0.151      -0.552       0.085\n",
      "==============================================================================\n",
      "Omnibus:                       77.343   Durbin-Watson:                   2.000\n",
      "Prob(Omnibus):                  0.000   Jarque-Bera (JB):              228.550\n",
      "Skew:                           0.129   Prob(JB):                     2.35e-50\n",
      "Kurtosis:                       4.753   Cond. No.                     1.15e+06\n",
      "==============================================================================\n",
      "\n",
      "Notes:\n",
      "[1] Standard Errors assume that the covariance matrix of the errors is correctly specified.\n",
      "[2] The condition number is large, 1.15e+06. This might indicate that there are\n",
      "strong multicollinearity or other numerical problems.\n"
     ]
    }
   ],
   "source": [
    "## Iteration 2\n",
    "\n",
    "model = smf.ols('ln_Interest_Rate~Amount_Funded_By_Investors+Debt_To_Income_Ratio+Fico_Avg+Home_Ownership_NONE+Home_Ownership_OTHER+Home_Ownership_RENT+Inquiries_in_the_Last_6_Months+Loan_Length+Loan_Purpose_credit_card+Loan_Purpose_debt_consolidation+Loan_Purpose_educational+Loan_Purpose_home_improvement+Loan_Purpose_house+Loan_Purpose_major_purchase+Loan_Purpose_moving+Loan_Purpose_other+Loan_Purpose_small_business+State_IA+State_IN+State_MS+State_SD', data=train).fit()\n",
    "\n",
    "print(model.summary())"
   ]
  },
  {
   "cell_type": "code",
   "execution_count": 129,
   "metadata": {},
   "outputs": [
    {
     "name": "stdout",
     "output_type": "stream",
     "text": [
      "                            OLS Regression Results                            \n",
      "==============================================================================\n",
      "Dep. Variable:       ln_Interest_Rate   R-squared:                       0.774\n",
      "Model:                            OLS   Adj. R-squared:                  0.772\n",
      "Method:                 Least Squares   F-statistic:                     296.0\n",
      "Date:                Mon, 15 Mar 2021   Prob (F-statistic):               0.00\n",
      "Time:                        13:25:57   Log-Likelihood:                 711.89\n",
      "No. Observations:                1748   AIC:                            -1382.\n",
      "Df Residuals:                    1727   BIC:                            -1267.\n",
      "Df Model:                          20                                         \n",
      "Covariance Type:            nonrobust                                         \n",
      "===================================================================================================\n",
      "                                      coef    std err          t      P>|t|      [0.025      0.975]\n",
      "---------------------------------------------------------------------------------------------------\n",
      "Intercept                           7.1261      0.091     78.084      0.000       6.947       7.305\n",
      "Amount_Funded_By_Investors       1.148e-05   5.82e-07     19.717      0.000    1.03e-05    1.26e-05\n",
      "Debt_To_Income_Ratio               -0.0006      0.001     -1.006      0.314      -0.002       0.001\n",
      "Fico_Avg                           -0.0074      0.000    -61.488      0.000      -0.008      -0.007\n",
      "Home_Ownership_NONE                 0.3056      0.163      1.874      0.061      -0.014       0.626\n",
      "Home_Ownership_RENT                 0.0205      0.008      2.525      0.012       0.005       0.036\n",
      "Inquiries_in_the_Last_6_Months      0.0371      0.004     10.570      0.000       0.030       0.044\n",
      "Loan_Length                         0.0100      0.000     23.484      0.000       0.009       0.011\n",
      "Loan_Purpose_credit_card           -0.0100      0.019     -0.527      0.599      -0.047       0.027\n",
      "Loan_Purpose_debt_consolidation     0.0102      0.017      0.587      0.557      -0.024       0.044\n",
      "Loan_Purpose_educational            0.0333      0.047      0.717      0.474      -0.058       0.125\n",
      "Loan_Purpose_home_improvement      -0.0111      0.023     -0.477      0.634      -0.057       0.034\n",
      "Loan_Purpose_house                  0.0602      0.048      1.256      0.209      -0.034       0.154\n",
      "Loan_Purpose_major_purchase         0.0283      0.025      1.120      0.263      -0.021       0.078\n",
      "Loan_Purpose_moving                 0.0782      0.041      1.924      0.054      -0.002       0.158\n",
      "Loan_Purpose_other                  0.0648      0.021      3.051      0.002       0.023       0.106\n",
      "Loan_Purpose_small_business         0.0447      0.026      1.700      0.089      -0.007       0.096\n",
      "State_IA                           -0.1208      0.163     -0.739      0.460      -0.441       0.200\n",
      "State_IN                           -0.2552      0.163     -1.569      0.117      -0.574       0.064\n",
      "State_MS                            0.1746      0.162      1.075      0.283      -0.144       0.493\n",
      "State_SD                           -0.2334      0.163     -1.436      0.151      -0.552       0.085\n",
      "==============================================================================\n",
      "Omnibus:                       77.281   Durbin-Watson:                   1.999\n",
      "Prob(Omnibus):                  0.000   Jarque-Bera (JB):              228.391\n",
      "Skew:                           0.129   Prob(JB):                     2.54e-50\n",
      "Kurtosis:                       4.752   Cond. No.                     6.02e+05\n",
      "==============================================================================\n",
      "\n",
      "Notes:\n",
      "[1] Standard Errors assume that the covariance matrix of the errors is correctly specified.\n",
      "[2] The condition number is large, 6.02e+05. This might indicate that there are\n",
      "strong multicollinearity or other numerical problems.\n"
     ]
    }
   ],
   "source": [
    "## Iteration 3\n",
    "\n",
    "model = smf.ols('ln_Interest_Rate~Amount_Funded_By_Investors+Debt_To_Income_Ratio+Fico_Avg+Home_Ownership_NONE+Home_Ownership_RENT+Inquiries_in_the_Last_6_Months+Loan_Length+Loan_Purpose_credit_card+Loan_Purpose_debt_consolidation+Loan_Purpose_educational+Loan_Purpose_home_improvement+Loan_Purpose_house+Loan_Purpose_major_purchase+Loan_Purpose_moving+Loan_Purpose_other+Loan_Purpose_small_business+State_IA+State_IN+State_MS+State_SD', data=train).fit()\n",
    "\n",
    "print(model.summary())"
   ]
  },
  {
   "cell_type": "code",
   "execution_count": 130,
   "metadata": {},
   "outputs": [
    {
     "name": "stdout",
     "output_type": "stream",
     "text": [
      "                            OLS Regression Results                            \n",
      "==============================================================================\n",
      "Dep. Variable:       ln_Interest_Rate   R-squared:                       0.774\n",
      "Model:                            OLS   Adj. R-squared:                  0.772\n",
      "Method:                 Least Squares   F-statistic:                     311.8\n",
      "Date:                Mon, 15 Mar 2021   Prob (F-statistic):               0.00\n",
      "Time:                        13:25:57   Log-Likelihood:                 711.77\n",
      "No. Observations:                1748   AIC:                            -1384.\n",
      "Df Residuals:                    1728   BIC:                            -1274.\n",
      "Df Model:                          19                                         \n",
      "Covariance Type:            nonrobust                                         \n",
      "===================================================================================================\n",
      "                                      coef    std err          t      P>|t|      [0.025      0.975]\n",
      "---------------------------------------------------------------------------------------------------\n",
      "Intercept                           7.1219      0.091     78.423      0.000       6.944       7.300\n",
      "Amount_Funded_By_Investors       1.147e-05   5.81e-07     19.726      0.000    1.03e-05    1.26e-05\n",
      "Debt_To_Income_Ratio               -0.0005      0.001     -0.990      0.322      -0.002       0.001\n",
      "Fico_Avg                           -0.0074      0.000    -61.545      0.000      -0.008      -0.007\n",
      "Home_Ownership_NONE                 0.3060      0.163      1.876      0.061      -0.014       0.626\n",
      "Home_Ownership_RENT                 0.0210      0.008      2.608      0.009       0.005       0.037\n",
      "Inquiries_in_the_Last_6_Months      0.0370      0.004     10.561      0.000       0.030       0.044\n",
      "Loan_Length                         0.0100      0.000     23.485      0.000       0.009       0.011\n",
      "Loan_Purpose_credit_card           -0.0046      0.015     -0.301      0.763      -0.034       0.025\n",
      "Loan_Purpose_debt_consolidation     0.0157      0.013      1.195      0.232      -0.010       0.041\n",
      "Loan_Purpose_educational            0.0388      0.045      0.861      0.389      -0.050       0.127\n",
      "Loan_Purpose_house                  0.0657      0.047      1.411      0.158      -0.026       0.157\n",
      "Loan_Purpose_major_purchase         0.0338      0.022      1.505      0.132      -0.010       0.078\n",
      "Loan_Purpose_moving                 0.0834      0.039      2.130      0.033       0.007       0.160\n",
      "Loan_Purpose_other                  0.0702      0.018      3.900      0.000       0.035       0.105\n",
      "Loan_Purpose_small_business         0.0502      0.024      2.129      0.033       0.004       0.097\n",
      "State_IA                           -0.1151      0.163     -0.707      0.480      -0.435       0.204\n",
      "State_IN                           -0.2554      0.163     -1.571      0.116      -0.574       0.064\n",
      "State_MS                            0.1748      0.162      1.076      0.282      -0.144       0.493\n",
      "State_SD                           -0.2330      0.162     -1.434      0.152      -0.552       0.086\n",
      "==============================================================================\n",
      "Omnibus:                       77.596   Durbin-Watson:                   1.999\n",
      "Prob(Omnibus):                  0.000   Jarque-Bera (JB):              230.645\n",
      "Skew:                           0.127   Prob(JB):                     8.24e-51\n",
      "Kurtosis:                       4.761   Cond. No.                     6.01e+05\n",
      "==============================================================================\n",
      "\n",
      "Notes:\n",
      "[1] Standard Errors assume that the covariance matrix of the errors is correctly specified.\n",
      "[2] The condition number is large, 6.01e+05. This might indicate that there are\n",
      "strong multicollinearity or other numerical problems.\n"
     ]
    }
   ],
   "source": [
    "## Iteration 4\n",
    "\n",
    "model = smf.ols('ln_Interest_Rate~Amount_Funded_By_Investors+Debt_To_Income_Ratio+Fico_Avg+Home_Ownership_NONE+Home_Ownership_RENT+Inquiries_in_the_Last_6_Months+Loan_Length+Loan_Purpose_credit_card+Loan_Purpose_debt_consolidation+Loan_Purpose_educational+Loan_Purpose_house+Loan_Purpose_major_purchase+Loan_Purpose_moving+Loan_Purpose_other+Loan_Purpose_small_business+State_IA+State_IN+State_MS+State_SD', data=train).fit()\n",
    "\n",
    "print(model.summary())"
   ]
  },
  {
   "cell_type": "code",
   "execution_count": 131,
   "metadata": {},
   "outputs": [
    {
     "name": "stdout",
     "output_type": "stream",
     "text": [
      "                            OLS Regression Results                            \n",
      "==============================================================================\n",
      "Dep. Variable:       ln_Interest_Rate   R-squared:                       0.774\n",
      "Model:                            OLS   Adj. R-squared:                  0.772\n",
      "Method:                 Least Squares   F-statistic:                     329.2\n",
      "Date:                Mon, 15 Mar 2021   Prob (F-statistic):               0.00\n",
      "Time:                        13:25:57   Log-Likelihood:                 711.73\n",
      "No. Observations:                1748   AIC:                            -1385.\n",
      "Df Residuals:                    1729   BIC:                            -1282.\n",
      "Df Model:                          18                                         \n",
      "Covariance Type:            nonrobust                                         \n",
      "===================================================================================================\n",
      "                                      coef    std err          t      P>|t|      [0.025      0.975]\n",
      "---------------------------------------------------------------------------------------------------\n",
      "Intercept                           7.1152      0.088     80.875      0.000       6.943       7.288\n",
      "Amount_Funded_By_Investors       1.145e-05   5.77e-07     19.824      0.000    1.03e-05    1.26e-05\n",
      "Debt_To_Income_Ratio               -0.0006      0.001     -1.031      0.303      -0.002       0.001\n",
      "Fico_Avg                           -0.0074      0.000    -62.234      0.000      -0.008      -0.007\n",
      "Home_Ownership_NONE                 0.3052      0.163      1.872      0.061      -0.015       0.625\n",
      "Home_Ownership_RENT                 0.0209      0.008      2.596      0.010       0.005       0.037\n",
      "Inquiries_in_the_Last_6_Months      0.0370      0.004     10.575      0.000       0.030       0.044\n",
      "Loan_Length                         0.0100      0.000     23.710      0.000       0.009       0.011\n",
      "Loan_Purpose_debt_consolidation     0.0186      0.009      2.040      0.042       0.001       0.036\n",
      "Loan_Purpose_educational            0.0413      0.044      0.933      0.351      -0.046       0.128\n",
      "Loan_Purpose_house                  0.0682      0.046      1.492      0.136      -0.021       0.158\n",
      "Loan_Purpose_major_purchase         0.0363      0.021      1.748      0.081      -0.004       0.077\n",
      "Loan_Purpose_moving                 0.0861      0.038      2.263      0.024       0.011       0.161\n",
      "Loan_Purpose_other                  0.0729      0.016      4.681      0.000       0.042       0.103\n",
      "Loan_Purpose_small_business         0.0529      0.022      2.417      0.016       0.010       0.096\n",
      "State_IA                           -0.1125      0.163     -0.691      0.489      -0.432       0.207\n",
      "State_IN                           -0.2556      0.163     -1.572      0.116      -0.574       0.063\n",
      "State_MS                            0.1730      0.162      1.066      0.286      -0.145       0.491\n",
      "State_SD                           -0.2326      0.162     -1.432      0.152      -0.551       0.086\n",
      "==============================================================================\n",
      "Omnibus:                       77.466   Durbin-Watson:                   1.999\n",
      "Prob(Omnibus):                  0.000   Jarque-Bera (JB):              229.954\n",
      "Skew:                           0.127   Prob(JB):                     1.16e-50\n",
      "Kurtosis:                       4.759   Cond. No.                     6.01e+05\n",
      "==============================================================================\n",
      "\n",
      "Notes:\n",
      "[1] Standard Errors assume that the covariance matrix of the errors is correctly specified.\n",
      "[2] The condition number is large, 6.01e+05. This might indicate that there are\n",
      "strong multicollinearity or other numerical problems.\n"
     ]
    }
   ],
   "source": [
    "## Iteration 5\n",
    "\n",
    "model = smf.ols('ln_Interest_Rate~Amount_Funded_By_Investors+Debt_To_Income_Ratio+Fico_Avg+Home_Ownership_NONE+Home_Ownership_RENT+Inquiries_in_the_Last_6_Months+Loan_Length+Loan_Purpose_debt_consolidation+Loan_Purpose_educational+Loan_Purpose_house+Loan_Purpose_major_purchase+Loan_Purpose_moving+Loan_Purpose_other+Loan_Purpose_small_business+State_IA+State_IN+State_MS+State_SD', data=train).fit()\n",
    "\n",
    "print(model.summary())"
   ]
  },
  {
   "cell_type": "code",
   "execution_count": 132,
   "metadata": {},
   "outputs": [
    {
     "name": "stdout",
     "output_type": "stream",
     "text": [
      "                            OLS Regression Results                            \n",
      "==============================================================================\n",
      "Dep. Variable:       ln_Interest_Rate   R-squared:                       0.774\n",
      "Model:                            OLS   Adj. R-squared:                  0.772\n",
      "Method:                 Least Squares   F-statistic:                     348.7\n",
      "Date:                Mon, 15 Mar 2021   Prob (F-statistic):               0.00\n",
      "Time:                        13:25:57   Log-Likelihood:                 711.49\n",
      "No. Observations:                1748   AIC:                            -1387.\n",
      "Df Residuals:                    1730   BIC:                            -1289.\n",
      "Df Model:                          17                                         \n",
      "Covariance Type:            nonrobust                                         \n",
      "===================================================================================================\n",
      "                                      coef    std err          t      P>|t|      [0.025      0.975]\n",
      "---------------------------------------------------------------------------------------------------\n",
      "Intercept                           7.1129      0.088     80.916      0.000       6.941       7.285\n",
      "Amount_Funded_By_Investors       1.146e-05   5.77e-07     19.852      0.000    1.03e-05    1.26e-05\n",
      "Debt_To_Income_Ratio               -0.0006      0.001     -1.015      0.310      -0.002       0.001\n",
      "Fico_Avg                           -0.0074      0.000    -62.253      0.000      -0.008      -0.007\n",
      "Home_Ownership_NONE                 0.3050      0.163      1.872      0.061      -0.015       0.625\n",
      "Home_Ownership_RENT                 0.0210      0.008      2.612      0.009       0.005       0.037\n",
      "Inquiries_in_the_Last_6_Months      0.0369      0.003     10.554      0.000       0.030       0.044\n",
      "Loan_Length                         0.0100      0.000     23.713      0.000       0.009       0.011\n",
      "Loan_Purpose_debt_consolidation     0.0188      0.009      2.063      0.039       0.001       0.037\n",
      "Loan_Purpose_educational            0.0418      0.044      0.944      0.345      -0.045       0.129\n",
      "Loan_Purpose_house                  0.0685      0.046      1.497      0.135      -0.021       0.158\n",
      "Loan_Purpose_major_purchase         0.0365      0.021      1.759      0.079      -0.004       0.077\n",
      "Loan_Purpose_moving                 0.0864      0.038      2.269      0.023       0.012       0.161\n",
      "Loan_Purpose_other                  0.0732      0.016      4.701      0.000       0.043       0.104\n",
      "Loan_Purpose_small_business         0.0531      0.022      2.427      0.015       0.010       0.096\n",
      "State_IN                           -0.2550      0.163     -1.569      0.117      -0.574       0.064\n",
      "State_MS                            0.1736      0.162      1.070      0.285      -0.145       0.492\n",
      "State_SD                           -0.2330      0.162     -1.434      0.152      -0.552       0.086\n",
      "==============================================================================\n",
      "Omnibus:                       77.303   Durbin-Watson:                   1.999\n",
      "Prob(Omnibus):                  0.000   Jarque-Bera (JB):              228.940\n",
      "Skew:                           0.127   Prob(JB):                     1.93e-50\n",
      "Kurtosis:                       4.755   Cond. No.                     5.99e+05\n",
      "==============================================================================\n",
      "\n",
      "Notes:\n",
      "[1] Standard Errors assume that the covariance matrix of the errors is correctly specified.\n",
      "[2] The condition number is large, 5.99e+05. This might indicate that there are\n",
      "strong multicollinearity or other numerical problems.\n"
     ]
    }
   ],
   "source": [
    "## Iteration 6\n",
    "\n",
    "model = smf.ols('ln_Interest_Rate~Amount_Funded_By_Investors+Debt_To_Income_Ratio+Fico_Avg+Home_Ownership_NONE+Home_Ownership_RENT+Inquiries_in_the_Last_6_Months+Loan_Length+Loan_Purpose_debt_consolidation+Loan_Purpose_educational+Loan_Purpose_house+Loan_Purpose_major_purchase+Loan_Purpose_moving+Loan_Purpose_other+Loan_Purpose_small_business+State_IN+State_MS+State_SD', data=train).fit()\n",
    "\n",
    "print(model.summary())"
   ]
  },
  {
   "cell_type": "code",
   "execution_count": 133,
   "metadata": {},
   "outputs": [
    {
     "name": "stdout",
     "output_type": "stream",
     "text": [
      "                            OLS Regression Results                            \n",
      "==============================================================================\n",
      "Dep. Variable:       ln_Interest_Rate   R-squared:                       0.774\n",
      "Model:                            OLS   Adj. R-squared:                  0.772\n",
      "Method:                 Least Squares   F-statistic:                     370.5\n",
      "Date:                Mon, 15 Mar 2021   Prob (F-statistic):               0.00\n",
      "Time:                        13:25:57   Log-Likelihood:                 711.04\n",
      "No. Observations:                1748   AIC:                            -1388.\n",
      "Df Residuals:                    1731   BIC:                            -1295.\n",
      "Df Model:                          16                                         \n",
      "Covariance Type:            nonrobust                                         \n",
      "===================================================================================================\n",
      "                                      coef    std err          t      P>|t|      [0.025      0.975]\n",
      "---------------------------------------------------------------------------------------------------\n",
      "Intercept                           7.1127      0.088     80.916      0.000       6.940       7.285\n",
      "Amount_Funded_By_Investors       1.142e-05   5.76e-07     19.833      0.000    1.03e-05    1.26e-05\n",
      "Debt_To_Income_Ratio               -0.0006      0.001     -1.083      0.279      -0.002       0.000\n",
      "Fico_Avg                           -0.0074      0.000    -62.250      0.000      -0.008      -0.007\n",
      "Home_Ownership_NONE                 0.3045      0.163      1.869      0.062      -0.015       0.624\n",
      "Home_Ownership_RENT                 0.0212      0.008      2.632      0.009       0.005       0.037\n",
      "Inquiries_in_the_Last_6_Months      0.0372      0.003     10.672      0.000       0.030       0.044\n",
      "Loan_Length                         0.0101      0.000     23.720      0.000       0.009       0.011\n",
      "Loan_Purpose_debt_consolidation     0.0178      0.009      1.967      0.049    5.45e-05       0.035\n",
      "Loan_Purpose_house                  0.0671      0.046      1.468      0.142      -0.023       0.157\n",
      "Loan_Purpose_major_purchase         0.0351      0.021      1.697      0.090      -0.005       0.076\n",
      "Loan_Purpose_moving                 0.0850      0.038      2.236      0.026       0.010       0.160\n",
      "Loan_Purpose_other                  0.0719      0.016      4.636      0.000       0.041       0.102\n",
      "Loan_Purpose_small_business         0.0519      0.022      2.376      0.018       0.009       0.095\n",
      "State_IN                           -0.2565      0.163     -1.578      0.115      -0.575       0.062\n",
      "State_MS                            0.1720      0.162      1.061      0.289      -0.146       0.490\n",
      "State_SD                           -0.2319      0.162     -1.428      0.154      -0.550       0.087\n",
      "==============================================================================\n",
      "Omnibus:                       76.716   Durbin-Watson:                   1.999\n",
      "Prob(Omnibus):                  0.000   Jarque-Bera (JB):              227.424\n",
      "Skew:                           0.122   Prob(JB):                     4.13e-50\n",
      "Kurtosis:                       4.750   Cond. No.                     5.99e+05\n",
      "==============================================================================\n",
      "\n",
      "Notes:\n",
      "[1] Standard Errors assume that the covariance matrix of the errors is correctly specified.\n",
      "[2] The condition number is large, 5.99e+05. This might indicate that there are\n",
      "strong multicollinearity or other numerical problems.\n"
     ]
    }
   ],
   "source": [
    "## Iteration 7\n",
    "\n",
    "model = smf.ols('ln_Interest_Rate~Amount_Funded_By_Investors+Debt_To_Income_Ratio+Fico_Avg+Home_Ownership_NONE+Home_Ownership_RENT+Inquiries_in_the_Last_6_Months+Loan_Length+Loan_Purpose_debt_consolidation+Loan_Purpose_house+Loan_Purpose_major_purchase+Loan_Purpose_moving+Loan_Purpose_other+Loan_Purpose_small_business+State_IN+State_MS+State_SD', data=train).fit()\n",
    "\n",
    "print(model.summary())"
   ]
  },
  {
   "cell_type": "code",
   "execution_count": 134,
   "metadata": {},
   "outputs": [
    {
     "name": "stdout",
     "output_type": "stream",
     "text": [
      "                            OLS Regression Results                            \n",
      "==============================================================================\n",
      "Dep. Variable:       ln_Interest_Rate   R-squared:                       0.774\n",
      "Model:                            OLS   Adj. R-squared:                  0.772\n",
      "Method:                 Least Squares   F-statistic:                     395.0\n",
      "Date:                Mon, 15 Mar 2021   Prob (F-statistic):               0.00\n",
      "Time:                        13:25:57   Log-Likelihood:                 710.47\n",
      "No. Observations:                1748   AIC:                            -1389.\n",
      "Df Residuals:                    1732   BIC:                            -1301.\n",
      "Df Model:                          15                                         \n",
      "Covariance Type:            nonrobust                                         \n",
      "===================================================================================================\n",
      "                                      coef    std err          t      P>|t|      [0.025      0.975]\n",
      "---------------------------------------------------------------------------------------------------\n",
      "Intercept                           7.1150      0.088     80.966      0.000       6.943       7.287\n",
      "Amount_Funded_By_Investors       1.141e-05   5.76e-07     19.817      0.000    1.03e-05    1.25e-05\n",
      "Debt_To_Income_Ratio               -0.0006      0.001     -1.088      0.277      -0.002       0.000\n",
      "Fico_Avg                           -0.0074      0.000    -62.282      0.000      -0.008      -0.007\n",
      "Home_Ownership_NONE                 0.3047      0.163      1.869      0.062      -0.015       0.624\n",
      "Home_Ownership_RENT                 0.0210      0.008      2.607      0.009       0.005       0.037\n",
      "Inquiries_in_the_Last_6_Months      0.0372      0.003     10.695      0.000       0.030       0.044\n",
      "Loan_Length                         0.0100      0.000     23.715      0.000       0.009       0.011\n",
      "Loan_Purpose_debt_consolidation     0.0175      0.009      1.935      0.053      -0.000       0.035\n",
      "Loan_Purpose_house                  0.0668      0.046      1.463      0.144      -0.023       0.156\n",
      "Loan_Purpose_major_purchase         0.0348      0.021      1.682      0.093      -0.006       0.075\n",
      "Loan_Purpose_moving                 0.0847      0.038      2.228      0.026       0.010       0.159\n",
      "Loan_Purpose_other                  0.0715      0.015      4.615      0.000       0.041       0.102\n",
      "Loan_Purpose_small_business         0.0516      0.022      2.363      0.018       0.009       0.094\n",
      "State_IN                           -0.2569      0.163     -1.580      0.114      -0.576       0.062\n",
      "State_SD                           -0.2317      0.162     -1.426      0.154      -0.550       0.087\n",
      "==============================================================================\n",
      "Omnibus:                       76.470   Durbin-Watson:                   1.997\n",
      "Prob(Omnibus):                  0.000   Jarque-Bera (JB):              226.423\n",
      "Skew:                           0.121   Prob(JB):                     6.80e-50\n",
      "Kurtosis:                       4.746   Cond. No.                     5.99e+05\n",
      "==============================================================================\n",
      "\n",
      "Notes:\n",
      "[1] Standard Errors assume that the covariance matrix of the errors is correctly specified.\n",
      "[2] The condition number is large, 5.99e+05. This might indicate that there are\n",
      "strong multicollinearity or other numerical problems.\n"
     ]
    }
   ],
   "source": [
    "## Iteration 8\n",
    "\n",
    "model = smf.ols('ln_Interest_Rate~Amount_Funded_By_Investors+Debt_To_Income_Ratio+Fico_Avg+Home_Ownership_NONE+Home_Ownership_RENT+Inquiries_in_the_Last_6_Months+Loan_Length+Loan_Purpose_debt_consolidation+Loan_Purpose_house+Loan_Purpose_major_purchase+Loan_Purpose_moving+Loan_Purpose_other+Loan_Purpose_small_business+State_IN+State_SD', data=train).fit()\n",
    "\n",
    "print(model.summary())"
   ]
  },
  {
   "cell_type": "code",
   "execution_count": 135,
   "metadata": {},
   "outputs": [
    {
     "name": "stdout",
     "output_type": "stream",
     "text": [
      "                            OLS Regression Results                            \n",
      "==============================================================================\n",
      "Dep. Variable:       ln_Interest_Rate   R-squared:                       0.774\n",
      "Model:                            OLS   Adj. R-squared:                  0.772\n",
      "Method:                 Least Squares   F-statistic:                     423.1\n",
      "Date:                Mon, 15 Mar 2021   Prob (F-statistic):               0.00\n",
      "Time:                        13:25:57   Log-Likelihood:                 709.87\n",
      "No. Observations:                1748   AIC:                            -1390.\n",
      "Df Residuals:                    1733   BIC:                            -1308.\n",
      "Df Model:                          14                                         \n",
      "Covariance Type:            nonrobust                                         \n",
      "===================================================================================================\n",
      "                                      coef    std err          t      P>|t|      [0.025      0.975]\n",
      "---------------------------------------------------------------------------------------------------\n",
      "Intercept                           7.0895      0.085     83.705      0.000       6.923       7.256\n",
      "Amount_Funded_By_Investors       1.136e-05   5.74e-07     19.790      0.000    1.02e-05    1.25e-05\n",
      "Fico_Avg                           -0.0073      0.000    -63.206      0.000      -0.008      -0.007\n",
      "Home_Ownership_NONE                 0.3100      0.163      1.903      0.057      -0.010       0.630\n",
      "Home_Ownership_RENT                 0.0210      0.008      2.613      0.009       0.005       0.037\n",
      "Inquiries_in_the_Last_6_Months      0.0371      0.003     10.664      0.000       0.030       0.044\n",
      "Loan_Length                         0.0101      0.000     23.718      0.000       0.009       0.011\n",
      "Loan_Purpose_debt_consolidation     0.0170      0.009      1.889      0.059      -0.001       0.035\n",
      "Loan_Purpose_house                  0.0700      0.046      1.534      0.125      -0.019       0.159\n",
      "Loan_Purpose_major_purchase         0.0360      0.021      1.743      0.082      -0.005       0.077\n",
      "Loan_Purpose_moving                 0.0845      0.038      2.222      0.026       0.010       0.159\n",
      "Loan_Purpose_other                  0.0719      0.015      4.637      0.000       0.041       0.102\n",
      "Loan_Purpose_small_business         0.0527      0.022      2.415      0.016       0.010       0.095\n",
      "State_IN                           -0.2531      0.163     -1.558      0.119      -0.572       0.066\n",
      "State_SD                           -0.2349      0.162     -1.446      0.148      -0.553       0.084\n",
      "==============================================================================\n",
      "Omnibus:                       74.844   Durbin-Watson:                   1.998\n",
      "Prob(Omnibus):                  0.000   Jarque-Bera (JB):              218.928\n",
      "Skew:                           0.118   Prob(JB):                     2.89e-48\n",
      "Kurtosis:                       4.718   Cond. No.                     5.99e+05\n",
      "==============================================================================\n",
      "\n",
      "Notes:\n",
      "[1] Standard Errors assume that the covariance matrix of the errors is correctly specified.\n",
      "[2] The condition number is large, 5.99e+05. This might indicate that there are\n",
      "strong multicollinearity or other numerical problems.\n"
     ]
    }
   ],
   "source": [
    "## Iteration 9\n",
    "\n",
    "model = smf.ols('ln_Interest_Rate~Amount_Funded_By_Investors+Fico_Avg+Home_Ownership_NONE+Home_Ownership_RENT+Inquiries_in_the_Last_6_Months+Loan_Length+Loan_Purpose_debt_consolidation+Loan_Purpose_house+Loan_Purpose_major_purchase+Loan_Purpose_moving+Loan_Purpose_other+Loan_Purpose_small_business+State_IN+State_SD', data=train).fit()\n",
    "\n",
    "print(model.summary())"
   ]
  },
  {
   "cell_type": "code",
   "execution_count": 136,
   "metadata": {},
   "outputs": [
    {
     "name": "stdout",
     "output_type": "stream",
     "text": [
      "                            OLS Regression Results                            \n",
      "==============================================================================\n",
      "Dep. Variable:       ln_Interest_Rate   R-squared:                       0.773\n",
      "Model:                            OLS   Adj. R-squared:                  0.772\n",
      "Method:                 Least Squares   F-statistic:                     455.2\n",
      "Date:                Mon, 15 Mar 2021   Prob (F-statistic):               0.00\n",
      "Time:                        13:25:57   Log-Likelihood:                 708.82\n",
      "No. Observations:                1748   AIC:                            -1390.\n",
      "Df Residuals:                    1734   BIC:                            -1313.\n",
      "Df Model:                          13                                         \n",
      "Covariance Type:            nonrobust                                         \n",
      "===================================================================================================\n",
      "                                      coef    std err          t      P>|t|      [0.025      0.975]\n",
      "---------------------------------------------------------------------------------------------------\n",
      "Intercept                           7.0889      0.085     83.672      0.000       6.923       7.255\n",
      "Amount_Funded_By_Investors       1.131e-05   5.73e-07     19.733      0.000    1.02e-05    1.24e-05\n",
      "Fico_Avg                           -0.0073      0.000    -63.186      0.000      -0.008      -0.007\n",
      "Home_Ownership_NONE                 0.3101      0.163      1.903      0.057      -0.010       0.630\n",
      "Home_Ownership_RENT                 0.0212      0.008      2.639      0.008       0.005       0.037\n",
      "Inquiries_in_the_Last_6_Months      0.0372      0.003     10.686      0.000       0.030       0.044\n",
      "Loan_Length                         0.0101      0.000     23.785      0.000       0.009       0.011\n",
      "Loan_Purpose_debt_consolidation     0.0168      0.009      1.868      0.062      -0.001       0.035\n",
      "Loan_Purpose_house                  0.0699      0.046      1.532      0.126      -0.020       0.159\n",
      "Loan_Purpose_major_purchase         0.0359      0.021      1.736      0.083      -0.005       0.076\n",
      "Loan_Purpose_moving                 0.0842      0.038      2.214      0.027       0.010       0.159\n",
      "Loan_Purpose_other                  0.0716      0.015      4.622      0.000       0.041       0.102\n",
      "Loan_Purpose_small_business         0.0527      0.022      2.414      0.016       0.010       0.095\n",
      "State_IN                           -0.2537      0.163     -1.561      0.119      -0.573       0.065\n",
      "==============================================================================\n",
      "Omnibus:                       74.397   Durbin-Watson:                   1.998\n",
      "Prob(Omnibus):                  0.000   Jarque-Bera (JB):              216.482\n",
      "Skew:                           0.118   Prob(JB):                     9.81e-48\n",
      "Kurtosis:                       4.708   Cond. No.                     5.99e+05\n",
      "==============================================================================\n",
      "\n",
      "Notes:\n",
      "[1] Standard Errors assume that the covariance matrix of the errors is correctly specified.\n",
      "[2] The condition number is large, 5.99e+05. This might indicate that there are\n",
      "strong multicollinearity or other numerical problems.\n"
     ]
    }
   ],
   "source": [
    "## Iteration 10\n",
    "\n",
    "model = smf.ols('ln_Interest_Rate~Amount_Funded_By_Investors+Fico_Avg+Home_Ownership_NONE+Home_Ownership_RENT+Inquiries_in_the_Last_6_Months+Loan_Length+Loan_Purpose_debt_consolidation+Loan_Purpose_house+Loan_Purpose_major_purchase+Loan_Purpose_moving+Loan_Purpose_other+Loan_Purpose_small_business+State_IN', data=train).fit()\n",
    "\n",
    "print(model.summary())"
   ]
  },
  {
   "cell_type": "code",
   "execution_count": 137,
   "metadata": {},
   "outputs": [
    {
     "name": "stdout",
     "output_type": "stream",
     "text": [
      "                            OLS Regression Results                            \n",
      "==============================================================================\n",
      "Dep. Variable:       ln_Interest_Rate   R-squared:                       0.773\n",
      "Model:                            OLS   Adj. R-squared:                  0.772\n",
      "Method:                 Least Squares   F-statistic:                     492.6\n",
      "Date:                Mon, 15 Mar 2021   Prob (F-statistic):               0.00\n",
      "Time:                        13:25:57   Log-Likelihood:                 707.63\n",
      "No. Observations:                1748   AIC:                            -1389.\n",
      "Df Residuals:                    1735   BIC:                            -1318.\n",
      "Df Model:                          12                                         \n",
      "Covariance Type:            nonrobust                                         \n",
      "===================================================================================================\n",
      "                                      coef    std err          t      P>|t|      [0.025      0.975]\n",
      "---------------------------------------------------------------------------------------------------\n",
      "Intercept                           7.0838      0.085     83.644      0.000       6.918       7.250\n",
      "Amount_Funded_By_Investors       1.132e-05   5.74e-07     19.743      0.000    1.02e-05    1.24e-05\n",
      "Fico_Avg                           -0.0073      0.000    -63.153      0.000      -0.008      -0.007\n",
      "Home_Ownership_NONE                 0.3101      0.163      1.902      0.057      -0.010       0.630\n",
      "Home_Ownership_RENT                 0.0220      0.008      2.736      0.006       0.006       0.038\n",
      "Inquiries_in_the_Last_6_Months      0.0373      0.003     10.715      0.000       0.030       0.044\n",
      "Loan_Length                         0.0101      0.000     23.846      0.000       0.009       0.011\n",
      "Loan_Purpose_debt_consolidation     0.0151      0.009      1.687      0.092      -0.002       0.033\n",
      "Loan_Purpose_major_purchase         0.0341      0.021      1.651      0.099      -0.006       0.075\n",
      "Loan_Purpose_moving                 0.0822      0.038      2.163      0.031       0.008       0.157\n",
      "Loan_Purpose_other                  0.0699      0.015      4.519      0.000       0.040       0.100\n",
      "Loan_Purpose_small_business         0.0508      0.022      2.330      0.020       0.008       0.094\n",
      "State_IN                           -0.2541      0.163     -1.562      0.118      -0.573       0.065\n",
      "==============================================================================\n",
      "Omnibus:                       77.457   Durbin-Watson:                   1.995\n",
      "Prob(Omnibus):                  0.000   Jarque-Bera (JB):              229.645\n",
      "Skew:                           0.128   Prob(JB):                     1.36e-50\n",
      "Kurtosis:                       4.757   Cond. No.                     5.99e+05\n",
      "==============================================================================\n",
      "\n",
      "Notes:\n",
      "[1] Standard Errors assume that the covariance matrix of the errors is correctly specified.\n",
      "[2] The condition number is large, 5.99e+05. This might indicate that there are\n",
      "strong multicollinearity or other numerical problems.\n"
     ]
    }
   ],
   "source": [
    "## Iteration 11\n",
    "\n",
    "model = smf.ols('ln_Interest_Rate~Amount_Funded_By_Investors+Fico_Avg+Home_Ownership_NONE+Home_Ownership_RENT+Inquiries_in_the_Last_6_Months+Loan_Length+Loan_Purpose_debt_consolidation+Loan_Purpose_major_purchase+Loan_Purpose_moving+Loan_Purpose_other+Loan_Purpose_small_business+State_IN', data=train).fit()\n",
    "\n",
    "print(model.summary())"
   ]
  },
  {
   "cell_type": "code",
   "execution_count": 138,
   "metadata": {},
   "outputs": [
    {
     "name": "stdout",
     "output_type": "stream",
     "text": [
      "                            OLS Regression Results                            \n",
      "==============================================================================\n",
      "Dep. Variable:       ln_Interest_Rate   R-squared:                       0.773\n",
      "Model:                            OLS   Adj. R-squared:                  0.771\n",
      "Method:                 Least Squares   F-statistic:                     536.7\n",
      "Date:                Mon, 15 Mar 2021   Prob (F-statistic):               0.00\n",
      "Time:                        13:25:57   Log-Likelihood:                 706.41\n",
      "No. Observations:                1748   AIC:                            -1389.\n",
      "Df Residuals:                    1736   BIC:                            -1323.\n",
      "Df Model:                          11                                         \n",
      "Covariance Type:            nonrobust                                         \n",
      "===================================================================================================\n",
      "                                      coef    std err          t      P>|t|      [0.025      0.975]\n",
      "---------------------------------------------------------------------------------------------------\n",
      "Intercept                           7.0843      0.085     83.614      0.000       6.918       7.250\n",
      "Amount_Funded_By_Investors       1.135e-05   5.73e-07     19.792      0.000    1.02e-05    1.25e-05\n",
      "Fico_Avg                           -0.0073      0.000    -63.130      0.000      -0.008      -0.007\n",
      "Home_Ownership_NONE                 0.3097      0.163      1.899      0.058      -0.010       0.630\n",
      "Home_Ownership_RENT                 0.0216      0.008      2.696      0.007       0.006       0.037\n",
      "Inquiries_in_the_Last_6_Months      0.0369      0.003     10.631      0.000       0.030       0.044\n",
      "Loan_Length                         0.0101      0.000     23.835      0.000       0.009       0.011\n",
      "Loan_Purpose_debt_consolidation     0.0148      0.009      1.652      0.099      -0.003       0.032\n",
      "Loan_Purpose_major_purchase         0.0342      0.021      1.653      0.098      -0.006       0.075\n",
      "Loan_Purpose_moving                 0.0825      0.038      2.169      0.030       0.008       0.157\n",
      "Loan_Purpose_other                  0.0701      0.015      4.528      0.000       0.040       0.100\n",
      "Loan_Purpose_small_business         0.0508      0.022      2.330      0.020       0.008       0.094\n",
      "==============================================================================\n",
      "Omnibus:                       77.006   Durbin-Watson:                   1.994\n",
      "Prob(Omnibus):                  0.000   Jarque-Bera (JB):              227.456\n",
      "Skew:                           0.127   Prob(JB):                     4.06e-50\n",
      "Kurtosis:                       4.749   Cond. No.                     5.99e+05\n",
      "==============================================================================\n",
      "\n",
      "Notes:\n",
      "[1] Standard Errors assume that the covariance matrix of the errors is correctly specified.\n",
      "[2] The condition number is large, 5.99e+05. This might indicate that there are\n",
      "strong multicollinearity or other numerical problems.\n"
     ]
    }
   ],
   "source": [
    "## Iteration 12\n",
    "\n",
    "model = smf.ols('ln_Interest_Rate~Amount_Funded_By_Investors+Fico_Avg+Home_Ownership_NONE+Home_Ownership_RENT+Inquiries_in_the_Last_6_Months+Loan_Length+Loan_Purpose_debt_consolidation+Loan_Purpose_major_purchase+Loan_Purpose_moving+Loan_Purpose_other+Loan_Purpose_small_business', data=train).fit()\n",
    "\n",
    "print(model.summary())"
   ]
  },
  {
   "cell_type": "code",
   "execution_count": 139,
   "metadata": {},
   "outputs": [
    {
     "name": "stdout",
     "output_type": "stream",
     "text": [
      "                            OLS Regression Results                            \n",
      "==============================================================================\n",
      "Dep. Variable:       ln_Interest_Rate   R-squared:                       0.772\n",
      "Model:                            OLS   Adj. R-squared:                  0.771\n",
      "Method:                 Least Squares   F-statistic:                     589.5\n",
      "Date:                Mon, 15 Mar 2021   Prob (F-statistic):               0.00\n",
      "Time:                        13:25:58   Log-Likelihood:                 705.03\n",
      "No. Observations:                1748   AIC:                            -1388.\n",
      "Df Residuals:                    1737   BIC:                            -1328.\n",
      "Df Model:                          10                                         \n",
      "Covariance Type:            nonrobust                                         \n",
      "==================================================================================================\n",
      "                                     coef    std err          t      P>|t|      [0.025      0.975]\n",
      "--------------------------------------------------------------------------------------------------\n",
      "Intercept                          7.1026      0.084     84.516      0.000       6.938       7.267\n",
      "Amount_Funded_By_Investors      1.148e-05   5.68e-07     20.209      0.000    1.04e-05    1.26e-05\n",
      "Fico_Avg                          -0.0073      0.000    -63.464      0.000      -0.008      -0.007\n",
      "Home_Ownership_NONE                0.3123      0.163      1.914      0.056      -0.008       0.632\n",
      "Home_Ownership_RENT                0.0225      0.008      2.806      0.005       0.007       0.038\n",
      "Inquiries_in_the_Last_6_Months     0.0370      0.003     10.654      0.000       0.030       0.044\n",
      "Loan_Length                        0.0101      0.000     23.841      0.000       0.009       0.011\n",
      "Loan_Purpose_major_purchase        0.0259      0.020      1.289      0.197      -0.013       0.065\n",
      "Loan_Purpose_moving                0.0737      0.038      1.957      0.051      -0.000       0.148\n",
      "Loan_Purpose_other                 0.0613      0.015      4.215      0.000       0.033       0.090\n",
      "Loan_Purpose_small_business        0.0417      0.021      1.976      0.048       0.000       0.083\n",
      "==============================================================================\n",
      "Omnibus:                       76.725   Durbin-Watson:                   1.993\n",
      "Prob(Omnibus):                  0.000   Jarque-Bera (JB):              228.432\n",
      "Skew:                           0.119   Prob(JB):                     2.49e-50\n",
      "Kurtosis:                       4.755   Cond. No.                     5.99e+05\n",
      "==============================================================================\n",
      "\n",
      "Notes:\n",
      "[1] Standard Errors assume that the covariance matrix of the errors is correctly specified.\n",
      "[2] The condition number is large, 5.99e+05. This might indicate that there are\n",
      "strong multicollinearity or other numerical problems.\n"
     ]
    }
   ],
   "source": [
    "## Iteration 13\n",
    "\n",
    "model = smf.ols('ln_Interest_Rate~Amount_Funded_By_Investors+Fico_Avg+Home_Ownership_NONE+Home_Ownership_RENT+Inquiries_in_the_Last_6_Months+Loan_Length+Loan_Purpose_major_purchase+Loan_Purpose_moving+Loan_Purpose_other+Loan_Purpose_small_business', data=train).fit()\n",
    "\n",
    "print(model.summary())"
   ]
  },
  {
   "cell_type": "code",
   "execution_count": 140,
   "metadata": {},
   "outputs": [
    {
     "name": "stdout",
     "output_type": "stream",
     "text": [
      "                            OLS Regression Results                            \n",
      "==============================================================================\n",
      "Dep. Variable:       ln_Interest_Rate   R-squared:                       0.772\n",
      "Model:                            OLS   Adj. R-squared:                  0.771\n",
      "Method:                 Least Squares   F-statistic:                     654.6\n",
      "Date:                Mon, 15 Mar 2021   Prob (F-statistic):               0.00\n",
      "Time:                        13:25:58   Log-Likelihood:                 704.20\n",
      "No. Observations:                1748   AIC:                            -1388.\n",
      "Df Residuals:                    1738   BIC:                            -1334.\n",
      "Df Model:                           9                                         \n",
      "Covariance Type:            nonrobust                                         \n",
      "==================================================================================================\n",
      "                                     coef    std err          t      P>|t|      [0.025      0.975]\n",
      "--------------------------------------------------------------------------------------------------\n",
      "Intercept                          7.0888      0.083     85.025      0.000       6.925       7.252\n",
      "Amount_Funded_By_Investors       1.14e-05   5.64e-07     20.194      0.000    1.03e-05    1.25e-05\n",
      "Fico_Avg                          -0.0073      0.000    -63.958      0.000      -0.008      -0.007\n",
      "Home_Ownership_NONE                0.3099      0.163      1.899      0.058      -0.010       0.630\n",
      "Home_Ownership_RENT                0.0224      0.008      2.798      0.005       0.007       0.038\n",
      "Inquiries_in_the_Last_6_Months     0.0370      0.003     10.652      0.000       0.030       0.044\n",
      "Loan_Length                        0.0101      0.000     23.875      0.000       0.009       0.011\n",
      "Loan_Purpose_moving                0.0720      0.038      1.912      0.056      -0.002       0.146\n",
      "Loan_Purpose_other                 0.0597      0.014      4.122      0.000       0.031       0.088\n",
      "Loan_Purpose_small_business        0.0402      0.021      1.907      0.057      -0.001       0.082\n",
      "==============================================================================\n",
      "Omnibus:                       78.539   Durbin-Watson:                   1.994\n",
      "Prob(Omnibus):                  0.000   Jarque-Bera (JB):              236.910\n",
      "Skew:                           0.123   Prob(JB):                     3.59e-52\n",
      "Kurtosis:                       4.787   Cond. No.                     5.99e+05\n",
      "==============================================================================\n",
      "\n",
      "Notes:\n",
      "[1] Standard Errors assume that the covariance matrix of the errors is correctly specified.\n",
      "[2] The condition number is large, 5.99e+05. This might indicate that there are\n",
      "strong multicollinearity or other numerical problems.\n"
     ]
    }
   ],
   "source": [
    "## Iteration 14\n",
    "\n",
    "model = smf.ols('ln_Interest_Rate~Amount_Funded_By_Investors+Fico_Avg+Home_Ownership_NONE+Home_Ownership_RENT+Inquiries_in_the_Last_6_Months+Loan_Length+Loan_Purpose_moving+Loan_Purpose_other+Loan_Purpose_small_business', data=train).fit()\n",
    "\n",
    "print(model.summary())"
   ]
  },
  {
   "cell_type": "code",
   "execution_count": 141,
   "metadata": {},
   "outputs": [
    {
     "name": "stdout",
     "output_type": "stream",
     "text": [
      "                            OLS Regression Results                            \n",
      "==============================================================================\n",
      "Dep. Variable:       ln_Interest_Rate   R-squared:                       0.772\n",
      "Model:                            OLS   Adj. R-squared:                  0.771\n",
      "Method:                 Least Squares   F-statistic:                     734.9\n",
      "Date:                Mon, 15 Mar 2021   Prob (F-statistic):               0.00\n",
      "Time:                        13:25:58   Log-Likelihood:                 702.39\n",
      "No. Observations:                1748   AIC:                            -1387.\n",
      "Df Residuals:                    1739   BIC:                            -1338.\n",
      "Df Model:                           8                                         \n",
      "Covariance Type:            nonrobust                                         \n",
      "==================================================================================================\n",
      "                                     coef    std err          t      P>|t|      [0.025      0.975]\n",
      "--------------------------------------------------------------------------------------------------\n",
      "Intercept                          7.0802      0.083     84.983      0.000       6.917       7.244\n",
      "Amount_Funded_By_Investors      1.138e-05   5.65e-07     20.155      0.000    1.03e-05    1.25e-05\n",
      "Fico_Avg                          -0.0073      0.000    -63.912      0.000      -0.008      -0.007\n",
      "Home_Ownership_RENT                0.0221      0.008      2.761      0.006       0.006       0.038\n",
      "Inquiries_in_the_Last_6_Months     0.0369      0.003     10.614      0.000       0.030       0.044\n",
      "Loan_Length                        0.0101      0.000     23.841      0.000       0.009       0.011\n",
      "Loan_Purpose_moving                0.0720      0.038      1.910      0.056      -0.002       0.146\n",
      "Loan_Purpose_other                 0.0619      0.014      4.281      0.000       0.034       0.090\n",
      "Loan_Purpose_small_business        0.0401      0.021      1.898      0.058      -0.001       0.081\n",
      "==============================================================================\n",
      "Omnibus:                       76.879   Durbin-Watson:                   1.998\n",
      "Prob(Omnibus):                  0.000   Jarque-Bera (JB):              229.615\n",
      "Skew:                           0.118   Prob(JB):                     1.38e-50\n",
      "Kurtosis:                       4.760   Cond. No.                     3.06e+05\n",
      "==============================================================================\n",
      "\n",
      "Notes:\n",
      "[1] Standard Errors assume that the covariance matrix of the errors is correctly specified.\n",
      "[2] The condition number is large, 3.06e+05. This might indicate that there are\n",
      "strong multicollinearity or other numerical problems.\n"
     ]
    }
   ],
   "source": [
    "## Iteration 15\n",
    "\n",
    "model = smf.ols('ln_Interest_Rate~Amount_Funded_By_Investors+Fico_Avg+Home_Ownership_RENT+Inquiries_in_the_Last_6_Months+Loan_Length+Loan_Purpose_moving+Loan_Purpose_other+Loan_Purpose_small_business', data=train).fit()\n",
    "\n",
    "print(model.summary())"
   ]
  },
  {
   "cell_type": "code",
   "execution_count": 142,
   "metadata": {},
   "outputs": [
    {
     "name": "stdout",
     "output_type": "stream",
     "text": [
      "                            OLS Regression Results                            \n",
      "==============================================================================\n",
      "Dep. Variable:       ln_Interest_Rate   R-squared:                       0.771\n",
      "Model:                            OLS   Adj. R-squared:                  0.770\n",
      "Method:                 Least Squares   F-statistic:                     838.1\n",
      "Date:                Mon, 15 Mar 2021   Prob (F-statistic):               0.00\n",
      "Time:                        13:25:58   Log-Likelihood:                 700.58\n",
      "No. Observations:                1748   AIC:                            -1385.\n",
      "Df Residuals:                    1740   BIC:                            -1341.\n",
      "Df Model:                           7                                         \n",
      "Covariance Type:            nonrobust                                         \n",
      "==================================================================================================\n",
      "                                     coef    std err          t      P>|t|      [0.025      0.975]\n",
      "--------------------------------------------------------------------------------------------------\n",
      "Intercept                          7.0690      0.083     84.998      0.000       6.906       7.232\n",
      "Amount_Funded_By_Investors      1.137e-05   5.65e-07     20.113      0.000    1.03e-05    1.25e-05\n",
      "Fico_Avg                          -0.0073      0.000    -63.901      0.000      -0.008      -0.007\n",
      "Home_Ownership_RENT                0.0224      0.008      2.787      0.005       0.007       0.038\n",
      "Inquiries_in_the_Last_6_Months     0.0370      0.003     10.634      0.000       0.030       0.044\n",
      "Loan_Length                        0.0101      0.000     23.912      0.000       0.009       0.011\n",
      "Loan_Purpose_moving                0.0703      0.038      1.863      0.063      -0.004       0.144\n",
      "Loan_Purpose_other                 0.0602      0.014      4.171      0.000       0.032       0.089\n",
      "==============================================================================\n",
      "Omnibus:                       80.207   Durbin-Watson:                   1.999\n",
      "Prob(Omnibus):                  0.000   Jarque-Bera (JB):              244.507\n",
      "Skew:                           0.128   Prob(JB):                     8.06e-54\n",
      "Kurtosis:                       4.814   Cond. No.                     3.05e+05\n",
      "==============================================================================\n",
      "\n",
      "Notes:\n",
      "[1] Standard Errors assume that the covariance matrix of the errors is correctly specified.\n",
      "[2] The condition number is large, 3.05e+05. This might indicate that there are\n",
      "strong multicollinearity or other numerical problems.\n"
     ]
    }
   ],
   "source": [
    "## Iteration 16\n",
    "\n",
    "model = smf.ols('ln_Interest_Rate~Amount_Funded_By_Investors+Fico_Avg+Home_Ownership_RENT+Inquiries_in_the_Last_6_Months+Loan_Length+Loan_Purpose_moving+Loan_Purpose_other', data=train).fit()\n",
    "\n",
    "print(model.summary())"
   ]
  },
  {
   "cell_type": "code",
   "execution_count": 180,
   "metadata": {},
   "outputs": [
    {
     "name": "stdout",
     "output_type": "stream",
     "text": [
      "                            OLS Regression Results                            \n",
      "==============================================================================\n",
      "Dep. Variable:       ln_Interest_Rate   R-squared:                       0.771\n",
      "Model:                            OLS   Adj. R-squared:                  0.770\n",
      "Method:                 Least Squares   F-statistic:                     975.8\n",
      "Date:                Mon, 15 Mar 2021   Prob (F-statistic):               0.00\n",
      "Time:                        13:27:35   Log-Likelihood:                 698.84\n",
      "No. Observations:                1748   AIC:                            -1384.\n",
      "Df Residuals:                    1741   BIC:                            -1345.\n",
      "Df Model:                           6                                         \n",
      "Covariance Type:            nonrobust                                         \n",
      "==================================================================================================\n",
      "                                     coef    std err          t      P>|t|      [0.025      0.975]\n",
      "--------------------------------------------------------------------------------------------------\n",
      "Intercept                          7.0658      0.083     84.917      0.000       6.903       7.229\n",
      "Amount_Funded_By_Investors      1.129e-05   5.64e-07     20.017      0.000    1.02e-05    1.24e-05\n",
      "Fico_Avg                          -0.0073      0.000    -63.829      0.000      -0.008      -0.007\n",
      "Home_Ownership_RENT                0.0235      0.008      2.935      0.003       0.008       0.039\n",
      "Inquiries_in_the_Last_6_Months     0.0371      0.003     10.638      0.000       0.030       0.044\n",
      "Loan_Length                        0.0102      0.000     23.931      0.000       0.009       0.011\n",
      "Loan_Purpose_other                 0.0590      0.014      4.086      0.000       0.031       0.087\n",
      "==============================================================================\n",
      "Omnibus:                       81.935   Durbin-Watson:                   2.004\n",
      "Prob(Omnibus):                  0.000   Jarque-Bera (JB):              250.496\n",
      "Skew:                           0.138   Prob(JB):                     4.03e-55\n",
      "Kurtosis:                       4.834   Cond. No.                     3.05e+05\n",
      "==============================================================================\n",
      "\n",
      "Notes:\n",
      "[1] Standard Errors assume that the covariance matrix of the errors is correctly specified.\n",
      "[2] The condition number is large, 3.05e+05. This might indicate that there are\n",
      "strong multicollinearity or other numerical problems.\n"
     ]
    }
   ],
   "source": [
    "## Iteration 16\n",
    "\n",
    "model = smf.ols('ln_Interest_Rate~Amount_Funded_By_Investors+Fico_Avg+Home_Ownership_RENT+Inquiries_in_the_Last_6_Months+Loan_Length+Loan_Purpose_other', data=train).fit()\n",
    "\n",
    "print(model.summary())"
   ]
  },
  {
   "cell_type": "markdown",
   "metadata": {},
   "source": [
    "### Model Validation"
   ]
  },
  {
   "cell_type": "code",
   "execution_count": 181,
   "metadata": {},
   "outputs": [],
   "source": [
    "train_pred = np.exp(model.predict(train))"
   ]
  },
  {
   "cell_type": "code",
   "execution_count": 182,
   "metadata": {},
   "outputs": [],
   "source": [
    "test_pred = np.exp(model.predict(test))"
   ]
  },
  {
   "cell_type": "code",
   "execution_count": 183,
   "metadata": {},
   "outputs": [],
   "source": [
    "train_Y = np.exp(train.ln_Interest_Rate)"
   ]
  },
  {
   "cell_type": "code",
   "execution_count": 184,
   "metadata": {},
   "outputs": [],
   "source": [
    "test_Y = np.exp(test.ln_Interest_Rate)"
   ]
  },
  {
   "cell_type": "code",
   "execution_count": 185,
   "metadata": {},
   "outputs": [],
   "source": [
    "from sklearn import metrics\n",
    "import scipy.stats as stats"
   ]
  },
  {
   "cell_type": "markdown",
   "metadata": {},
   "source": [
    "#### Train Evaluation"
   ]
  },
  {
   "cell_type": "code",
   "execution_count": 186,
   "metadata": {},
   "outputs": [
    {
     "name": "stdout",
     "output_type": "stream",
     "text": [
      "MAPE_train 12.23\n",
      "R2_train 0.7853\n",
      "Corr_train 0.89\n",
      "RMSE_train 3.71\n"
     ]
    }
   ],
   "source": [
    "MAPE_train = round(np.mean(np.abs((train_Y - train_pred)/train_Y))*100,2)\n",
    "print('MAPE_train',MAPE_train)\n",
    "\n",
    "R2_train = round(metrics.r2_score(train_Y ,train_pred),4)\n",
    "print('R2_train',R2_train)\n",
    "\n",
    "Corr_train = stats.stats.pearsonr(train_Y , train_pred)\n",
    "print('Corr_train',round(Corr_train[0],2))\n",
    "\n",
    "RMSE_train = metrics.mean_squared_error(train_Y , train_pred)\n",
    "print('RMSE_train',round(RMSE_train,2))"
   ]
  },
  {
   "cell_type": "markdown",
   "metadata": {},
   "source": [
    "#### Test Evaluation"
   ]
  },
  {
   "cell_type": "code",
   "execution_count": 187,
   "metadata": {},
   "outputs": [
    {
     "name": "stdout",
     "output_type": "stream",
     "text": [
      "MAPE_test 12.17\n",
      "R2_test 0.778\n",
      "Corr_test 0.88\n",
      "RMSE_test 3.95\n"
     ]
    }
   ],
   "source": [
    "MAPE_test = round(np.mean(np.abs((test_Y - test_pred)/test_Y))*100,2)\n",
    "print('MAPE_test',MAPE_test)\n",
    "\n",
    "R2_test = round(metrics.r2_score(test_Y ,test_pred),4)\n",
    "print('R2_test',R2_test)\n",
    "\n",
    "Corr_test = stats.stats.pearsonr(test_Y , test_pred)\n",
    "print('Corr_test',round(Corr_test[0],2))\n",
    "\n",
    "RMSE_test = metrics.mean_squared_error(test_Y , test_pred)\n",
    "print('RMSE_test',round(RMSE_test,2))"
   ]
  },
  {
   "cell_type": "markdown",
   "metadata": {},
   "source": [
    "### Decile Analysis"
   ]
  },
  {
   "cell_type": "markdown",
   "metadata": {},
   "source": [
    "- train"
   ]
  },
  {
   "cell_type": "code",
   "execution_count": 188,
   "metadata": {},
   "outputs": [],
   "source": [
    "# Creating the values of train"
   ]
  },
  {
   "cell_type": "code",
   "execution_count": 189,
   "metadata": {},
   "outputs": [],
   "source": [
    "train2 = pd.concat([train_Y,train_pred],axis=1)"
   ]
  },
  {
   "cell_type": "code",
   "execution_count": 190,
   "metadata": {},
   "outputs": [],
   "source": [
    "train2.columns = ['Y','Pred_Y']"
   ]
  },
  {
   "cell_type": "code",
   "execution_count": 191,
   "metadata": {},
   "outputs": [],
   "source": [
    "#Decile analysis - Train\n",
    "\n",
    "train2['Deciles']=pd.qcut(train2['Pred_Y'],10, labels=False)"
   ]
  },
  {
   "cell_type": "code",
   "execution_count": 192,
   "metadata": {},
   "outputs": [
    {
     "data": {
      "text/html": [
       "<div>\n",
       "<style scoped>\n",
       "    .dataframe tbody tr th:only-of-type {\n",
       "        vertical-align: middle;\n",
       "    }\n",
       "\n",
       "    .dataframe tbody tr th {\n",
       "        vertical-align: top;\n",
       "    }\n",
       "\n",
       "    .dataframe thead th {\n",
       "        text-align: right;\n",
       "    }\n",
       "</style>\n",
       "<table border=\"1\" class=\"dataframe\">\n",
       "  <thead>\n",
       "    <tr style=\"text-align: right;\">\n",
       "      <th></th>\n",
       "      <th>Y</th>\n",
       "      <th>Pred_Y</th>\n",
       "      <th>Deciles</th>\n",
       "    </tr>\n",
       "  </thead>\n",
       "  <tbody>\n",
       "    <tr>\n",
       "      <th>1782</th>\n",
       "      <td>7.90</td>\n",
       "      <td>10.470805</td>\n",
       "      <td>2</td>\n",
       "    </tr>\n",
       "    <tr>\n",
       "      <th>1006</th>\n",
       "      <td>12.12</td>\n",
       "      <td>10.655623</td>\n",
       "      <td>2</td>\n",
       "    </tr>\n",
       "    <tr>\n",
       "      <th>1342</th>\n",
       "      <td>12.69</td>\n",
       "      <td>10.132701</td>\n",
       "      <td>2</td>\n",
       "    </tr>\n",
       "    <tr>\n",
       "      <th>1176</th>\n",
       "      <td>11.58</td>\n",
       "      <td>10.164471</td>\n",
       "      <td>2</td>\n",
       "    </tr>\n",
       "    <tr>\n",
       "      <th>814</th>\n",
       "      <td>11.14</td>\n",
       "      <td>9.707888</td>\n",
       "      <td>2</td>\n",
       "    </tr>\n",
       "    <tr>\n",
       "      <th>...</th>\n",
       "      <td>...</td>\n",
       "      <td>...</td>\n",
       "      <td>...</td>\n",
       "    </tr>\n",
       "    <tr>\n",
       "      <th>1741</th>\n",
       "      <td>7.90</td>\n",
       "      <td>9.765620</td>\n",
       "      <td>2</td>\n",
       "    </tr>\n",
       "    <tr>\n",
       "      <th>1418</th>\n",
       "      <td>7.88</td>\n",
       "      <td>9.653871</td>\n",
       "      <td>2</td>\n",
       "    </tr>\n",
       "    <tr>\n",
       "      <th>1847</th>\n",
       "      <td>8.90</td>\n",
       "      <td>10.743223</td>\n",
       "      <td>2</td>\n",
       "    </tr>\n",
       "    <tr>\n",
       "      <th>2468</th>\n",
       "      <td>7.29</td>\n",
       "      <td>10.055577</td>\n",
       "      <td>2</td>\n",
       "    </tr>\n",
       "    <tr>\n",
       "      <th>1568</th>\n",
       "      <td>10.37</td>\n",
       "      <td>10.321170</td>\n",
       "      <td>2</td>\n",
       "    </tr>\n",
       "  </tbody>\n",
       "</table>\n",
       "<p>175 rows × 3 columns</p>\n",
       "</div>"
      ],
      "text/plain": [
       "          Y     Pred_Y  Deciles\n",
       "1782   7.90  10.470805        2\n",
       "1006  12.12  10.655623        2\n",
       "1342  12.69  10.132701        2\n",
       "1176  11.58  10.164471        2\n",
       "814   11.14   9.707888        2\n",
       "...     ...        ...      ...\n",
       "1741   7.90   9.765620        2\n",
       "1418   7.88   9.653871        2\n",
       "1847   8.90  10.743223        2\n",
       "2468   7.29  10.055577        2\n",
       "1568  10.37  10.321170        2\n",
       "\n",
       "[175 rows x 3 columns]"
      ]
     },
     "execution_count": 192,
     "metadata": {},
     "output_type": "execute_result"
    }
   ],
   "source": [
    "train2.loc[train2.Deciles==2,:]"
   ]
  },
  {
   "cell_type": "code",
   "execution_count": 193,
   "metadata": {},
   "outputs": [],
   "source": [
    "avg_actual = train2[['Deciles','Y']].groupby(train2.Deciles).mean().sort_index(ascending=True)['Y']"
   ]
  },
  {
   "cell_type": "code",
   "execution_count": 194,
   "metadata": {},
   "outputs": [
    {
     "data": {
      "text/plain": [
       "Deciles\n",
       "0     7.418800\n",
       "1     8.726171\n",
       "2     9.683143\n",
       "3    11.227414\n",
       "4    12.663486\n",
       "5    13.561600\n",
       "6    14.709253\n",
       "7    15.804286\n",
       "8    16.793029\n",
       "9    19.823429\n",
       "Name: Y, dtype: float64"
      ]
     },
     "execution_count": 194,
     "metadata": {},
     "output_type": "execute_result"
    }
   ],
   "source": [
    "avg_actual"
   ]
  },
  {
   "cell_type": "code",
   "execution_count": 195,
   "metadata": {},
   "outputs": [],
   "source": [
    "avg_pred = train2[['Deciles','Pred_Y']].groupby(train2.Deciles).mean().sort_index(ascending=True)['Pred_Y']"
   ]
  },
  {
   "cell_type": "code",
   "execution_count": 196,
   "metadata": {},
   "outputs": [
    {
     "data": {
      "text/plain": [
       "Deciles\n",
       "0     7.007790\n",
       "1     8.966862\n",
       "2    10.249646\n",
       "3    11.343238\n",
       "4    12.381941\n",
       "5    13.260584\n",
       "6    14.112100\n",
       "7    14.969003\n",
       "8    16.319440\n",
       "9    20.262443\n",
       "Name: Pred_Y, dtype: float64"
      ]
     },
     "execution_count": 196,
     "metadata": {},
     "output_type": "execute_result"
    }
   ],
   "source": [
    "avg_pred"
   ]
  },
  {
   "cell_type": "code",
   "execution_count": 197,
   "metadata": {},
   "outputs": [],
   "source": [
    "Decile_analysis_train = pd.concat([avg_actual, avg_pred], axis=1)"
   ]
  },
  {
   "cell_type": "code",
   "execution_count": 198,
   "metadata": {},
   "outputs": [
    {
     "data": {
      "text/html": [
       "<div>\n",
       "<style scoped>\n",
       "    .dataframe tbody tr th:only-of-type {\n",
       "        vertical-align: middle;\n",
       "    }\n",
       "\n",
       "    .dataframe tbody tr th {\n",
       "        vertical-align: top;\n",
       "    }\n",
       "\n",
       "    .dataframe thead th {\n",
       "        text-align: right;\n",
       "    }\n",
       "</style>\n",
       "<table border=\"1\" class=\"dataframe\">\n",
       "  <thead>\n",
       "    <tr style=\"text-align: right;\">\n",
       "      <th></th>\n",
       "      <th>Y</th>\n",
       "      <th>Pred_Y</th>\n",
       "    </tr>\n",
       "    <tr>\n",
       "      <th>Deciles</th>\n",
       "      <th></th>\n",
       "      <th></th>\n",
       "    </tr>\n",
       "  </thead>\n",
       "  <tbody>\n",
       "    <tr>\n",
       "      <th>0</th>\n",
       "      <td>7.418800</td>\n",
       "      <td>7.007790</td>\n",
       "    </tr>\n",
       "    <tr>\n",
       "      <th>1</th>\n",
       "      <td>8.726171</td>\n",
       "      <td>8.966862</td>\n",
       "    </tr>\n",
       "    <tr>\n",
       "      <th>2</th>\n",
       "      <td>9.683143</td>\n",
       "      <td>10.249646</td>\n",
       "    </tr>\n",
       "    <tr>\n",
       "      <th>3</th>\n",
       "      <td>11.227414</td>\n",
       "      <td>11.343238</td>\n",
       "    </tr>\n",
       "    <tr>\n",
       "      <th>4</th>\n",
       "      <td>12.663486</td>\n",
       "      <td>12.381941</td>\n",
       "    </tr>\n",
       "    <tr>\n",
       "      <th>5</th>\n",
       "      <td>13.561600</td>\n",
       "      <td>13.260584</td>\n",
       "    </tr>\n",
       "    <tr>\n",
       "      <th>6</th>\n",
       "      <td>14.709253</td>\n",
       "      <td>14.112100</td>\n",
       "    </tr>\n",
       "    <tr>\n",
       "      <th>7</th>\n",
       "      <td>15.804286</td>\n",
       "      <td>14.969003</td>\n",
       "    </tr>\n",
       "    <tr>\n",
       "      <th>8</th>\n",
       "      <td>16.793029</td>\n",
       "      <td>16.319440</td>\n",
       "    </tr>\n",
       "    <tr>\n",
       "      <th>9</th>\n",
       "      <td>19.823429</td>\n",
       "      <td>20.262443</td>\n",
       "    </tr>\n",
       "  </tbody>\n",
       "</table>\n",
       "</div>"
      ],
      "text/plain": [
       "                 Y     Pred_Y\n",
       "Deciles                      \n",
       "0         7.418800   7.007790\n",
       "1         8.726171   8.966862\n",
       "2         9.683143  10.249646\n",
       "3        11.227414  11.343238\n",
       "4        12.663486  12.381941\n",
       "5        13.561600  13.260584\n",
       "6        14.709253  14.112100\n",
       "7        15.804286  14.969003\n",
       "8        16.793029  16.319440\n",
       "9        19.823429  20.262443"
      ]
     },
     "execution_count": 198,
     "metadata": {},
     "output_type": "execute_result"
    }
   ],
   "source": [
    "Decile_analysis_train"
   ]
  },
  {
   "cell_type": "markdown",
   "metadata": {},
   "source": [
    "- test"
   ]
  },
  {
   "cell_type": "code",
   "execution_count": 199,
   "metadata": {},
   "outputs": [],
   "source": [
    "# Creating the values of train"
   ]
  },
  {
   "cell_type": "code",
   "execution_count": 200,
   "metadata": {},
   "outputs": [],
   "source": [
    "test2 = pd.concat([test_Y,test_pred],axis=1)"
   ]
  },
  {
   "cell_type": "code",
   "execution_count": 201,
   "metadata": {},
   "outputs": [],
   "source": [
    "test2.columns = ['Y','Pred_Y']"
   ]
  },
  {
   "cell_type": "code",
   "execution_count": 202,
   "metadata": {},
   "outputs": [
    {
     "data": {
      "text/html": [
       "<div>\n",
       "<style scoped>\n",
       "    .dataframe tbody tr th:only-of-type {\n",
       "        vertical-align: middle;\n",
       "    }\n",
       "\n",
       "    .dataframe tbody tr th {\n",
       "        vertical-align: top;\n",
       "    }\n",
       "\n",
       "    .dataframe thead th {\n",
       "        text-align: right;\n",
       "    }\n",
       "</style>\n",
       "<table border=\"1\" class=\"dataframe\">\n",
       "  <thead>\n",
       "    <tr style=\"text-align: right;\">\n",
       "      <th></th>\n",
       "      <th>Y</th>\n",
       "      <th>Pred_Y</th>\n",
       "    </tr>\n",
       "  </thead>\n",
       "  <tbody>\n",
       "    <tr>\n",
       "      <th>1239</th>\n",
       "      <td>17.77</td>\n",
       "      <td>13.293889</td>\n",
       "    </tr>\n",
       "    <tr>\n",
       "      <th>2065</th>\n",
       "      <td>21.00</td>\n",
       "      <td>20.615244</td>\n",
       "    </tr>\n",
       "    <tr>\n",
       "      <th>2441</th>\n",
       "      <td>12.68</td>\n",
       "      <td>14.320281</td>\n",
       "    </tr>\n",
       "    <tr>\n",
       "      <th>2096</th>\n",
       "      <td>9.99</td>\n",
       "      <td>9.510271</td>\n",
       "    </tr>\n",
       "    <tr>\n",
       "      <th>289</th>\n",
       "      <td>10.36</td>\n",
       "      <td>8.573663</td>\n",
       "    </tr>\n",
       "    <tr>\n",
       "      <th>...</th>\n",
       "      <td>...</td>\n",
       "      <td>...</td>\n",
       "    </tr>\n",
       "    <tr>\n",
       "      <th>182</th>\n",
       "      <td>12.69</td>\n",
       "      <td>12.239642</td>\n",
       "    </tr>\n",
       "    <tr>\n",
       "      <th>1067</th>\n",
       "      <td>6.03</td>\n",
       "      <td>6.527654</td>\n",
       "    </tr>\n",
       "    <tr>\n",
       "      <th>978</th>\n",
       "      <td>14.33</td>\n",
       "      <td>13.659211</td>\n",
       "    </tr>\n",
       "    <tr>\n",
       "      <th>2236</th>\n",
       "      <td>17.93</td>\n",
       "      <td>17.031667</td>\n",
       "    </tr>\n",
       "    <tr>\n",
       "      <th>1673</th>\n",
       "      <td>16.29</td>\n",
       "      <td>15.251175</td>\n",
       "    </tr>\n",
       "  </tbody>\n",
       "</table>\n",
       "<p>750 rows × 2 columns</p>\n",
       "</div>"
      ],
      "text/plain": [
       "          Y     Pred_Y\n",
       "1239  17.77  13.293889\n",
       "2065  21.00  20.615244\n",
       "2441  12.68  14.320281\n",
       "2096   9.99   9.510271\n",
       "289   10.36   8.573663\n",
       "...     ...        ...\n",
       "182   12.69  12.239642\n",
       "1067   6.03   6.527654\n",
       "978   14.33  13.659211\n",
       "2236  17.93  17.031667\n",
       "1673  16.29  15.251175\n",
       "\n",
       "[750 rows x 2 columns]"
      ]
     },
     "execution_count": 202,
     "metadata": {},
     "output_type": "execute_result"
    }
   ],
   "source": [
    "test2"
   ]
  },
  {
   "cell_type": "code",
   "execution_count": 203,
   "metadata": {},
   "outputs": [],
   "source": [
    "#Decile analysis - test\n",
    "\n",
    "test2['Deciles']=pd.qcut(test2['Pred_Y'],10, labels=False)"
   ]
  },
  {
   "cell_type": "code",
   "execution_count": 204,
   "metadata": {},
   "outputs": [],
   "source": [
    "avg_actual = test2[['Deciles','Y']].groupby(test2.Deciles).mean().sort_index(ascending=True)['Y']"
   ]
  },
  {
   "cell_type": "code",
   "execution_count": 205,
   "metadata": {},
   "outputs": [
    {
     "data": {
      "text/plain": [
       "Deciles\n",
       "0     7.157733\n",
       "1     8.946133\n",
       "2    10.018133\n",
       "3    11.495200\n",
       "4    12.688133\n",
       "5    13.521867\n",
       "6    14.385867\n",
       "7    16.005333\n",
       "8    17.048933\n",
       "9    19.951600\n",
       "Name: Y, dtype: float64"
      ]
     },
     "execution_count": 205,
     "metadata": {},
     "output_type": "execute_result"
    }
   ],
   "source": [
    "avg_actual"
   ]
  },
  {
   "cell_type": "code",
   "execution_count": 206,
   "metadata": {},
   "outputs": [],
   "source": [
    "avg_pred = test2[['Deciles','Pred_Y']].groupby(test2.Deciles).mean().sort_index(ascending=True)['Pred_Y']"
   ]
  },
  {
   "cell_type": "code",
   "execution_count": 207,
   "metadata": {},
   "outputs": [
    {
     "data": {
      "text/plain": [
       "Deciles\n",
       "0     6.861900\n",
       "1     9.024096\n",
       "2    10.279721\n",
       "3    11.372526\n",
       "4    12.374024\n",
       "5    13.129877\n",
       "6    13.973503\n",
       "7    14.942269\n",
       "8    16.407187\n",
       "9    20.413413\n",
       "Name: Pred_Y, dtype: float64"
      ]
     },
     "execution_count": 207,
     "metadata": {},
     "output_type": "execute_result"
    }
   ],
   "source": [
    "avg_pred"
   ]
  },
  {
   "cell_type": "code",
   "execution_count": 208,
   "metadata": {},
   "outputs": [],
   "source": [
    "Decile_analysis_test = pd.concat([avg_actual, avg_pred], axis=1)"
   ]
  },
  {
   "cell_type": "code",
   "execution_count": 209,
   "metadata": {},
   "outputs": [
    {
     "data": {
      "text/html": [
       "<div>\n",
       "<style scoped>\n",
       "    .dataframe tbody tr th:only-of-type {\n",
       "        vertical-align: middle;\n",
       "    }\n",
       "\n",
       "    .dataframe tbody tr th {\n",
       "        vertical-align: top;\n",
       "    }\n",
       "\n",
       "    .dataframe thead th {\n",
       "        text-align: right;\n",
       "    }\n",
       "</style>\n",
       "<table border=\"1\" class=\"dataframe\">\n",
       "  <thead>\n",
       "    <tr style=\"text-align: right;\">\n",
       "      <th></th>\n",
       "      <th>Y</th>\n",
       "      <th>Pred_Y</th>\n",
       "    </tr>\n",
       "    <tr>\n",
       "      <th>Deciles</th>\n",
       "      <th></th>\n",
       "      <th></th>\n",
       "    </tr>\n",
       "  </thead>\n",
       "  <tbody>\n",
       "    <tr>\n",
       "      <th>0</th>\n",
       "      <td>7.157733</td>\n",
       "      <td>6.861900</td>\n",
       "    </tr>\n",
       "    <tr>\n",
       "      <th>1</th>\n",
       "      <td>8.946133</td>\n",
       "      <td>9.024096</td>\n",
       "    </tr>\n",
       "    <tr>\n",
       "      <th>2</th>\n",
       "      <td>10.018133</td>\n",
       "      <td>10.279721</td>\n",
       "    </tr>\n",
       "    <tr>\n",
       "      <th>3</th>\n",
       "      <td>11.495200</td>\n",
       "      <td>11.372526</td>\n",
       "    </tr>\n",
       "    <tr>\n",
       "      <th>4</th>\n",
       "      <td>12.688133</td>\n",
       "      <td>12.374024</td>\n",
       "    </tr>\n",
       "    <tr>\n",
       "      <th>5</th>\n",
       "      <td>13.521867</td>\n",
       "      <td>13.129877</td>\n",
       "    </tr>\n",
       "    <tr>\n",
       "      <th>6</th>\n",
       "      <td>14.385867</td>\n",
       "      <td>13.973503</td>\n",
       "    </tr>\n",
       "    <tr>\n",
       "      <th>7</th>\n",
       "      <td>16.005333</td>\n",
       "      <td>14.942269</td>\n",
       "    </tr>\n",
       "    <tr>\n",
       "      <th>8</th>\n",
       "      <td>17.048933</td>\n",
       "      <td>16.407187</td>\n",
       "    </tr>\n",
       "    <tr>\n",
       "      <th>9</th>\n",
       "      <td>19.951600</td>\n",
       "      <td>20.413413</td>\n",
       "    </tr>\n",
       "  </tbody>\n",
       "</table>\n",
       "</div>"
      ],
      "text/plain": [
       "                 Y     Pred_Y\n",
       "Deciles                      \n",
       "0         7.157733   6.861900\n",
       "1         8.946133   9.024096\n",
       "2        10.018133  10.279721\n",
       "3        11.495200  11.372526\n",
       "4        12.688133  12.374024\n",
       "5        13.521867  13.129877\n",
       "6        14.385867  13.973503\n",
       "7        16.005333  14.942269\n",
       "8        17.048933  16.407187\n",
       "9        19.951600  20.413413"
      ]
     },
     "execution_count": 209,
     "metadata": {},
     "output_type": "execute_result"
    }
   ],
   "source": [
    "Decile_analysis_test"
   ]
  },
  {
   "cell_type": "markdown",
   "metadata": {},
   "source": [
    "#### Residual Analysis"
   ]
  },
  {
   "cell_type": "code",
   "execution_count": 210,
   "metadata": {},
   "outputs": [
    {
     "data": {
      "text/plain": [
       "<AxesSubplot:>"
      ]
     },
     "execution_count": 210,
     "metadata": {},
     "output_type": "execute_result"
    },
    {
     "data": {
      "image/png": "[encoded data removed]",
      "text/plain": [
       "<Figure size 432x288 with 1 Axes>"
      ]
     },
     "metadata": {
      "needs_background": "light"
     },
     "output_type": "display_data"
    }
   ],
   "source": [
    "model.resid.hist(bins=100)"
   ]
  },
  {
   "cell_type": "markdown",
   "metadata": {},
   "source": [
    "### Saving the model as a pickle object"
   ]
  },
  {
   "cell_type": "code",
   "execution_count": 211,
   "metadata": {},
   "outputs": [],
   "source": [
    "#Lets save everything in metrics_df to pickle object\n",
    "\n",
    "import pickle"
   ]
  },
  {
   "cell_type": "code",
   "execution_count": 212,
   "metadata": {},
   "outputs": [],
   "source": [
    "# Saving the model as a pickle object\n",
    "\n",
    "with open('ROI_Predictor.pkl', 'wb') as f:\n",
    "    pickle.dump(model, f)"
   ]
  },
  {
   "cell_type": "code",
   "execution_count": 176,
   "metadata": {},
   "outputs": [],
   "source": [
    "del model"
   ]
  },
  {
   "cell_type": "code",
   "execution_count": 217,
   "metadata": {},
   "outputs": [
    {
     "name": "stdout",
     "output_type": "stream",
     "text": [
      "                            OLS Regression Results                            \n",
      "==============================================================================\n",
      "Dep. Variable:       ln_Interest_Rate   R-squared:                       0.771\n",
      "Model:                            OLS   Adj. R-squared:                  0.770\n",
      "Method:                 Least Squares   F-statistic:                     975.8\n",
      "Date:                Mon, 15 Mar 2021   Prob (F-statistic):               0.00\n",
      "Time:                        13:28:25   Log-Likelihood:                 698.84\n",
      "No. Observations:                1748   AIC:                            -1384.\n",
      "Df Residuals:                    1741   BIC:                            -1345.\n",
      "Df Model:                           6                                         \n",
      "Covariance Type:            nonrobust                                         \n",
      "==================================================================================================\n",
      "                                     coef    std err          t      P>|t|      [0.025      0.975]\n",
      "--------------------------------------------------------------------------------------------------\n",
      "Intercept                          7.0658      0.083     84.917      0.000       6.903       7.229\n",
      "Amount_Funded_By_Investors      1.129e-05   5.64e-07     20.017      0.000    1.02e-05    1.24e-05\n",
      "Fico_Avg                          -0.0073      0.000    -63.829      0.000      -0.008      -0.007\n",
      "Home_Ownership_RENT                0.0235      0.008      2.935      0.003       0.008       0.039\n",
      "Inquiries_in_the_Last_6_Months     0.0371      0.003     10.638      0.000       0.030       0.044\n",
      "Loan_Length                        0.0102      0.000     23.931      0.000       0.009       0.011\n",
      "Loan_Purpose_other                 0.0590      0.014      4.086      0.000       0.031       0.087\n",
      "==============================================================================\n",
      "Omnibus:                       81.935   Durbin-Watson:                   2.004\n",
      "Prob(Omnibus):                  0.000   Jarque-Bera (JB):              250.496\n",
      "Skew:                           0.138   Prob(JB):                     4.03e-55\n",
      "Kurtosis:                       4.834   Cond. No.                     3.05e+05\n",
      "==============================================================================\n",
      "\n",
      "Notes:\n",
      "[1] Standard Errors assume that the covariance matrix of the errors is correctly specified.\n",
      "[2] The condition number is large, 3.05e+05. This might indicate that there are\n",
      "strong multicollinearity or other numerical problems.\n"
     ]
    }
   ],
   "source": [
    "print(model.summary())"
   ]
  },
  {
   "cell_type": "code",
   "execution_count": 214,
   "metadata": {},
   "outputs": [],
   "source": [
    "# importing the model\n",
    "\n",
    "with open('ROI_Predictor.pkl', 'rb') as f:\n",
    "    model = pickle.load(f)"
   ]
  },
  {
   "cell_type": "code",
   "execution_count": 216,
   "metadata": {},
   "outputs": [
    {
     "name": "stdout",
     "output_type": "stream",
     "text": [
      "                            OLS Regression Results                            \n",
      "==============================================================================\n",
      "Dep. Variable:       ln_Interest_Rate   R-squared:                       0.771\n",
      "Model:                            OLS   Adj. R-squared:                  0.770\n",
      "Method:                 Least Squares   F-statistic:                     975.8\n",
      "Date:                Mon, 15 Mar 2021   Prob (F-statistic):               0.00\n",
      "Time:                        13:28:07   Log-Likelihood:                 698.84\n",
      "No. Observations:                1748   AIC:                            -1384.\n",
      "Df Residuals:                    1741   BIC:                            -1345.\n",
      "Df Model:                           6                                         \n",
      "Covariance Type:            nonrobust                                         \n",
      "==================================================================================================\n",
      "                                     coef    std err          t      P>|t|      [0.025      0.975]\n",
      "--------------------------------------------------------------------------------------------------\n",
      "Intercept                          7.0658      0.083     84.917      0.000       6.903       7.229\n",
      "Amount_Funded_By_Investors      1.129e-05   5.64e-07     20.017      0.000    1.02e-05    1.24e-05\n",
      "Fico_Avg                          -0.0073      0.000    -63.829      0.000      -0.008      -0.007\n",
      "Home_Ownership_RENT                0.0235      0.008      2.935      0.003       0.008       0.039\n",
      "Inquiries_in_the_Last_6_Months     0.0371      0.003     10.638      0.000       0.030       0.044\n",
      "Loan_Length                        0.0102      0.000     23.931      0.000       0.009       0.011\n",
      "Loan_Purpose_other                 0.0590      0.014      4.086      0.000       0.031       0.087\n",
      "==============================================================================\n",
      "Omnibus:                       81.935   Durbin-Watson:                   2.004\n",
      "Prob(Omnibus):                  0.000   Jarque-Bera (JB):              250.496\n",
      "Skew:                           0.138   Prob(JB):                     4.03e-55\n",
      "Kurtosis:                       4.834   Cond. No.                     3.05e+05\n",
      "==============================================================================\n",
      "\n",
      "Notes:\n",
      "[1] Standard Errors assume that the covariance matrix of the errors is correctly specified.\n",
      "[2] The condition number is large, 3.05e+05. This might indicate that there are\n",
      "strong multicollinearity or other numerical problems.\n"
     ]
    }
   ],
   "source": [
    "print(model.summary())"
   ]
  },
  {
   "cell_type": "code",
   "execution_count": null,
   "metadata": {},
   "outputs": [],
   "source": []
  }
 ],
 "metadata": {
  "kernelspec": {
   "display_name": "Python 3",
   "language": "python",
   "name": "python3"
  },
  "language_info": {
   "codemirror_mode": {
    "name": "ipython",
    "version": 3
   },
   "file_extension": ".py",
   "mimetype": "text/x-python",
   "name": "python",
   "nbconvert_exporter": "python",
   "pygments_lexer": "ipython3",
   "version": "3.8.8"
  }
 },
 "nbformat": 4,
 "nbformat_minor": 4
}
