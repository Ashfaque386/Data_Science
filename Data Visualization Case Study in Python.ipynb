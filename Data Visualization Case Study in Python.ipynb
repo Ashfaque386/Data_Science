{
 "cells": [
  {
   "cell_type": "code",
   "execution_count": 1,
   "metadata": {},
   "outputs": [],
   "source": [
    "import numpy as np\n",
    "import pandas as pd\n",
    "import matplotlib.pyplot as plt\n",
    "import datetime as dt\n",
    "import seaborn as sns\n",
    "import re\n",
    "\n",
    "# set the graphs to show in the jupyter notebook\n",
    "%matplotlib inline\n",
    "\n",
    "# set seabor graphs to a better style\n",
    "sns.set(style=\"ticks\")"
   ]
  },
  {
   "cell_type": "markdown",
   "metadata": {},
   "source": [
    "## Importing Data"
   ]
  },
  {
   "cell_type": "code",
   "execution_count": 2,
   "metadata": {},
   "outputs": [],
   "source": [
    "sales = pd.read_csv('D:/AnalytixLab/00 - Assignment & Case Studies/02 - Data Science Using Python(DSP)/Python foundation Assignments & Case studies/3. Python Foundation Case Studies/Case Study 4 - Python Visualizations Case Study/SalesData.csv')"
   ]
  },
  {
   "cell_type": "markdown",
   "metadata": {},
   "source": [
    "### 1. Compare Sales by region for 2016 with 2015 using bar chart"
   ]
  },
  {
   "cell_type": "code",
   "execution_count": 3,
   "metadata": {},
   "outputs": [],
   "source": [
    "pd.set_option('display.float_format', '{:.2f}'.format)"
   ]
  },
  {
   "cell_type": "code",
   "execution_count": 4,
   "metadata": {},
   "outputs": [],
   "source": [
    "Sales_15_16 = sales.groupby(['Region'])[['Sales2015','Sales2016']].sum()"
   ]
  },
  {
   "cell_type": "code",
   "execution_count": 5,
   "metadata": {},
   "outputs": [
    {
     "data": {
      "text/html": [
       "<div>\n",
       "<style scoped>\n",
       "    .dataframe tbody tr th:only-of-type {\n",
       "        vertical-align: middle;\n",
       "    }\n",
       "\n",
       "    .dataframe tbody tr th {\n",
       "        vertical-align: top;\n",
       "    }\n",
       "\n",
       "    .dataframe thead th {\n",
       "        text-align: right;\n",
       "    }\n",
       "</style>\n",
       "<table border=\"1\" class=\"dataframe\">\n",
       "  <thead>\n",
       "    <tr style=\"text-align: right;\">\n",
       "      <th></th>\n",
       "      <th>Sales2015</th>\n",
       "      <th>Sales2016</th>\n",
       "    </tr>\n",
       "    <tr>\n",
       "      <th>Region</th>\n",
       "      <th></th>\n",
       "      <th></th>\n",
       "    </tr>\n",
       "  </thead>\n",
       "  <tbody>\n",
       "    <tr>\n",
       "      <th>Central</th>\n",
       "      <td>7891728.86</td>\n",
       "      <td>9787808.73</td>\n",
       "    </tr>\n",
       "    <tr>\n",
       "      <th>East</th>\n",
       "      <td>9512916.49</td>\n",
       "      <td>12667230.45</td>\n",
       "    </tr>\n",
       "    <tr>\n",
       "      <th>West</th>\n",
       "      <td>5349744.64</td>\n",
       "      <td>7209689.43</td>\n",
       "    </tr>\n",
       "  </tbody>\n",
       "</table>\n",
       "</div>"
      ],
      "text/plain": [
       "         Sales2015   Sales2016\n",
       "Region                        \n",
       "Central 7891728.86  9787808.73\n",
       "East    9512916.49 12667230.45\n",
       "West    5349744.64  7209689.43"
      ]
     },
     "execution_count": 5,
     "metadata": {},
     "output_type": "execute_result"
    }
   ],
   "source": [
    "Sales_15_16"
   ]
  },
  {
   "cell_type": "code",
   "execution_count": 6,
   "metadata": {},
   "outputs": [
    {
     "data": {
      "text/plain": [
       "<Figure size 1080x720 with 0 Axes>"
      ]
     },
     "metadata": {},
     "output_type": "display_data"
    },
    {
     "data": {
      "image/png": "[encoded data removed]",
      "text/plain": [
       "<Figure size 432x288 with 1 Axes>"
      ]
     },
     "metadata": {},
     "output_type": "display_data"
    }
   ],
   "source": [
    "Region = ['Central','East','West']\n",
    "indx = np.arange(len(Region))\n",
    "sales_label = np.arange(0,14000000,5000000)\n",
    "\n",
    "Sales_2015 = list(Sales_15_16['Sales2015'])\n",
    "Sales_2016 = list(Sales_15_16['Sales2016'])\n",
    "\n",
    "bar_width = 0.35\n",
    "fig = plt.figure(figsize=(15,10))\n",
    "fig,ax = plt.subplots()\n",
    "bar2015 = ax.bar(indx - bar_width/2,Sales_2015,bar_width, label='TotalSales2015')\n",
    "bar2016 = ax.bar(indx + bar_width/2,Sales_2016,bar_width, label='TotalSales2016')\n",
    "\n",
    "ax.set_xticks(indx)\n",
    "ax.set_xticklabels(Region)\n",
    "ax.set_yticks(sales_label)\n",
    "ax.set_yticklabels(sales_label)\n",
    "ax.legend()\n",
    "\n",
    "plt.xlabel('Region')\n",
    "plt.ylabel('Sales')\n",
    "\n",
    "for i in indx:\n",
    "    ax.annotate('{0:.0f}'.format(bar2015[i].get_height()),\n",
    "                xy=(bar2015[i].get_x()+bar2015[i].get_width()/2,bar2015[i].get_height()),\n",
    "                xytext=(0,3),textcoords='offset points',ha='center',va='bottom')\n",
    "    \n",
    "for i in indx:\n",
    "    ax.annotate('{0:.0f}'.format(bar2016[i].get_height()),\n",
    "                xy=(bar2016[i].get_x()+bar2016[i].get_width()/2,bar2016[i].get_height()),\n",
    "                xytext=(0,3),textcoords='offset points',ha='center',va='bottom')\n",
    "\n",
    "plt.show()  "
   ]
  },
  {
   "cell_type": "markdown",
   "metadata": {},
   "source": [
    "### 2. What are the contributing factors to the sales for each region in 2016. Visualize it using a Pie Chart."
   ]
  },
  {
   "cell_type": "code",
   "execution_count": 7,
   "metadata": {},
   "outputs": [],
   "source": [
    "sales_pie = sales.groupby(\"Region\")[[\"Sales2016\"]].sum()"
   ]
  },
  {
   "cell_type": "code",
   "execution_count": 8,
   "metadata": {},
   "outputs": [
    {
     "data": {
      "text/html": [
       "<div>\n",
       "<style scoped>\n",
       "    .dataframe tbody tr th:only-of-type {\n",
       "        vertical-align: middle;\n",
       "    }\n",
       "\n",
       "    .dataframe tbody tr th {\n",
       "        vertical-align: top;\n",
       "    }\n",
       "\n",
       "    .dataframe thead th {\n",
       "        text-align: right;\n",
       "    }\n",
       "</style>\n",
       "<table border=\"1\" class=\"dataframe\">\n",
       "  <thead>\n",
       "    <tr style=\"text-align: right;\">\n",
       "      <th></th>\n",
       "      <th>Sales2016</th>\n",
       "    </tr>\n",
       "    <tr>\n",
       "      <th>Region</th>\n",
       "      <th></th>\n",
       "    </tr>\n",
       "  </thead>\n",
       "  <tbody>\n",
       "    <tr>\n",
       "      <th>Central</th>\n",
       "      <td>9787808.73</td>\n",
       "    </tr>\n",
       "    <tr>\n",
       "      <th>East</th>\n",
       "      <td>12667230.45</td>\n",
       "    </tr>\n",
       "    <tr>\n",
       "      <th>West</th>\n",
       "      <td>7209689.43</td>\n",
       "    </tr>\n",
       "  </tbody>\n",
       "</table>\n",
       "</div>"
      ],
      "text/plain": [
       "          Sales2016\n",
       "Region             \n",
       "Central  9787808.73\n",
       "East    12667230.45\n",
       "West     7209689.43"
      ]
     },
     "execution_count": 8,
     "metadata": {},
     "output_type": "execute_result"
    }
   ],
   "source": [
    "sales_pie"
   ]
  },
  {
   "cell_type": "code",
   "execution_count": 9,
   "metadata": {},
   "outputs": [
    {
     "data": {
      "text/plain": [
       "Text(0, 0.5, '')"
      ]
     },
     "execution_count": 9,
     "metadata": {},
     "output_type": "execute_result"
    },
    {
     "data": {
      "image/png": "[encoded data removed]",
      "text/plain": [
       "<Figure size 432x288 with 1 Axes>"
      ]
     },
     "metadata": {},
     "output_type": "display_data"
    }
   ],
   "source": [
    "sales_pie.plot(kind='pie',autopct=\"%0.1f%%\",subplots=True,explode=[0.0,0.1,0.0],legend=False,colors=['r', 'g', 'b'])\n",
    "\n",
    "plt.title(\"Pie Chart Sale 2016\")\n",
    "plt.ylabel('')"
   ]
  },
  {
   "cell_type": "markdown",
   "metadata": {},
   "source": [
    "### 3. Compare the total sales of 2015 and 2016 with respect to Region and Tiers"
   ]
  },
  {
   "cell_type": "code",
   "execution_count": 10,
   "metadata": {},
   "outputs": [],
   "source": [
    "sales_region_tier = sales.groupby([\"Region\",\"Tier\"])[['Sales2015','Sales2016']].sum()"
   ]
  },
  {
   "cell_type": "code",
   "execution_count": 11,
   "metadata": {},
   "outputs": [
    {
     "data": {
      "text/html": [
       "<div>\n",
       "<style scoped>\n",
       "    .dataframe tbody tr th:only-of-type {\n",
       "        vertical-align: middle;\n",
       "    }\n",
       "\n",
       "    .dataframe tbody tr th {\n",
       "        vertical-align: top;\n",
       "    }\n",
       "\n",
       "    .dataframe thead th {\n",
       "        text-align: right;\n",
       "    }\n",
       "</style>\n",
       "<table border=\"1\" class=\"dataframe\">\n",
       "  <thead>\n",
       "    <tr style=\"text-align: right;\">\n",
       "      <th></th>\n",
       "      <th></th>\n",
       "      <th>Sales2015</th>\n",
       "      <th>Sales2016</th>\n",
       "    </tr>\n",
       "    <tr>\n",
       "      <th>Region</th>\n",
       "      <th>Tier</th>\n",
       "      <th></th>\n",
       "      <th></th>\n",
       "    </tr>\n",
       "  </thead>\n",
       "  <tbody>\n",
       "    <tr>\n",
       "      <th rowspan=\"4\" valign=\"top\">Central</th>\n",
       "      <th>High</th>\n",
       "      <td>4798698.43</td>\n",
       "      <td>6026042.94</td>\n",
       "    </tr>\n",
       "    <tr>\n",
       "      <th>Low</th>\n",
       "      <td>943439.67</td>\n",
       "      <td>1132832.85</td>\n",
       "    </tr>\n",
       "    <tr>\n",
       "      <th>Med</th>\n",
       "      <td>2068225.87</td>\n",
       "      <td>2632181.47</td>\n",
       "    </tr>\n",
       "    <tr>\n",
       "      <th>Out</th>\n",
       "      <td>81364.89</td>\n",
       "      <td>-3248.53</td>\n",
       "    </tr>\n",
       "    <tr>\n",
       "      <th rowspan=\"4\" valign=\"top\">East</th>\n",
       "      <th>High</th>\n",
       "      <td>6102946.12</td>\n",
       "      <td>7817151.10</td>\n",
       "    </tr>\n",
       "    <tr>\n",
       "      <th>Low</th>\n",
       "      <td>901665.80</td>\n",
       "      <td>1144929.59</td>\n",
       "    </tr>\n",
       "    <tr>\n",
       "      <th>Med</th>\n",
       "      <td>2470998.02</td>\n",
       "      <td>3705149.76</td>\n",
       "    </tr>\n",
       "    <tr>\n",
       "      <th>Out</th>\n",
       "      <td>37306.55</td>\n",
       "      <td>0.00</td>\n",
       "    </tr>\n",
       "    <tr>\n",
       "      <th rowspan=\"4\" valign=\"top\">West</th>\n",
       "      <th>High</th>\n",
       "      <td>2944789.26</td>\n",
       "      <td>3768038.35</td>\n",
       "    </tr>\n",
       "    <tr>\n",
       "      <th>Low</th>\n",
       "      <td>671064.38</td>\n",
       "      <td>1099502.18</td>\n",
       "    </tr>\n",
       "    <tr>\n",
       "      <th>Med</th>\n",
       "      <td>1718475.92</td>\n",
       "      <td>2342148.90</td>\n",
       "    </tr>\n",
       "    <tr>\n",
       "      <th>Out</th>\n",
       "      <td>15415.08</td>\n",
       "      <td>0.00</td>\n",
       "    </tr>\n",
       "  </tbody>\n",
       "</table>\n",
       "</div>"
      ],
      "text/plain": [
       "              Sales2015  Sales2016\n",
       "Region  Tier                      \n",
       "Central High 4798698.43 6026042.94\n",
       "        Low   943439.67 1132832.85\n",
       "        Med  2068225.87 2632181.47\n",
       "        Out    81364.89   -3248.53\n",
       "East    High 6102946.12 7817151.10\n",
       "        Low   901665.80 1144929.59\n",
       "        Med  2470998.02 3705149.76\n",
       "        Out    37306.55       0.00\n",
       "West    High 2944789.26 3768038.35\n",
       "        Low   671064.38 1099502.18\n",
       "        Med  1718475.92 2342148.90\n",
       "        Out    15415.08       0.00"
      ]
     },
     "execution_count": 11,
     "metadata": {},
     "output_type": "execute_result"
    }
   ],
   "source": [
    "sales_region_tier"
   ]
  },
  {
   "cell_type": "code",
   "execution_count": 12,
   "metadata": {},
   "outputs": [
    {
     "data": {
      "text/plain": [
       "<AxesSubplot:xlabel='Region,Tier'>"
      ]
     },
     "execution_count": 12,
     "metadata": {},
     "output_type": "execute_result"
    },
    {
     "data": {
      "image/png": "[encoded data removed]",
      "text/plain": [
       "<Figure size 864x576 with 1 Axes>"
      ]
     },
     "metadata": {},
     "output_type": "display_data"
    }
   ],
   "source": [
    "sales_region_tier.plot(kind='bar',figsize=(12,8))"
   ]
  },
  {
   "cell_type": "raw",
   "metadata": {},
   "source": [
    "We can conclude that East region and High tier in 2016 have contributed the maximum. Also sales in 2015 and sales in 2016 both is maximum in East region and High tier"
   ]
  },
  {
   "cell_type": "markdown",
   "metadata": {},
   "source": [
    "### 4. In East region, which state registered a decline in 2016 as compared to 2015?"
   ]
  },
  {
   "cell_type": "code",
   "execution_count": 13,
   "metadata": {},
   "outputs": [],
   "source": [
    "sales_state = sales.groupby(['Region',\"State\"])[['Sales2015','Sales2016']].sum()"
   ]
  },
  {
   "cell_type": "code",
   "execution_count": 14,
   "metadata": {},
   "outputs": [],
   "source": [
    "sales_east = sales_state.loc['East']"
   ]
  },
  {
   "cell_type": "code",
   "execution_count": 15,
   "metadata": {},
   "outputs": [
    {
     "data": {
      "text/html": [
       "<div>\n",
       "<style scoped>\n",
       "    .dataframe tbody tr th:only-of-type {\n",
       "        vertical-align: middle;\n",
       "    }\n",
       "\n",
       "    .dataframe tbody tr th {\n",
       "        vertical-align: top;\n",
       "    }\n",
       "\n",
       "    .dataframe thead th {\n",
       "        text-align: right;\n",
       "    }\n",
       "</style>\n",
       "<table border=\"1\" class=\"dataframe\">\n",
       "  <thead>\n",
       "    <tr style=\"text-align: right;\">\n",
       "      <th></th>\n",
       "      <th>Sales2015</th>\n",
       "      <th>Sales2016</th>\n",
       "    </tr>\n",
       "    <tr>\n",
       "      <th>State</th>\n",
       "      <th></th>\n",
       "      <th></th>\n",
       "    </tr>\n",
       "  </thead>\n",
       "  <tbody>\n",
       "    <tr>\n",
       "      <th>CT</th>\n",
       "      <td>197202.79</td>\n",
       "      <td>323502.31</td>\n",
       "    </tr>\n",
       "    <tr>\n",
       "      <th>DC</th>\n",
       "      <td>216723.95</td>\n",
       "      <td>257421.69</td>\n",
       "    </tr>\n",
       "    <tr>\n",
       "      <th>FL</th>\n",
       "      <td>1660162.00</td>\n",
       "      <td>2508232.28</td>\n",
       "    </tr>\n",
       "    <tr>\n",
       "      <th>GA</th>\n",
       "      <td>681546.46</td>\n",
       "      <td>946919.77</td>\n",
       "    </tr>\n",
       "    <tr>\n",
       "      <th>MA</th>\n",
       "      <td>419278.75</td>\n",
       "      <td>687096.45</td>\n",
       "    </tr>\n",
       "    <tr>\n",
       "      <th>MD</th>\n",
       "      <td>527309.06</td>\n",
       "      <td>750008.79</td>\n",
       "    </tr>\n",
       "    <tr>\n",
       "      <th>ME</th>\n",
       "      <td>77425.64</td>\n",
       "      <td>183673.05</td>\n",
       "    </tr>\n",
       "    <tr>\n",
       "      <th>NC</th>\n",
       "      <td>1292801.64</td>\n",
       "      <td>1610521.00</td>\n",
       "    </tr>\n",
       "    <tr>\n",
       "      <th>NH</th>\n",
       "      <td>136419.38</td>\n",
       "      <td>144717.51</td>\n",
       "    </tr>\n",
       "    <tr>\n",
       "      <th>NJ</th>\n",
       "      <td>520419.29</td>\n",
       "      <td>782289.19</td>\n",
       "    </tr>\n",
       "    <tr>\n",
       "      <th>NY</th>\n",
       "      <td>1725415.07</td>\n",
       "      <td>1703135.80</td>\n",
       "    </tr>\n",
       "    <tr>\n",
       "      <th>PA</th>\n",
       "      <td>785092.75</td>\n",
       "      <td>894319.49</td>\n",
       "    </tr>\n",
       "    <tr>\n",
       "      <th>RI</th>\n",
       "      <td>156311.80</td>\n",
       "      <td>162454.65</td>\n",
       "    </tr>\n",
       "    <tr>\n",
       "      <th>SC</th>\n",
       "      <td>247811.78</td>\n",
       "      <td>463414.12</td>\n",
       "    </tr>\n",
       "    <tr>\n",
       "      <th>TN</th>\n",
       "      <td>49677.00</td>\n",
       "      <td>70109.41</td>\n",
       "    </tr>\n",
       "    <tr>\n",
       "      <th>VA</th>\n",
       "      <td>819319.13</td>\n",
       "      <td>1179414.94</td>\n",
       "    </tr>\n",
       "  </tbody>\n",
       "</table>\n",
       "</div>"
      ],
      "text/plain": [
       "       Sales2015  Sales2016\n",
       "State                      \n",
       "CT     197202.79  323502.31\n",
       "DC     216723.95  257421.69\n",
       "FL    1660162.00 2508232.28\n",
       "GA     681546.46  946919.77\n",
       "MA     419278.75  687096.45\n",
       "MD     527309.06  750008.79\n",
       "ME      77425.64  183673.05\n",
       "NC    1292801.64 1610521.00\n",
       "NH     136419.38  144717.51\n",
       "NJ     520419.29  782289.19\n",
       "NY    1725415.07 1703135.80\n",
       "PA     785092.75  894319.49\n",
       "RI     156311.80  162454.65\n",
       "SC     247811.78  463414.12\n",
       "TN      49677.00   70109.41\n",
       "VA     819319.13 1179414.94"
      ]
     },
     "execution_count": 15,
     "metadata": {},
     "output_type": "execute_result"
    }
   ],
   "source": [
    "sales_east"
   ]
  },
  {
   "cell_type": "code",
   "execution_count": 16,
   "metadata": {},
   "outputs": [
    {
     "data": {
      "text/plain": [
       "Text(0, 0.5, 'Sales')"
      ]
     },
     "execution_count": 16,
     "metadata": {},
     "output_type": "execute_result"
    },
    {
     "data": {
      "image/png": "[encoded data removed]",
      "text/plain": [
       "<Figure size 864x576 with 1 Axes>"
      ]
     },
     "metadata": {},
     "output_type": "display_data"
    }
   ],
   "source": [
    "sales_east.plot(kind=\"bar\",figsize=(12,8),width=0.8)\n",
    "plt.xlabel(\"State\")\n",
    "plt.ylabel(\"Sales\")"
   ]
  },
  {
   "cell_type": "raw",
   "metadata": {},
   "source": [
    "NY state registered a decline in sales in 2016 as compared to 2015"
   ]
  },
  {
   "cell_type": "markdown",
   "metadata": {},
   "source": [
    "### 5. In all the High tier, which Division saw a decline in number of units sold in 2016 compared to 2015?"
   ]
  },
  {
   "cell_type": "code",
   "execution_count": 17,
   "metadata": {},
   "outputs": [],
   "source": [
    "sales_division_tier = sales.groupby([\"Tier\",\"Division\"])[[\"Units2015\",\"Units2016\"]].sum()"
   ]
  },
  {
   "cell_type": "code",
   "execution_count": 18,
   "metadata": {},
   "outputs": [],
   "source": [
    "high_tier = sales_division_tier.loc[\"High\"]"
   ]
  },
  {
   "cell_type": "code",
   "execution_count": 19,
   "metadata": {},
   "outputs": [
    {
     "data": {
      "text/html": [
       "<div>\n",
       "<style scoped>\n",
       "    .dataframe tbody tr th:only-of-type {\n",
       "        vertical-align: middle;\n",
       "    }\n",
       "\n",
       "    .dataframe tbody tr th {\n",
       "        vertical-align: top;\n",
       "    }\n",
       "\n",
       "    .dataframe thead th {\n",
       "        text-align: right;\n",
       "    }\n",
       "</style>\n",
       "<table border=\"1\" class=\"dataframe\">\n",
       "  <thead>\n",
       "    <tr style=\"text-align: right;\">\n",
       "      <th></th>\n",
       "      <th>Units2015</th>\n",
       "      <th>Units2016</th>\n",
       "    </tr>\n",
       "    <tr>\n",
       "      <th>Division</th>\n",
       "      <th></th>\n",
       "      <th></th>\n",
       "    </tr>\n",
       "  </thead>\n",
       "  <tbody>\n",
       "    <tr>\n",
       "      <th>BIG APPLE</th>\n",
       "      <td>180.83</td>\n",
       "      <td>231.00</td>\n",
       "    </tr>\n",
       "    <tr>\n",
       "      <th>CHARGERS</th>\n",
       "      <td>123.67</td>\n",
       "      <td>164.50</td>\n",
       "    </tr>\n",
       "    <tr>\n",
       "      <th>CONGRESSIONAL</th>\n",
       "      <td>164.50</td>\n",
       "      <td>205.00</td>\n",
       "    </tr>\n",
       "    <tr>\n",
       "      <th>DIAMONDBACK</th>\n",
       "      <td>153.33</td>\n",
       "      <td>176.67</td>\n",
       "    </tr>\n",
       "    <tr>\n",
       "      <th>EMPIRE</th>\n",
       "      <td>414.33</td>\n",
       "      <td>449.33</td>\n",
       "    </tr>\n",
       "    <tr>\n",
       "      <th>GRIDIRON</th>\n",
       "      <td>213.67</td>\n",
       "      <td>246.17</td>\n",
       "    </tr>\n",
       "    <tr>\n",
       "      <th>GULF STREAM</th>\n",
       "      <td>185.00</td>\n",
       "      <td>301.00</td>\n",
       "    </tr>\n",
       "    <tr>\n",
       "      <th>HAILSTORM</th>\n",
       "      <td>187.83</td>\n",
       "      <td>247.00</td>\n",
       "    </tr>\n",
       "    <tr>\n",
       "      <th>KINETIC</th>\n",
       "      <td>214.33</td>\n",
       "      <td>244.50</td>\n",
       "    </tr>\n",
       "    <tr>\n",
       "      <th>MINUTEMEN</th>\n",
       "      <td>215.00</td>\n",
       "      <td>267.50</td>\n",
       "    </tr>\n",
       "    <tr>\n",
       "      <th>MUDDY WATERS</th>\n",
       "      <td>150.67</td>\n",
       "      <td>211.50</td>\n",
       "    </tr>\n",
       "    <tr>\n",
       "      <th>NORDIC</th>\n",
       "      <td>210.17</td>\n",
       "      <td>225.83</td>\n",
       "    </tr>\n",
       "    <tr>\n",
       "      <th>NORTHWEST</th>\n",
       "      <td>135.50</td>\n",
       "      <td>163.67</td>\n",
       "    </tr>\n",
       "    <tr>\n",
       "      <th>ORION</th>\n",
       "      <td>175.83</td>\n",
       "      <td>276.00</td>\n",
       "    </tr>\n",
       "    <tr>\n",
       "      <th>RACEWAY</th>\n",
       "      <td>178.33</td>\n",
       "      <td>297.00</td>\n",
       "    </tr>\n",
       "    <tr>\n",
       "      <th>REVOLUTION</th>\n",
       "      <td>205.83</td>\n",
       "      <td>226.83</td>\n",
       "    </tr>\n",
       "    <tr>\n",
       "      <th>RIPTIDE</th>\n",
       "      <td>147.50</td>\n",
       "      <td>183.83</td>\n",
       "    </tr>\n",
       "    <tr>\n",
       "      <th>SOUTHERN STAR</th>\n",
       "      <td>230.00</td>\n",
       "      <td>274.17</td>\n",
       "    </tr>\n",
       "    <tr>\n",
       "      <th>STAMPEDE</th>\n",
       "      <td>192.50</td>\n",
       "      <td>246.83</td>\n",
       "    </tr>\n",
       "    <tr>\n",
       "      <th>SYNERGY</th>\n",
       "      <td>322.67</td>\n",
       "      <td>428.33</td>\n",
       "    </tr>\n",
       "    <tr>\n",
       "      <th>THE CAROLINAS</th>\n",
       "      <td>258.83</td>\n",
       "      <td>345.00</td>\n",
       "    </tr>\n",
       "    <tr>\n",
       "      <th>TORNADO VALLEY</th>\n",
       "      <td>128.33</td>\n",
       "      <td>181.00</td>\n",
       "    </tr>\n",
       "    <tr>\n",
       "      <th>VICTORY</th>\n",
       "      <td>174.50</td>\n",
       "      <td>221.17</td>\n",
       "    </tr>\n",
       "    <tr>\n",
       "      <th>WAVE RIDER</th>\n",
       "      <td>173.50</td>\n",
       "      <td>223.33</td>\n",
       "    </tr>\n",
       "    <tr>\n",
       "      <th>WOLVERINE</th>\n",
       "      <td>122.00</td>\n",
       "      <td>143.00</td>\n",
       "    </tr>\n",
       "    <tr>\n",
       "      <th>WRANGLER</th>\n",
       "      <td>206.17</td>\n",
       "      <td>259.67</td>\n",
       "    </tr>\n",
       "  </tbody>\n",
       "</table>\n",
       "</div>"
      ],
      "text/plain": [
       "                Units2015  Units2016\n",
       "Division                            \n",
       "BIG APPLE          180.83     231.00\n",
       "CHARGERS           123.67     164.50\n",
       "CONGRESSIONAL      164.50     205.00\n",
       "DIAMONDBACK        153.33     176.67\n",
       "EMPIRE             414.33     449.33\n",
       "GRIDIRON           213.67     246.17\n",
       "GULF STREAM        185.00     301.00\n",
       "HAILSTORM          187.83     247.00\n",
       "KINETIC            214.33     244.50\n",
       "MINUTEMEN          215.00     267.50\n",
       "MUDDY WATERS       150.67     211.50\n",
       "NORDIC             210.17     225.83\n",
       "NORTHWEST          135.50     163.67\n",
       "ORION              175.83     276.00\n",
       "RACEWAY            178.33     297.00\n",
       "REVOLUTION         205.83     226.83\n",
       "RIPTIDE            147.50     183.83\n",
       "SOUTHERN STAR      230.00     274.17\n",
       "STAMPEDE           192.50     246.83\n",
       "SYNERGY            322.67     428.33\n",
       "THE CAROLINAS      258.83     345.00\n",
       "TORNADO VALLEY     128.33     181.00\n",
       "VICTORY            174.50     221.17\n",
       "WAVE RIDER         173.50     223.33\n",
       "WOLVERINE          122.00     143.00\n",
       "WRANGLER           206.17     259.67"
      ]
     },
     "execution_count": 19,
     "metadata": {},
     "output_type": "execute_result"
    }
   ],
   "source": [
    "high_tier"
   ]
  },
  {
   "cell_type": "code",
   "execution_count": 20,
   "metadata": {},
   "outputs": [
    {
     "data": {
      "text/plain": [
       "Text(0, 0.5, 'Units')"
      ]
     },
     "execution_count": 20,
     "metadata": {},
     "output_type": "execute_result"
    },
    {
     "data": {
      "image/png": "[encoded data removed]",
      "text/plain": [
       "<Figure size 864x576 with 1 Axes>"
      ]
     },
     "metadata": {},
     "output_type": "display_data"
    }
   ],
   "source": [
    "high_tier.plot(kind=\"bar\",figsize=(12,8),width=0.7)\n",
    "plt.ylabel('Units')"
   ]
  },
  {
   "cell_type": "raw",
   "metadata": {},
   "source": [
    "No division show decline in number of units sold in 2016 compared to 2015"
   ]
  },
  {
   "cell_type": "markdown",
   "metadata": {},
   "source": [
    "### 6. Create a new column Qtr using numpy.where() or any suitable utility in the imported\n",
    "\n",
    "**<br/>\n",
    "dataset. The Quarters are based on months and defined as -\n",
    "<br/>\n",
    "• Jan - Mar : Q1\n",
    "<br/>\n",
    "• Apr - Jun : Q2\n",
    "<br/>\n",
    "• Jul - Sep : Q3\n",
    "<br/>\n",
    "• Oct - Dec : Q4**"
   ]
  },
  {
   "cell_type": "code",
   "execution_count": 21,
   "metadata": {},
   "outputs": [],
   "source": [
    "sales[\"Qtr\"] = np.where(((sales.Month ==\"Jan\")|(sales.Month == \"Feb\")|(sales.Month == \"Mar\")),'Q1',\n",
    "                        np.where(((sales.Month ==\"Apr\")|(sales.Month == \"May\")|(sales.Month == \"Jun\")),'Q2',\n",
    "                                 np.where(((sales.Month ==\"Jul\")|(sales.Month == \"Aug\")|(sales.Month == \"Sep\")),'Q3','Q4')))"
   ]
  },
  {
   "cell_type": "markdown",
   "metadata": {},
   "source": [
    "### 7. Compare Qtr wise sales in 2015 and 2016 in a bar plot"
   ]
  },
  {
   "cell_type": "code",
   "execution_count": 22,
   "metadata": {},
   "outputs": [],
   "source": [
    "qtr_sales = sales.groupby([\"Qtr\"])[[\"Sales2015\",\"Sales2016\"]].sum()"
   ]
  },
  {
   "cell_type": "code",
   "execution_count": 23,
   "metadata": {},
   "outputs": [
    {
     "data": {
      "text/html": [
       "<div>\n",
       "<style scoped>\n",
       "    .dataframe tbody tr th:only-of-type {\n",
       "        vertical-align: middle;\n",
       "    }\n",
       "\n",
       "    .dataframe tbody tr th {\n",
       "        vertical-align: top;\n",
       "    }\n",
       "\n",
       "    .dataframe thead th {\n",
       "        text-align: right;\n",
       "    }\n",
       "</style>\n",
       "<table border=\"1\" class=\"dataframe\">\n",
       "  <thead>\n",
       "    <tr style=\"text-align: right;\">\n",
       "      <th></th>\n",
       "      <th>Sales2015</th>\n",
       "      <th>Sales2016</th>\n",
       "    </tr>\n",
       "    <tr>\n",
       "      <th>Qtr</th>\n",
       "      <th></th>\n",
       "      <th></th>\n",
       "    </tr>\n",
       "  </thead>\n",
       "  <tbody>\n",
       "    <tr>\n",
       "      <th>Q1</th>\n",
       "      <td>5485800.16</td>\n",
       "      <td>6997953.24</td>\n",
       "    </tr>\n",
       "    <tr>\n",
       "      <th>Q2</th>\n",
       "      <td>5390862.08</td>\n",
       "      <td>7237361.17</td>\n",
       "    </tr>\n",
       "    <tr>\n",
       "      <th>Q3</th>\n",
       "      <td>6164093.84</td>\n",
       "      <td>7861546.02</td>\n",
       "    </tr>\n",
       "    <tr>\n",
       "      <th>Q4</th>\n",
       "      <td>5713633.91</td>\n",
       "      <td>7567868.17</td>\n",
       "    </tr>\n",
       "  </tbody>\n",
       "</table>\n",
       "</div>"
      ],
      "text/plain": [
       "     Sales2015  Sales2016\n",
       "Qtr                      \n",
       "Q1  5485800.16 6997953.24\n",
       "Q2  5390862.08 7237361.17\n",
       "Q3  6164093.84 7861546.02\n",
       "Q4  5713633.91 7567868.17"
      ]
     },
     "execution_count": 23,
     "metadata": {},
     "output_type": "execute_result"
    }
   ],
   "source": [
    "qtr_sales"
   ]
  },
  {
   "cell_type": "code",
   "execution_count": 24,
   "metadata": {},
   "outputs": [
    {
     "data": {
      "text/plain": [
       "Text(0, 0.5, 'Sales')"
      ]
     },
     "execution_count": 24,
     "metadata": {},
     "output_type": "execute_result"
    },
    {
     "data": {
      "image/png": "[encoded data removed]",
      "text/plain": [
       "<Figure size 432x288 with 1 Axes>"
      ]
     },
     "metadata": {},
     "output_type": "display_data"
    }
   ],
   "source": [
    "sales_label = np.arange(0,10000000,2000000)\n",
    "\n",
    "ax = qtr_sales.plot(kind=\"bar\")\n",
    "ax.set_yticks(sales_label)\n",
    "ax.set_yticklabels(sales_label)\n",
    "\n",
    "plt.ylabel(\"Sales\")"
   ]
  },
  {
   "cell_type": "markdown",
   "metadata": {},
   "source": [
    "### 8. Determine the composition of Qtr wise sales in and 2016 with regards to all the Tiers in a pie chart.\n",
    " **(Draw 4 pie charts representing a Quarter for each Tier)**"
   ]
  },
  {
   "cell_type": "code",
   "execution_count": 25,
   "metadata": {},
   "outputs": [],
   "source": [
    "qtr_tiers = sales.pivot_table(index='Qtr',columns='Tier',values='Sales2016')"
   ]
  },
  {
   "cell_type": "code",
   "execution_count": 26,
   "metadata": {},
   "outputs": [
    {
     "data": {
      "text/html": [
       "<div>\n",
       "<style scoped>\n",
       "    .dataframe tbody tr th:only-of-type {\n",
       "        vertical-align: middle;\n",
       "    }\n",
       "\n",
       "    .dataframe tbody tr th {\n",
       "        vertical-align: top;\n",
       "    }\n",
       "\n",
       "    .dataframe thead th {\n",
       "        text-align: right;\n",
       "    }\n",
       "</style>\n",
       "<table border=\"1\" class=\"dataframe\">\n",
       "  <thead>\n",
       "    <tr style=\"text-align: right;\">\n",
       "      <th>Tier</th>\n",
       "      <th>High</th>\n",
       "      <th>Low</th>\n",
       "      <th>Med</th>\n",
       "      <th>Out</th>\n",
       "    </tr>\n",
       "    <tr>\n",
       "      <th>Qtr</th>\n",
       "      <th></th>\n",
       "      <th></th>\n",
       "      <th></th>\n",
       "      <th></th>\n",
       "    </tr>\n",
       "  </thead>\n",
       "  <tbody>\n",
       "    <tr>\n",
       "      <th>Q1</th>\n",
       "      <td>7974.68</td>\n",
       "      <td>5516.47</td>\n",
       "      <td>7654.04</td>\n",
       "      <td>0.00</td>\n",
       "    </tr>\n",
       "    <tr>\n",
       "      <th>Q2</th>\n",
       "      <td>8752.02</td>\n",
       "      <td>5031.61</td>\n",
       "      <td>8758.16</td>\n",
       "      <td>0.00</td>\n",
       "    </tr>\n",
       "    <tr>\n",
       "      <th>Q3</th>\n",
       "      <td>9334.40</td>\n",
       "      <td>5446.42</td>\n",
       "      <td>8197.98</td>\n",
       "      <td>-360.95</td>\n",
       "    </tr>\n",
       "    <tr>\n",
       "      <th>Q4</th>\n",
       "      <td>9386.14</td>\n",
       "      <td>5052.10</td>\n",
       "      <td>8307.60</td>\n",
       "      <td>0.00</td>\n",
       "    </tr>\n",
       "  </tbody>\n",
       "</table>\n",
       "</div>"
      ],
      "text/plain": [
       "Tier    High     Low     Med     Out\n",
       "Qtr                                 \n",
       "Q1   7974.68 5516.47 7654.04    0.00\n",
       "Q2   8752.02 5031.61 8758.16    0.00\n",
       "Q3   9334.40 5446.42 8197.98 -360.95\n",
       "Q4   9386.14 5052.10 8307.60    0.00"
      ]
     },
     "execution_count": 26,
     "metadata": {},
     "output_type": "execute_result"
    }
   ],
   "source": [
    "qtr_tiers"
   ]
  },
  {
   "cell_type": "code",
   "execution_count": 27,
   "metadata": {},
   "outputs": [],
   "source": [
    "qtr_tiers['Out'] = qtr_tiers['Out'].abs()"
   ]
  },
  {
   "cell_type": "code",
   "execution_count": 28,
   "metadata": {},
   "outputs": [
    {
     "data": {
      "text/html": [
       "<div>\n",
       "<style scoped>\n",
       "    .dataframe tbody tr th:only-of-type {\n",
       "        vertical-align: middle;\n",
       "    }\n",
       "\n",
       "    .dataframe tbody tr th {\n",
       "        vertical-align: top;\n",
       "    }\n",
       "\n",
       "    .dataframe thead th {\n",
       "        text-align: right;\n",
       "    }\n",
       "</style>\n",
       "<table border=\"1\" class=\"dataframe\">\n",
       "  <thead>\n",
       "    <tr style=\"text-align: right;\">\n",
       "      <th>Tier</th>\n",
       "      <th>High</th>\n",
       "      <th>Low</th>\n",
       "      <th>Med</th>\n",
       "      <th>Out</th>\n",
       "    </tr>\n",
       "    <tr>\n",
       "      <th>Qtr</th>\n",
       "      <th></th>\n",
       "      <th></th>\n",
       "      <th></th>\n",
       "      <th></th>\n",
       "    </tr>\n",
       "  </thead>\n",
       "  <tbody>\n",
       "    <tr>\n",
       "      <th>Q1</th>\n",
       "      <td>7974.68</td>\n",
       "      <td>5516.47</td>\n",
       "      <td>7654.04</td>\n",
       "      <td>0.00</td>\n",
       "    </tr>\n",
       "    <tr>\n",
       "      <th>Q2</th>\n",
       "      <td>8752.02</td>\n",
       "      <td>5031.61</td>\n",
       "      <td>8758.16</td>\n",
       "      <td>0.00</td>\n",
       "    </tr>\n",
       "    <tr>\n",
       "      <th>Q3</th>\n",
       "      <td>9334.40</td>\n",
       "      <td>5446.42</td>\n",
       "      <td>8197.98</td>\n",
       "      <td>360.95</td>\n",
       "    </tr>\n",
       "    <tr>\n",
       "      <th>Q4</th>\n",
       "      <td>9386.14</td>\n",
       "      <td>5052.10</td>\n",
       "      <td>8307.60</td>\n",
       "      <td>0.00</td>\n",
       "    </tr>\n",
       "  </tbody>\n",
       "</table>\n",
       "</div>"
      ],
      "text/plain": [
       "Tier    High     Low     Med    Out\n",
       "Qtr                                \n",
       "Q1   7974.68 5516.47 7654.04   0.00\n",
       "Q2   8752.02 5031.61 8758.16   0.00\n",
       "Q3   9334.40 5446.42 8197.98 360.95\n",
       "Q4   9386.14 5052.10 8307.60   0.00"
      ]
     },
     "execution_count": 28,
     "metadata": {},
     "output_type": "execute_result"
    }
   ],
   "source": [
    "qtr_tiers"
   ]
  },
  {
   "cell_type": "code",
   "execution_count": 29,
   "metadata": {},
   "outputs": [
    {
     "data": {
      "image/png": "[encoded data removed]",
      "text/plain": [
       "<Figure size 432x288 with 1 Axes>"
      ]
     },
     "metadata": {},
     "output_type": "display_data"
    }
   ],
   "source": [
    "plt.pie(x=qtr_tiers.loc[\"Q1\",:],autopct=\"%1.0f%%\",labels=[\"High\",\"Low\",\"Med\",\"Out\"],colors=['deepskyblue', 'darkorange', 'darkgreen'])\n",
    "plt.title('Qtr1')\n",
    "plt.show()"
   ]
  },
  {
   "cell_type": "code",
   "execution_count": 30,
   "metadata": {},
   "outputs": [
    {
     "data": {
      "image/png": "[encoded data removed]",
      "text/plain": [
       "<Figure size 432x288 with 1 Axes>"
      ]
     },
     "metadata": {},
     "output_type": "display_data"
    }
   ],
   "source": [
    "plt.pie(x=qtr_tiers.loc[\"Q2\",:],autopct=\"%1.0f%%\",labels=[\"High\",\"Low\",\"Med\",\"Out\"],colors=['deepskyblue', 'darkorange', 'darkgreen'])\n",
    "plt.title('Qtr2')\n",
    "plt.show()"
   ]
  },
  {
   "cell_type": "code",
   "execution_count": 31,
   "metadata": {},
   "outputs": [
    {
     "data": {
      "image/png": "[encoded data removed]",
      "text/plain": [
       "<Figure size 432x288 with 1 Axes>"
      ]
     },
     "metadata": {},
     "output_type": "display_data"
    }
   ],
   "source": [
    "plt.pie(x=qtr_tiers.loc[\"Q3\",:],autopct=\"%1.0f%%\",labels=[\"High\",\"Low\",\"Med\",\"Out\"],colors=['deepskyblue', 'darkorange', 'darkgreen','red'])\n",
    "plt.title('Qtr3')\n",
    "plt.show()"
   ]
  },
  {
   "cell_type": "code",
   "execution_count": 32,
   "metadata": {},
   "outputs": [
    {
     "data": {
      "image/png": "[encoded data removed]",
      "text/plain": [
       "<Figure size 432x288 with 1 Axes>"
      ]
     },
     "metadata": {},
     "output_type": "display_data"
    }
   ],
   "source": [
    "plt.pie(x=qtr_tiers.loc[\"Q4\",:],autopct=\"%1.0f%%\",labels=[\"High\",\"Low\",\"Med\",\"Out\"],colors=['deepskyblue', 'darkorange', 'darkgreen'])\n",
    "plt.title('Qtr4')\n",
    "plt.show()"
   ]
  }
 ],
 "metadata": {
  "kernelspec": {
   "display_name": "Python 3",
   "language": "python",
   "name": "python3"
  },
  "language_info": {
   "codemirror_mode": {
    "name": "ipython",
    "version": 3
   },
   "file_extension": ".py",
   "mimetype": "text/x-python",
   "name": "python",
   "nbconvert_exporter": "python",
   "pygments_lexer": "ipython3",
   "version": "3.8.8"
  }
 },
 "nbformat": 4,
 "nbformat_minor": 4
}
